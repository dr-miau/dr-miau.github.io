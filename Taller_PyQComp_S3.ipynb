{
  "nbformat": 4,
  "nbformat_minor": 0,
  "metadata": {
    "colab": {
      "provenance": [],
      "authorship_tag": "ABX9TyNR6p1+2EevzFEIdjQkY1q+",
      "include_colab_link": true
    },
    "kernelspec": {
      "name": "python3",
      "display_name": "Python 3"
    },
    "language_info": {
      "name": "python"
    }
  },
  "cells": [
    {
      "cell_type": "markdown",
      "metadata": {
        "id": "view-in-github",
        "colab_type": "text"
      },
      "source": [
        "<a href=\"https://colab.research.google.com/github/molecular-mar/molecular-mar.github.io/blob/master/Taller_PyQComp_S3.ipynb\" target=\"_parent\"><img src=\"https://colab.research.google.com/assets/colab-badge.svg\" alt=\"Open In Colab\"/></a>"
      ]
    },
    {
      "cell_type": "markdown",
      "source": [
        "# Análisis y visualización de datos"
      ],
      "metadata": {
        "id": "bPd5EeNJeEaz"
      }
    },
    {
      "cell_type": "markdown",
      "source": [
        "## Manipulando datos de tablas con `pandas`\n",
        "\n",
        "Antes de comenzar, cargemos de nuevo el archivo *data.zip* ([liga](https://molecular-mar.github.io/data.zip)). También debemos descomprimirlo:\n",
        "\n"
      ],
      "metadata": {
        "id": "Odv-h9UJeJ0A"
      }
    },
    {
      "cell_type": "code",
      "execution_count": null,
      "metadata": {
        "id": "YFPbKLbVeAsD"
      },
      "outputs": [],
      "source": [
        "!unzip data.zip"
      ]
    },
    {
      "cell_type": "markdown",
      "source": [
        "Es común que trabajemos con datos en formatos de tabla. Un formato de tabla común es el *comma separated values*, *.csv*. El archivo *distance_data_headers.csv* resulta de una simulación de 20 ns, con pasos de 2 fs, guardando la información de trayectoria cada 1000. Al final, contamos con 10,000 registros. Las trayectorias fueron generadas con AMBER, y finalmente las distancias y el archivo en cuestión fueron obtenidos con MDAnalysis.  \n",
        "\n",
        "Importaremos de momento dos bibliotecas. La primera, `numpy`, contiene diversas herramientas para trabajar con arreglos como listas o matrices, incluyendo operaciones matemáticas especializadas (ej. para obtener valores y vectores propios).  \n",
        "\n",
        "La segunda es `pandas`, que nos permite trabajar con tablas. Si bien podemos hacer esto solo con `numpy`, `pandas` puede resultar más intuitivo.\n",
        "\n",
        "\n"
      ],
      "metadata": {
        "id": "RIbAEA1Ne_-P"
      }
    },
    {
      "cell_type": "code",
      "source": [
        "import numpy as np # la instrucción as sirve para indicar un alias\n",
        "import pandas as pd"
      ],
      "metadata": {
        "id": "IrzVb7CUgBn0"
      },
      "execution_count": null,
      "outputs": []
    },
    {
      "cell_type": "markdown",
      "source": [
        "La función `pd.read_csv(distance_data_headers.csv)` nos permite leer directamente archivos *csv*."
      ],
      "metadata": {
        "id": "WseYP1rCiCOH"
      }
    },
    {
      "cell_type": "code",
      "source": [
        "tabla_distancias = pd.read_csv('distance_data_headers.csv')"
      ],
      "metadata": {
        "id": "ruGP41MShkgo"
      },
      "execution_count": null,
      "outputs": []
    },
    {
      "cell_type": "code",
      "source": [
        "tabla_distancias"
      ],
      "metadata": {
        "id": "46e3L5_NhzlZ"
      },
      "execution_count": null,
      "outputs": []
    },
    {
      "cell_type": "code",
      "source": [
        "# Para observar los tipos de nuestras columnas\n",
        "tabla_distancias.dtypes"
      ],
      "metadata": {
        "id": "0guXVkaih0wU"
      },
      "execution_count": null,
      "outputs": []
    },
    {
      "cell_type": "markdown",
      "source": [
        "Algunas formas de acceder a los datos de la tabla:"
      ],
      "metadata": {
        "id": "z2GuUhtljENu"
      }
    },
    {
      "cell_type": "code",
      "source": [
        "# Seleccionar una columna\n",
        "tabla_distancias['THR4_ATP']"
      ],
      "metadata": {
        "id": "2ju-3oeyie0B"
      },
      "execution_count": null,
      "outputs": []
    },
    {
      "cell_type": "code",
      "source": [
        "# Seleccionar una fila (por indice)\n",
        "tabla_distancias.loc[0]"
      ],
      "metadata": {
        "id": "VbuLZFB7i9lb"
      },
      "execution_count": null,
      "outputs": []
    },
    {
      "cell_type": "code",
      "source": [
        "# Seleccionar una fila (por posicion)\n",
        "tabla_distancias.iloc[0]"
      ],
      "metadata": {
        "id": "N7mOPoPtjOKD"
      },
      "execution_count": null,
      "outputs": []
    },
    {
      "cell_type": "code",
      "source": [
        "# Seleccionar una fila (por posicion)\n",
        "tabla_distancias.iloc[0]"
      ],
      "metadata": {
        "id": "kmBNe3ahjsQC"
      },
      "execution_count": null,
      "outputs": []
    },
    {
      "cell_type": "code",
      "source": [
        "# Un elemento de una columna\n",
        "tabla_distancias['THR4_ATP'][0]"
      ],
      "metadata": {
        "id": "ijnW4G3AkW-m"
      },
      "execution_count": null,
      "outputs": []
    },
    {
      "cell_type": "code",
      "source": [
        "# Un fragmento de tabla\n",
        "tabla_distancias[['THR4_ATP','TYR6_ASP']][0:4]"
      ],
      "metadata": {
        "id": "x487pDFekmCU"
      },
      "execution_count": null,
      "outputs": []
    },
    {
      "cell_type": "code",
      "source": [
        "# Primeras o últimas lineas\n",
        "print(tabla_distancias.head()) # Primeras\n",
        "print(tabla_distancias.tail()) # Últimas"
      ],
      "metadata": {
        "id": "uDJKyzCSlXmb"
      },
      "execution_count": null,
      "outputs": []
    },
    {
      "cell_type": "markdown",
      "source": [
        "Podemos hacer ciertos análisis estadísticos:"
      ],
      "metadata": {
        "id": "6KNqqIaTmEBs"
      }
    },
    {
      "cell_type": "code",
      "source": [
        "# Podemos calcular el promedio\n",
        "tabla_distancias.mean()"
      ],
      "metadata": {
        "id": "fc9i8kh7ljXe"
      },
      "execution_count": null,
      "outputs": []
    },
    {
      "cell_type": "code",
      "source": [
        "# Para una descripcion completa\n",
        "tabla_distancias.describe()"
      ],
      "metadata": {
        "id": "DhZjFFvGmSEe"
      },
      "execution_count": null,
      "outputs": []
    },
    {
      "cell_type": "code",
      "source": [
        "# len solo nos regresa el numero de filas\n",
        "len(tabla_distancias)"
      ],
      "metadata": {
        "id": "LlmMsTbAmkHE"
      },
      "execution_count": null,
      "outputs": []
    },
    {
      "cell_type": "code",
      "source": [
        "print(tabla_distancias.size)# Numero total de elementos\n",
        "print(tabla_distancias.shape)# Dimensiones de la tabla"
      ],
      "metadata": {
        "id": "5PMCKw8fm2aI"
      },
      "execution_count": null,
      "outputs": []
    },
    {
      "cell_type": "code",
      "source": [
        "# Hay otras operaciones posibles.\n",
        "tabla_distancias['TYR6_ATP'].sum()"
      ],
      "metadata": {
        "id": "Ng66jJVPnEGT"
      },
      "execution_count": null,
      "outputs": []
    },
    {
      "cell_type": "code",
      "source": [
        "# Escalemos las distancias:\n",
        "tabla_distancias['THR4_ASP'] * 0.5"
      ],
      "metadata": {
        "id": "CKr1uxlboLVG"
      },
      "execution_count": null,
      "outputs": []
    },
    {
      "cell_type": "markdown",
      "source": [
        "## Graficas con matplotlib\n",
        "\n",
        "Con los datos de nuestra tabla, o con datos de listas, podemos realizar gráficas. Para ello, importemos `matplotlib`:"
      ],
      "metadata": {
        "id": "7mDfyzqkpKit"
      }
    },
    {
      "cell_type": "code",
      "source": [
        "import matplotlib.pyplot as plt"
      ],
      "metadata": {
        "id": "4iYTagDpo27I"
      },
      "execution_count": null,
      "outputs": []
    },
    {
      "cell_type": "code",
      "source": [
        "plt.plot(tabla_distancias['TYR6_ASP'])"
      ],
      "metadata": {
        "id": "7fOjL6PFpcrJ"
      },
      "execution_count": null,
      "outputs": []
    },
    {
      "cell_type": "markdown",
      "source": [
        "Podemos añadir diversas características a nuestra gráfica:"
      ],
      "metadata": {
        "id": "irgKCuV2p5Hk"
      }
    },
    {
      "cell_type": "code",
      "source": [
        "etiqueta = tabla_distancias['THR4_ASP'].name # Nombre de la columna\n",
        "plt.figure(figsize=(12,8)) # Definimos las dimensiones del gráfico (en pulgadas)\n",
        "plt.xlabel('Frame') # Titulo eje x\n",
        "plt.ylabel('Distancia (angstrom)') # Titulo eje y\n",
        "# Nota el efecto de label\n",
        "fig_1 = plt.plot(tabla_distancias['THR4_ASP'], label=etiqueta)\n",
        "plt.legend() # Para incluir el recuadro de leyendas\n",
        "\n",
        "plt.savefig(f'{etiqueta}.png', dpi=300) # Para guardar el grafico. dpi para aumentar calidad"
      ],
      "metadata": {
        "id": "dF3zeAmbpors"
      },
      "execution_count": null,
      "outputs": []
    },
    {
      "cell_type": "markdown",
      "source": [
        "Grafiquemos mas de una columna:"
      ],
      "metadata": {
        "id": "L--pTKzJrnFb"
      }
    },
    {
      "cell_type": "code",
      "source": [
        "etiquetas = tabla_distancias.columns # Nombres de la columnas\n",
        "plt.figure(figsize=(8,8))\n",
        "plt.xlabel('Frame')\n",
        "plt.ylabel('Distancia (angstrom)')\n",
        "plt.plot(tabla_distancias['THR4_ATP'], label=etiquetas[1])\n",
        "plt.plot(tabla_distancias['THR4_ASP'], label=etiquetas[2])\n",
        "plt.legend()"
      ],
      "metadata": {
        "id": "1yBfrkh8q35s"
      },
      "execution_count": null,
      "outputs": []
    },
    {
      "cell_type": "markdown",
      "source": [
        "La gráfica con todos los valores y la gráfica cada 100 pasos:"
      ],
      "metadata": {
        "id": "xox08RIwuKn5"
      }
    },
    {
      "cell_type": "code",
      "source": [
        "# Varios detalles a notas:\n",
        "# Usamos iloc para usar notación de indices en lugar del nombre de columna\n",
        "# '--' para usar una linea recortada en la gráfica\n",
        "# En las rebanadas, podemos incluir un tercer valor para indicar el tamaño\n",
        "# del paso.\n",
        "plt.plot(tabla_distancias.iloc[:,0], tabla_distancias.iloc[:,1],'--')\n",
        "plt.plot(tabla_distancias.iloc[0::100,0], tabla_distancias.iloc[0::100,1])"
      ],
      "metadata": {
        "id": "oGKheDlwsrx5"
      },
      "execution_count": null,
      "outputs": []
    },
    {
      "cell_type": "markdown",
      "source": [
        "Gráficos múltiples:"
      ],
      "metadata": {
        "id": "Z55xRBfsvSyq"
      }
    },
    {
      "cell_type": "code",
      "source": [
        "headers = tabla_distancias.columns\n",
        "#Con la siguiente linea definimos cuántos subgráficos tendremos\n",
        "fig, ax = plt.subplots(len(headers)-1, 1, figsize=(10, 10), sharey=True)\n",
        "\n",
        "for col in range(1, len(headers)):\n",
        "    sample = headers[col]\n",
        "\n",
        "    ax[col-1].plot(tabla_distancias.iloc[0::100,0], tabla_distancias.iloc[0::100,col], label=sample)\n",
        "    ax[col-1].set_xlabel('Frame')\n",
        "    ax[col-1].set_ylabel('Distancia (angstrom)')\n",
        "    ax[col-1].legend()\n"
      ],
      "metadata": {
        "id": "tDxjIg0zt9UG"
      },
      "execution_count": null,
      "outputs": []
    },
    {
      "cell_type": "markdown",
      "source": [
        "# Visualizando estructuras con py3Dmol\n",
        "\n",
        "Hay algunas bibliotecas que nos permiten visualizar nuestros sistemas, similar a Jmol o VMD. Aquí veremos la opción de py3Dmol, que es una implementación de la biblioteca 3Dmol de Javascript.\n",
        "\n",
        "Para comenzar, es necesario que instalemos esta biblioteca: el resto de bibliotecas que hemos usado están disponibles por default en Colab.\n",
        "\n",
        "Para instalar una biblioteca:\n",
        "\n",
        "```python\n",
        "!pip install biblioteca\n",
        "```"
      ],
      "metadata": {
        "id": "m_0WvCiMv57v"
      }
    },
    {
      "cell_type": "code",
      "source": [
        "# Intenta cargar la biblioteca sin instalarla\n",
        "import py3Dmol"
      ],
      "metadata": {
        "id": "6b3pt3UXxlPa"
      },
      "execution_count": null,
      "outputs": []
    },
    {
      "cell_type": "code",
      "source": [
        "!pip install py3Dmol"
      ],
      "metadata": {
        "id": "6XoDI3hIvxjU"
      },
      "execution_count": null,
      "outputs": []
    },
    {
      "cell_type": "code",
      "source": [
        "import py3Dmol"
      ],
      "metadata": {
        "id": "mIOyjZRPzmBh"
      },
      "execution_count": null,
      "outputs": []
    },
    {
      "cell_type": "markdown",
      "source": [
        "Vamos a cargar el archivo *buckminsterfullerene.xyz*. Puedes cambiar solo la ruta para ver otra molécula."
      ],
      "metadata": {
        "id": "7mgaUmeOy_Fv"
      }
    },
    {
      "cell_type": "code",
      "source": [
        "# Ruta al archivo\n",
        "archivo_xyz = '/content/buckminsterfullerene.xyz'\n",
        "with open(archivo_xyz) as in_file:\n",
        "    molecula = \"\".join([x for x in in_file])"
      ],
      "metadata": {
        "id": "pNJ8C_-4xq9U"
      },
      "execution_count": null,
      "outputs": []
    },
    {
      "cell_type": "code",
      "source": [
        "# Creamos una vista\n",
        "view = py3Dmol.view(width=400, height=300)\n",
        "# Agregamos nuestro sistema. Podemos especificar el formato.\n",
        "view.addModel(molecula,'xyz')\n",
        "# Añadimos información sobre el estilo\n",
        "view.setStyle({\"stick\":{}})\n",
        "view.setBackgroundColor('0xeeeeee')\n",
        "view.zoomTo()\n",
        "view.show()"
      ],
      "metadata": {
        "id": "6-zgBGn5zf5W"
      },
      "execution_count": null,
      "outputs": []
    },
    {
      "cell_type": "markdown",
      "source": [
        "Otros formatos que puede interpretar son *.pdb* y *.mol*. También es posible consultar directamente las bases de datos PDB y PubChem, usando:\n",
        "\n",
        "\n",
        "\n",
        "```\n",
        "query=’pdb:pdb-id‘\n",
        "\n",
        "query=’cid:pubchem-id‘\n",
        "```\n",
        "\n"
      ],
      "metadata": {
        "id": "FZI8sn397cED"
      }
    },
    {
      "cell_type": "code",
      "source": [
        "p = py3Dmol.view(query='mmtf:1ycr')\n",
        "p.setStyle({'cartoon': {'color':'spectrum'}})\n",
        "p"
      ],
      "metadata": {
        "id": "SDvnAYK9zjAS"
      },
      "execution_count": null,
      "outputs": []
    },
    {
      "cell_type": "code",
      "source": [],
      "metadata": {
        "id": "T7yCiGmx242l"
      },
      "execution_count": null,
      "outputs": []
    }
  ]
}