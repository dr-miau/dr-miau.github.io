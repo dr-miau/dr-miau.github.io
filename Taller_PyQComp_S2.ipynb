{
  "nbformat": 4,
  "nbformat_minor": 0,
  "metadata": {
    "colab": {
      "provenance": [],
      "toc_visible": true,
      "authorship_tag": "ABX9TyOIPXNDq27mPYw8KSlGPvYh",
      "include_colab_link": true
    },
    "kernelspec": {
      "name": "python3",
      "display_name": "Python 3"
    },
    "language_info": {
      "name": "python"
    }
  },
  "cells": [
    {
      "cell_type": "markdown",
      "metadata": {
        "id": "view-in-github",
        "colab_type": "text"
      },
      "source": [
        "<a href=\"https://colab.research.google.com/github/molecular-mar/molecular-mar.github.io/blob/master/Taller_PyQComp_S2.ipynb\" target=\"_parent\"><img src=\"https://colab.research.google.com/assets/colab-badge.svg\" alt=\"Open In Colab\"/></a>"
      ]
    },
    {
      "cell_type": "markdown",
      "source": [
        "# Lectura de archivos"
      ],
      "metadata": {
        "id": "gCfqNEJg4Bzq"
      }
    },
    {
      "cell_type": "markdown",
      "source": [
        "## Trabajando con archivos\n",
        "\n",
        "Una de las tareas más comunes al realizar investigación es el análisis de datos. La salida de los programas de Química Computacional contienen grandes cantidades de información, tanto numérica como textual, que necesitamos analizar. Podemos auxiliarnos de Python para realizar estas tareas."
      ],
      "metadata": {
        "id": "ZPRN6B__4GpC"
      }
    },
    {
      "cell_type": "markdown",
      "source": [
        "### Archivos en el equipo / Comandos\n",
        "\n",
        "Podemos ver nuestros archivos usando el comando `ls`. *NOTA:* Este comando es un comando de la terminal, no de Python, pero funciona de forma directa en las Jupyter Notebooks."
      ],
      "metadata": {
        "id": "k11FpaqF4yfz"
      }
    },
    {
      "cell_type": "code",
      "execution_count": null,
      "metadata": {
        "id": "H2ToYO0I2lWj"
      },
      "outputs": [],
      "source": [
        "  ls sample_data"
      ]
    },
    {
      "cell_type": "markdown",
      "source": [
        "No todos los comandos de la terminal pueden usarse de esta forma. Para usar otros, es necesario incluir `!` al inicio."
      ],
      "metadata": {
        "id": "GzgneuwF5kU5"
      }
    },
    {
      "cell_type": "code",
      "source": [
        "!ls sample_data\n",
        "!pwd"
      ],
      "metadata": {
        "id": "tSTXQa9a5PrT"
      },
      "execution_count": null,
      "outputs": []
    },
    {
      "cell_type": "markdown",
      "source": [
        "De momento no tenemos archivos de interés en nuestra *máquina virtual*. Vamos a descargar algunos de la siguiente [liga](https://molecular-mar.github.io/data.zip).\n",
        "\n",
        "Luego, seleccionemos el ícono de carpeta que encontramos a la izquierda. Podemos arrastrar nuestro archivo *zip*, y usando la siguiente celda descomprimirlo. También podríamos subir los archivos descomprimidos.\n"
      ],
      "metadata": {
        "id": "YotaGoZ96KD8"
      }
    },
    {
      "cell_type": "code",
      "source": [
        "!unzip data.zip"
      ],
      "metadata": {
        "id": "RQHb05EG529C"
      },
      "execution_count": null,
      "outputs": []
    },
    {
      "cell_type": "markdown",
      "source": [
        "Supongamos que deseamos usar el archivo *ethanol.out*, ubicado en la carpeta *outfiles*. Para ello haremos uso de una *biblioteca*, un compendio de código en Python con variables y funciones. Para poder usar una biblioteca usamos `import biblioteca`.\n",
        "\n",
        "En específico, usaremos la biblioteca `os`, que incluye una función para definir una ruta de un archivo, `os.path.join`.\n",
        "\n",
        "Si bien podríamos usar solo una variable string ('outfiles/ethanol.out'), `os.path.join` genera rutas adaptables al Sistema Operativo o OS donde ejecutamos el código (en Windows las rutas usan diagonales `\\` en lugar de '/', entre otras diferencias)."
      ],
      "metadata": {
        "id": "jOcTwBMVDEOa"
      }
    },
    {
      "cell_type": "code",
      "source": [
        "import os\n",
        "\n",
        "ethanol_file = os.path.join('outfiles', 'ethanol.out')\n",
        "print(ethanol_file)"
      ],
      "metadata": {
        "id": "g_uOBOUB7iXp"
      },
      "execution_count": null,
      "outputs": []
    },
    {
      "cell_type": "code",
      "source": [
        "#Otro ejemplo de biblioteca\n",
        "import math # Incluye funciones y variables matemáticas\n",
        "print(math.pi)\n",
        "print(math.sqrt(2))"
      ],
      "metadata": {
        "id": "CQ13lj50FNFo"
      },
      "execution_count": null,
      "outputs": []
    },
    {
      "cell_type": "markdown",
      "source": [
        "Como habrás notado, para usar una función de una biblioteca importada debemos escribir el nombre de la biblioteca, seguido del nombre de la función, separando por un punto.\n",
        "\n",
        "En el caso de `os.path.join`, podemos pensar que en la biblioteca `os` hay un grupo de funciones `path` que incluyen la función `join`."
      ],
      "metadata": {
        "id": "krn4jc8DFoAt"
      }
    },
    {
      "cell_type": "markdown",
      "source": [
        "## Lectura de archivos\n",
        "\n",
        "Para leer un archivo, primero debemos abrirlo. La función `open(archivo,r)` genera un objeto de tipo *archivo* en el modo *lectura* (podemos abrirlo en otros modos, incluyendo *escritura*). Una forma de ver la documentación de una función es colocando el cursor sobre dicha función.\n",
        "\n",
        "Una vez que abrimos que abrimos el archivo, asociandolo a una variable, podemos *leer* el archivo en su totalidad y almacenar su contenido. Esto podemos lograrlo usando la función `readlines()`, propia de los objetos tipo `archivo`, y guardando el resultado en una variable. Dicho resultado es una lista con el contenido linea por linea del archivo almacenado como `strings`.\n",
        "\n",
        "Suele recomendarse abrir archivos usando `with open(archivo) as objecto_archivo:`, identando las acciones que se realizarán sobre el archivo, ya que de esta forma nos aseguramos de *cerrar* el archivo una vez que hemos terminado de usarlo."
      ],
      "metadata": {
        "id": "eLnd0vIDDY5N"
      }
    },
    {
      "cell_type": "code",
      "source": [
        "with open(ethanol_file,\"r\") as outfile:\n",
        "    data = outfile.readlines()"
      ],
      "metadata": {
        "id": "JjWTEM8gFngL"
      },
      "execution_count": null,
      "outputs": []
    },
    {
      "cell_type": "code",
      "source": [
        "#Verifica el numero de lineas del archivo"
      ],
      "metadata": {
        "id": "2eq9PlWwHz94"
      },
      "execution_count": null,
      "outputs": []
    },
    {
      "cell_type": "markdown",
      "source": [
        "## Buscando patrones\n",
        "\n",
        "Podemos usar un ciclo For para buscar una linea que cumpla un cierto patrón. El operador lógico `texto in string` regresa `True` si en una *string* se encuentra un *texto* esperado. Busquemos *Final Energy* en el archivo de etanol:"
      ],
      "metadata": {
        "id": "sX-2FY4iInGG"
      }
    },
    {
      "cell_type": "code",
      "source": [
        "for line in data:\n",
        "    if 'Final Energy' in line:\n",
        "        energy_line = line\n",
        "        print(energy_line)\n"
      ],
      "metadata": {
        "id": "fFxI8RtBHofG"
      },
      "execution_count": null,
      "outputs": []
    },
    {
      "cell_type": "markdown",
      "source": [
        "Imprimimos de esta manera el *string* de la linea correspondiente. Podemos dividir el *string* usando `string.split()`:"
      ],
      "metadata": {
        "id": "jXTuKWctJva6"
      }
    },
    {
      "cell_type": "code",
      "source": [
        "energy_line.split() # Por default se divide por espacios."
      ],
      "metadata": {
        "id": "Dsc_07HhJhSn"
      },
      "execution_count": null,
      "outputs": []
    },
    {
      "cell_type": "code",
      "source": [
        "# El argumento de split determina que usamos para dividir.\n",
        "energy_line.split(':')"
      ],
      "metadata": {
        "id": "ETRNRfTiMlot"
      },
      "execution_count": null,
      "outputs": []
    },
    {
      "cell_type": "markdown",
      "source": [
        "Considerando que el formato de este archivo es estándar, podemos determinar que la energía siempre es el último elemento en la lista luego del `split`."
      ],
      "metadata": {
        "id": "Q3QI7WzeNEzi"
      }
    },
    {
      "cell_type": "code",
      "source": [
        "final_energy = energy_line.split()[-1]\n",
        "print(final_energy) # Verifica el tipo, y cambialo de ser necesario"
      ],
      "metadata": {
        "id": "GtWZyGsdM46A"
      },
      "execution_count": null,
      "outputs": []
    },
    {
      "cell_type": "markdown",
      "source": [
        "## Buscando número de linea\n",
        "\n",
        "En general, necesitamos tener cierto conocimiento del archivo que deseamos analizar. El archivo *ethanol.out* tiene un bloque con la información de geometría del sistema, precedido por la linea: *Center X Y Z Mass*.\n",
        "\n",
        "Podemos buscar en qué linea aparece un patrón dado. Para ello, usaremos el siguiente ciclo For:"
      ],
      "metadata": {
        "id": "tMepbI4AN_Iu"
      }
    },
    {
      "cell_type": "code",
      "source": [
        "for linenum, line in enumerate(data):\n",
        "    if 'Center' in line:\n",
        "        match_line = linenum\n",
        "        print(linenum)\n",
        "        print(line)"
      ],
      "metadata": {
        "id": "5QXeOxZeNb5l"
      },
      "execution_count": null,
      "outputs": []
    },
    {
      "cell_type": "markdown",
      "source": [
        "La función `enumerate(lista)` genera a partir de una lista un objeto que incluye además el índice de cada elemento. Esto nos permite tener un For sobre dos variables: `linenum`, que lleva el índice, y `line` que tiene el valor en la lista. Esto es viable porque ambas cantidades tienen el mismo número de elementos.\n",
        "\n",
        "\n",
        "Podemos usar esta información para recuperar información respecto a esta linea:"
      ],
      "metadata": {
        "id": "-QWaHq1GPQjy"
      }
    },
    {
      "cell_type": "code",
      "source": [
        "print(data[match_line])\n",
        "print(data[match_line+1])\n",
        "print(data[match_line+2])"
      ],
      "metadata": {
        "id": "EJSf_yEbOuLq"
      },
      "execution_count": null,
      "outputs": []
    },
    {
      "cell_type": "markdown",
      "source": [
        "Para busquedas más elaboradas (por ejemplo, buscar lineas que comiencen con una letra mayuscula acompañada de tres números), podemos hacer uso de expresiones regulares. Para leer más al respecto, sigue esta [liga](https://www.w3schools.com/python/python_regex.asp)."
      ],
      "metadata": {
        "id": "5av3zwP0RxF9"
      }
    },
    {
      "cell_type": "markdown",
      "source": [
        "# ❓Ejercicio sugerido\n",
        "\n",
        "El archivo *sapt.out* tiene información sobre la energía de interacción de un complejo eteno-etino, reportando diferentes contribuciones: *electrostatics*, *induction*, *exchange* y *dispersion*.\n",
        "* Lee por separado el archivo para identificar que patrón/patrones buscar.\n",
        "* Imprime los valores de cada contribución, así como la suma de ellas.\n",
        "* La salida de tu código debería ser algo similar a:\n",
        "\n",
        "```\n",
        "Electrostatics : -2.25850118 kcal/mol\n",
        "Exchange : 2.27730198 kcal/mol\n",
        "Induction : -0.5216933 kcal/mol\n",
        "Dispersion : -0.9446677 kcal/mol\n",
        "Total Energy : 1.4475602000000003 kcal/mol\n",
        "```\n",
        "\n"
      ],
      "metadata": {
        "id": "bis05FKvSswP"
      }
    },
    {
      "cell_type": "markdown",
      "source": [
        "# Leyendo varios archivos\n",
        "\n",
        "Buscar y copiar un valor de un archivo *a mano* puede resultar sencillo, pero se complica si necesitamos analizar grandes cantidades de archivos. Un primer paso para realizar esto es tener nuestros archivos a analizar en un lugar común (no es indispensable, pero es de gran ayuda). En la carpeta *outfiles* tenemos distintos archivos de salida.\n",
        "\n",
        "Primero, generaremos una ruta de archivo que contemple todos los archivos *.out* en el folder *outfiles*:"
      ],
      "metadata": {
        "id": "xPZmJI8rU5Qb"
      }
    },
    {
      "cell_type": "code",
      "source": [
        "file_location = os.path.join('outfiles', '*.out') # Nota el comodin *\n",
        "print(file_location)"
      ],
      "metadata": {
        "id": "nIw04Sk0RMg_"
      },
      "execution_count": null,
      "outputs": []
    },
    {
      "cell_type": "markdown",
      "source": [
        "Luego, usaremos una función de la biblioteca `glob`, lo que nos ayudará a recuperar las rutas de los archivos contemplados en *file_location*:"
      ],
      "metadata": {
        "id": "WxiPDwDhWloN"
      }
    },
    {
      "cell_type": "code",
      "source": [
        "import glob\n",
        "filenames = glob.glob(file_location)\n",
        "print(filenames)"
      ],
      "metadata": {
        "id": "8RgSJArpWWXA"
      },
      "execution_count": null,
      "outputs": []
    },
    {
      "cell_type": "markdown",
      "source": [
        "Ahora podemos recuperar la energía final de cada sistema:"
      ],
      "metadata": {
        "id": "ODIbj9-UW7h8"
      }
    },
    {
      "cell_type": "code",
      "source": [
        "#Ciclo sobre los archivos\n",
        "for f in filenames:\n",
        "    with open(f,'r') as outfile:\n",
        "       data = outfile.readlines()\n",
        "    #Ciclo sobre las lineas del archivo.\n",
        "    for line in data:\n",
        "        if 'Final Energy' in line:\n",
        "            energy_line = line\n",
        "            words = energy_line.split()\n",
        "            energy = float(words[3])\n",
        "            print(energy)\n"
      ],
      "metadata": {
        "id": "oNtvCKlAW24q"
      },
      "execution_count": null,
      "outputs": []
    },
    {
      "cell_type": "code",
      "source": [
        "# Para incluir el nombre de la molecula\n",
        "for f in filenames:\n",
        "    # Recuperamos el nombre de la molecula\n",
        "    # os.path.basename(f) regresa el nombre del archivo\n",
        "    file_name = os.path.basename(f)\n",
        "    # Usamos split para separar de la extension\n",
        "    split_filename = file_name.split('.')\n",
        "    molecule_name = split_filename[0]\n",
        "\n",
        "    # Lectura del archivo\n",
        "    with open(f,'r') as outfile:\n",
        "       data = outfile.readlines()\n",
        "\n",
        "    # Ciclo sobre las lineas\n",
        "    for line in data:\n",
        "        if 'Final Energy' in line:\n",
        "            energy_line = line\n",
        "            words = energy_line.split()\n",
        "            energy = float(words[3])\n",
        "            print(molecule_name, energy)\n"
      ],
      "metadata": {
        "id": "aTbckRZSXlbH"
      },
      "execution_count": null,
      "outputs": []
    },
    {
      "cell_type": "markdown",
      "source": [
        "## Escritura en un archivo\n",
        "\n",
        "Si deseamos escribir la información recuperada en un nuevo archivo, podemos usar `open`, con la opción `'w+'`. El simbolo *+* indica que el archivo se crearea si no existe.\n",
        "\n",
        "También podemos usar *a* (append) en lugar de *w* (write). Con *a* agregaremos el nuevo contenido al final del archvo, mientras que con *w* sobrescribiremos el archivo.\n",
        "\n",
        "```python\n",
        "datafile = open('file_name.dat', 'w+')\n",
        "```\n",
        "\n",
        "Para no agregar un nivel extra de identación, usaremos `open` y `close` en lugar de `with` en este caso.\n",
        "\n",
        "Python solo pude escribir *strings* a un archivo. Para generar una *string* formateada, podemos usar las *f-strings*:"
      ],
      "metadata": {
        "id": "HCVgz9ktYqq9"
      }
    },
    {
      "cell_type": "code",
      "source": [
        "# La f-string comienza por una f, seguida del texto entre comillas.\n",
        "# En una f-string puedes usar variables entre llaves. Nota además\n",
        "# los caracteres especiales \\n (nueva linea) y \\t (tabulador)\n",
        "print(f'{molecule_name} \\t {energy} \\n')"
      ],
      "metadata": {
        "id": "ErumGdb3YUZY"
      },
      "execution_count": null,
      "outputs": []
    },
    {
      "cell_type": "markdown",
      "source": [
        "Incluyendo la escritura del archivo, tendríamos:"
      ],
      "metadata": {
        "id": "OelN9dEbbYG6"
      }
    },
    {
      "cell_type": "code",
      "source": [
        "# Abrimos el archivo a generar\n",
        "datafile = open('energies.dat','w+')\n",
        "for f in filenames:\n",
        "    # Recuperamos el nombre de la molecula\n",
        "    file_name = os.path.basename(f)\n",
        "    split_filename = file_name.split('.')\n",
        "    molecule_name = split_filename[0]\n",
        "\n",
        "    # Leemos las lineas\n",
        "    outfile = open(f,'r')\n",
        "    data = outfile.readlines()\n",
        "    outfile.close()\n",
        "\n",
        "    # Ciclo sobre las lineas\n",
        "    for line in data:\n",
        "        if 'Final Energy' in line:\n",
        "            energy_line = line\n",
        "            words = energy_line.split()\n",
        "            energy = float(words[3])\n",
        "            datafile.write(F'{molecule_name} \\t {energy} \\n')\n",
        "# Muy importante, cerrar el archivo.\n",
        "datafile.close()\n"
      ],
      "metadata": {
        "id": "dPPFdSdma3uT"
      },
      "execution_count": null,
      "outputs": []
    },
    {
      "cell_type": "markdown",
      "source": [
        "Observa el nuevo archivo generado."
      ],
      "metadata": {
        "id": "Tymh4-KJcCiR"
      }
    },
    {
      "cell_type": "code",
      "source": [
        "ls -lrt"
      ],
      "metadata": {
        "id": "AP0xNqj5cBDw"
      },
      "execution_count": null,
      "outputs": []
    },
    {
      "cell_type": "markdown",
      "source": [
        "# ❓ Ejercicio sugerido\n",
        "\n",
        "Localiza el archivo 03_Prod.mdout, el cuál es un archivo de salida de Amber.\n",
        "\n",
        "En dicho archivo encontrarás información con el siguiente formato:\n",
        "\n",
        "```\n",
        " NSTEP =      100   TIME(PS) =      20.200  TEMP(K) =   296.43  PRESS =  -300.8\n",
        " Etot   =     -4585.1049  EKtot   =      1129.2368  EPtot      =     -5714.3417\n",
        " BOND   =         1.5160  ANGLE   =         6.9846  DIHED      =        11.7108\n",
        " 1-4 NB =         4.3175  1-4 EEL =        49.9911  VDWAALS    =       882.6741\n",
        " EELEC  =     -6671.5358  EHBOND  =         0.0000  RESTRAINT  =         0.0000\n",
        " EKCMT  =       583.7810  VIRIAL  =       786.8823  VOLUME     =     31270.0410\n",
        "                                                    Density    =         0.6104\n",
        " Ewald error estimate:   0.3214E-03\n",
        " ------------------------------------------------------------------------------\n",
        "```\n",
        "\n",
        "Genera a partir de este archivo uno nuevo que contenga los valores de energía total (*Etot*).\n",
        "\n",
        "\n"
      ],
      "metadata": {
        "id": "N-RDOe-HcR7z"
      }
    },
    {
      "cell_type": "code",
      "source": [],
      "metadata": {
        "id": "lZrt4vG1cGDt"
      },
      "execution_count": null,
      "outputs": []
    }
  ]
}