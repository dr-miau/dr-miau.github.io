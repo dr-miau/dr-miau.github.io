{
  "nbformat": 4,
  "nbformat_minor": 0,
  "metadata": {
    "colab": {
      "provenance": [],
      "include_colab_link": true
    },
    "kernelspec": {
      "name": "python3",
      "display_name": "Python 3"
    },
    "language_info": {
      "name": "python"
    }
  },
  "cells": [
    {
      "cell_type": "markdown",
      "metadata": {
        "id": "view-in-github",
        "colab_type": "text"
      },
      "source": [
        "<a href=\"https://colab.research.google.com/github/molecular-mar/molecular-mar.github.io/blob/master/Soluciones_Repaso1_PAQ24I.ipynb\" target=\"_parent\"><img src=\"https://colab.research.google.com/assets/colab-badge.svg\" alt=\"Open In Colab\"/></a>"
      ]
    },
    {
      "cell_type": "markdown",
      "source": [
        "### Notas adicionales\n",
        "\n",
        "* Los strings (textos) pueden ser convertidos en una lista usando el método `split(sep=)`, indicando en el argumento `sep` que caracter será utilizado para separar la cadena. Por defecto, se utiliza un espacio en blanco como separador.\n",
        "\n",
        "Por ejemplo, si tenemos el siguiente string:"
      ],
      "metadata": {
        "id": "sn2upNWtuzCK"
      }
    },
    {
      "cell_type": "code",
      "source": [
        "saludos = \"hola,adios,ciao,arrivederci\""
      ],
      "metadata": {
        "id": "-DdAhwo_rTCF"
      },
      "execution_count": 2,
      "outputs": []
    },
    {
      "cell_type": "markdown",
      "source": [
        "Podemos crear una lista de las palabras separadas por comas usando el método `split`:"
      ],
      "metadata": {
        "id": "56kmzessvhY6"
      }
    },
    {
      "cell_type": "code",
      "source": [
        "palabras = saludos.split(sep=\",\") # split no modifica el string original. Es necesario guardar la lista generada en otra variable.\n",
        "print(\"texto:\",saludos)\n",
        "print(\"lista:\",palabras) # Nota como saludos permanece igual, y palabras es ahora una lista"
      ],
      "metadata": {
        "id": "MXOfihgYrnHC",
        "outputId": "29c1fe92-6699-451c-f6ec-a0f1f6344c16",
        "colab": {
          "base_uri": "https://localhost:8080/"
        }
      },
      "execution_count": 5,
      "outputs": [
        {
          "output_type": "stream",
          "name": "stdout",
          "text": [
            "texto: hola,adios,ciao,arrivederci\n",
            "lista: ['hola', 'adios', 'ciao', 'arrivederci']\n"
          ]
        }
      ]
    },
    {
      "cell_type": "markdown",
      "source": [
        "* El operador `in` nos permite verificar si un dato `x` se encuentra en la colección `Y` (se utiliza como: `x in Y`). Esta operación, al igual que otras comparaciones, da como resultado un booleano y puede usarse como condición:"
      ],
      "metadata": {
        "id": "dsb6vzPEv7_x"
      }
    },
    {
      "cell_type": "code",
      "source": [
        "print('hola' in saludos) # Imprimimos el resultado de preguntar: ¿Está 'hola' en la colección 'saludos'?\n",
        "if 'ciao' in saludos: # Podemos usar esto para controlar el flujo del programa.\n",
        "  print('Hay un italiano entre nosotros') # Intenta cambiando `ciao` por algo distinto"
      ],
      "metadata": {
        "colab": {
          "base_uri": "https://localhost:8080/"
        },
        "id": "lH0xErmuwrMP",
        "outputId": "5dc6de39-ba15-410d-d876-f942a6887a71"
      },
      "execution_count": 6,
      "outputs": [
        {
          "output_type": "stream",
          "name": "stdout",
          "text": [
            "True\n",
            "Hay un italiano entre nosotros\n"
          ]
        }
      ]
    },
    {
      "cell_type": "markdown",
      "source": [
        "# Repaso Programación Aplicada a la Química\n",
        "\n",
        "Los siguientes ejercicios servirán para practicar los temas: Ciclos, Condicionales y Funciones. No forman parte de la evaluación sumativa.\n",
        "Las soluciones presentadas no son únicas, pero dan como resultado la respuesta esperada (el formato puede variar).\n",
        "\n",
        "## Problema 1: Especies cargadas\n",
        "\n",
        "1. Escribe un código que, a partir del número de protones y de electrones, indique si el sistema es un anión, un catión o es neutro. También indica cuando el valor no tiene sentido físico.\n",
        "2. Adapta el punto anterior para utilizarlo en una función.\n",
        "3. Usemos el siguiente formato para indicar la carga de una especie química: *formula_química{#carga/+ o -}*. Por ejemplo, para $[Cu(NH_3)_6]^{2-}$ escribiriamos *Cu(NH3)6{2-}*. Escribe un código que recupere solamente el signo asociado a la carga. Con base en esto, crea una función modificada de la anterior que use este tipo de formato.\n",
        "4. La siguiente lista contiene una serie de especies neutras o cargadas:\n",
        "\n",
        "```python\n",
        "especies = ['Cl{-}', 'NH4{+}', 'H2O2', 'NO3{-}', 'Ca{2+}', 'SO4{2-}', 'N2O', 'K{+}', 'Fe{3+}', 'OH{-}', 'MnO4{-}', 'CuSO2', 'CH3COO{-}', 'CO3{2-}', 'Na{+}']\n",
        "```\n",
        "\n",
        "Escribe un código que indique cuantos aniones, cationes y especies neutras tiene la lista.\n",
        "\n"
      ],
      "metadata": {
        "id": "Qg-7xAmGv4LK"
      }
    },
    {
      "cell_type": "code",
      "source": [
        "# Punto 1.\n",
        "\n",
        "# Ambas variables deben contener datos numéricos\n",
        "n_protones = 1\n",
        "n_electrones = 1\n",
        "\n",
        "# Resulta práctico primero verificar si los valores indicados tienen sentido:\n",
        "if n_protones >= 1 and n_electrones >= 0: # Si tienen sentido, continuamos\n",
        "    if n_electrones < n_protones:\n",
        "      print(\"Catión\")\n",
        "    elif n_electrones == n_protones:\n",
        "      print(\"Neutro\")\n",
        "    else:\n",
        "      print(\"Anión\")\n",
        "else:\n",
        "  print(\"Verifica el número de protones o de electrones\")"
      ],
      "metadata": {
        "colab": {
          "base_uri": "https://localhost:8080/"
        },
        "id": "MCIpVnVbxiyj",
        "outputId": "6ef99c58-3256-4c22-8c67-23ae201908c1"
      },
      "execution_count": 17,
      "outputs": [
        {
          "output_type": "stream",
          "name": "stdout",
          "text": [
            "Neutro\n"
          ]
        }
      ]
    },
    {
      "cell_type": "code",
      "source": [
        "# Punto 2\n",
        "\n",
        "# Es importante notar que datos queremos modificar y ponerlos como argumentos.\n",
        "def carga_especie(n_protones, n_electrones):\n",
        "  if n_protones >= 1 and n_electrones >= 0: # Si tienen sentido, continuamos\n",
        "    if n_electrones < n_protones:\n",
        "      print(\"Catión\")\n",
        "    elif n_electrones == n_protones:\n",
        "      print(\"Neutro\")\n",
        "    else:\n",
        "      print(\"Anión\")\n",
        "  else:\n",
        "    print(\"Verifica el número de protones o de electrones\")\n",
        "\n",
        "# Probamos la función:\n",
        "carga_especie(1,1)"
      ],
      "metadata": {
        "colab": {
          "base_uri": "https://localhost:8080/"
        },
        "id": "s5mDJNdDzFfH",
        "outputId": "3d92a8b6-bafe-4ce9-aa8a-d58611110984"
      },
      "execution_count": 19,
      "outputs": [
        {
          "output_type": "stream",
          "name": "stdout",
          "text": [
            "Neutro\n"
          ]
        }
      ]
    },
    {
      "cell_type": "code",
      "source": [
        "# Punto 3\n",
        "\n",
        "#Primero, pensemos en como solo recuperar el signo. Usemos algunos ejemplos\n",
        "sistema_a = \"Cu(NH3)6{2-}\" # anion\n",
        "sistema_c = \"Cu(NH3)6{2+}\" # cation\n",
        "sistema_n = \"Cu(NH3)6\" # neutro\n",
        "\n",
        "#Una forma:\n",
        "signo = sistema_n[-2] # Notemos que siempre el penúltimo caracter es el signo\n",
        "print(signo) # ...excepto si nuestro sistema es neutro"
      ],
      "metadata": {
        "colab": {
          "base_uri": "https://localhost:8080/"
        },
        "id": "nvRiyWv30DCp",
        "outputId": "e5bf8dd9-5585-4ab9-b0b6-5592ea506bc0"
      },
      "execution_count": 25,
      "outputs": [
        {
          "output_type": "stream",
          "name": "stdout",
          "text": [
            ")\n",
            "Neutro\n"
          ]
        }
      ]
    },
    {
      "cell_type": "code",
      "source": [
        "# Continua punto 3\n",
        "\n",
        "# Podemos entonces proponer:\n",
        "\n",
        "sistema_prueba = sistema_a\n",
        "if sistema_prueba[-2] == '-':\n",
        "  print('Anión')\n",
        "elif sistema_prueba[-2] == '+':\n",
        "  print('Catión')\n",
        "else:\n",
        "  print('Neutro')"
      ],
      "metadata": {
        "colab": {
          "base_uri": "https://localhost:8080/"
        },
        "id": "-6KzIKBi0C27",
        "outputId": "6b49d566-22af-450f-fa85-3c3b2bf1ec8e"
      },
      "execution_count": 29,
      "outputs": [
        {
          "output_type": "stream",
          "name": "stdout",
          "text": [
            "Anión\n"
          ]
        }
      ]
    },
    {
      "cell_type": "code",
      "source": [
        "# Continua punto 3\n",
        "\n",
        "# En forma de función:\n",
        "def carga_especie_2(sistema_prueba):\n",
        "  # No verificaremos si el texto tiene sentido\n",
        "  # Esta vez, usemos return para indicar el tipo\n",
        "  if sistema_prueba[-2] == '-':\n",
        "    return 'Anión'\n",
        "  elif sistema_prueba[-2] == '+':\n",
        "    return 'Catión'\n",
        "  else:\n",
        "    return 'Neutro'\n",
        "# Nota: usamos sistema_prueba como argumento por facilidad,\n",
        "# para solo copiar/pegar el código anterior. Pero podriamos\n",
        "# usar otro nombre de argumento, cuidando de cambiar también\n",
        "# en el contenido de la función.\n",
        "\n",
        "# Verifiquemos\n",
        "print(carga_especie_2(sistema_n))\n",
        "print(carga_especie_2(sistema_a))\n",
        "print(carga_especie_2(sistema_c))"
      ],
      "metadata": {
        "colab": {
          "base_uri": "https://localhost:8080/"
        },
        "id": "h-nva3_N2uzn",
        "outputId": "e73afd9d-5d5f-4a44-c491-eac7e8135939"
      },
      "execution_count": 30,
      "outputs": [
        {
          "output_type": "stream",
          "name": "stdout",
          "text": [
            "Neutro\n",
            "Anión\n",
            "Catión\n"
          ]
        }
      ]
    },
    {
      "cell_type": "code",
      "source": [
        "# Punto 4\n",
        "\n",
        "# Aquí aprovecharemos el usar return en nuestra última función.\n",
        "especies = ['Cl{-}', 'NH4{+}', 'H2O2', 'NO3{-}', 'Ca{2+}', 'SO4{2-}', 'N2O', 'K{+}', 'Fe{3+}', 'OH{-}', 'MnO4{-}', 'CuSO2', 'CH3COO{-}', 'CO3{2-}', 'Na{+}']\n",
        "\n",
        "# Creamos algunas variables para acumular el número de cationes, de aniones y de especies neutras\n",
        "n_cationes = 0\n",
        "n_aniones = 0\n",
        "n_neutras = 0\n",
        "\n",
        "# Ciclo sobre cada especie\n",
        "for especie in especies:\n",
        "  tipo = carga_especie_2(especie)\n",
        "  if tipo == \"Anión\":\n",
        "    n_aniones += 1\n",
        "  elif tipo == \"Catión\":\n",
        "    n_cationes += 1\n",
        "  else:\n",
        "    n_neutras += 1\n",
        "\n",
        "# Al final, imprimamos algunos mensajes\n",
        "print('N. aniones:', n_aniones)\n",
        "print('N. cationes:', n_cationes)\n",
        "print('N. especies neutras:', n_neutras)"
      ],
      "metadata": {
        "colab": {
          "base_uri": "https://localhost:8080/"
        },
        "id": "tHWhUGpJ3aai",
        "outputId": "6dbb0697-a571-4ae9-c8cf-eccc9616e701"
      },
      "execution_count": 31,
      "outputs": [
        {
          "output_type": "stream",
          "name": "stdout",
          "text": [
            "N. aniones: 7\n",
            "N. cationes: 5\n",
            "N. especies neutras: 3\n"
          ]
        }
      ]
    },
    {
      "cell_type": "markdown",
      "source": [
        "## Problema 2: ADN\n",
        "\n",
        "0. Los nucleótidos del ADN son adenina (A), guanina (G), citosina (C) y timina (T). Sabemos que solo pueden formarse pares *A-T* y *G-C*. En los siguientes ejercicios, usa las siguientes cadenas de ADN como ejemplo:\n",
        "```\n",
        "cadena_adn_1 = 'ATGCATCGTAGCATGC'\n",
        "cadena_adn_2 = 'GCTAGCATCGTAGCTA'\n",
        "```\n",
        "1. Escribe un código que indique cuál es el último nucleótido de una cadena dada, así como el número de nucleótidos. La cadena estará dada como texto.\n",
        "2. Crea una función que verifique que la cadena es válida (que solo esté formada por los nucleótidos posibles), imprimiendo un mensaje si es válida o no.\n",
        "3. Un codón está formado por 3 nucleótidos. Escribe código que indique el número máximo de nucleótidos de una cadena de ADN.\n",
        "4. Escribe un código que, a partir de una cadena de ADN, de como resultado la cadena complementaria.\n",
        "5. Escribe un código que verifique que dos cadenas de ADN son complementarias.\n",
        "\n"
      ],
      "metadata": {
        "id": "1gTfIjFFQI-H"
      }
    },
    {
      "cell_type": "code",
      "source": [
        "# Punto 0\n",
        "\n",
        "# Solo definamos las cadenas:\n",
        "cadena_adn_1 = 'ATGCATCGTAGCATGC'\n",
        "cadena_adn_2 = 'GCTAGCATCGTAGCTA'"
      ],
      "metadata": {
        "id": "892WAv6G41QO"
      },
      "execution_count": 33,
      "outputs": []
    },
    {
      "cell_type": "code",
      "source": [
        "# Punto 1\n",
        "\n",
        "#El último nucleótido siempre tiene como índice -1\n",
        "print(\"Para la cadena 1:\")\n",
        "print(\"Último nucleótido\", cadena_adn_1[-1], \". Tamaño: \", len(cadena_adn_1))\n",
        "print(\"Para la cadena 2:\")\n",
        "print(\"Último nucleótido\", cadena_adn_2[-1], \". Tamaño: \", len(cadena_adn_2))"
      ],
      "metadata": {
        "colab": {
          "base_uri": "https://localhost:8080/"
        },
        "id": "WytdodQt498v",
        "outputId": "1cdcfd61-4f3a-43f7-8066-72e230cc385c"
      },
      "execution_count": 34,
      "outputs": [
        {
          "output_type": "stream",
          "name": "stdout",
          "text": [
            "Para la cadena 1:\n",
            "Último nucleótido C . Tamaño:  16\n",
            "Para la cadena 2:\n",
            "Último nucleótido A . Tamaño:  16\n"
          ]
        }
      ]
    },
    {
      "cell_type": "code",
      "source": [
        "# Extra del punto 1. Indicar cuál es el nombre completo del nucleótido:\n",
        "\n",
        "cadena_test = cadena_adn_1 # Cambiar por la cadena a probar\n",
        "print(\"El último nucleótido es: \",end='')\n",
        "if cadena_test[-1] == \"A\":\n",
        "  print(\"Adenina\")\n",
        "elif cadena_test[-1] == \"G\":\n",
        "  print(\"Guanina\")\n",
        "elif cadena_test[-1] == \"C\":\n",
        "  print(\"Citosina\")\n",
        "elif cadena_test[-1] == \"T\":\n",
        "  print(\"Timina\")\n",
        "else:\n",
        "  print(\"No valido\")"
      ],
      "metadata": {
        "colab": {
          "base_uri": "https://localhost:8080/"
        },
        "id": "iFaFC5o_BZV6",
        "outputId": "50dd4737-94bd-4c16-9616-720844f31566"
      },
      "execution_count": 37,
      "outputs": [
        {
          "output_type": "stream",
          "name": "stdout",
          "text": [
            "El último nucleótido es: Citosina\n"
          ]
        }
      ]
    },
    {
      "cell_type": "code",
      "source": [
        "# Punto 2\n",
        "\n",
        "# Es buena idea primero probar con un código que no sea una función\n",
        "# y una vez verificado el funcionamiento adaptarlo a una función.\n",
        "# Por brevedad, aquí solo se da la función:\n",
        "def verificador_adn(cadena_prueba):\n",
        "  for nucleotido in cadena_prueba:\n",
        "    if nucleotido != 'A' and nucleotido != 'G' and nucleotido != 'C' and nucleotido != 'T':\n",
        "      print(\"La cadena no es valida\")\n",
        "      # Algo no mencionado en clase: cuando se usa return, se termina la función\n",
        "      return False # Regresemos un False si la cadena no es válida\n",
        "  return True # Si no hubo errores en la cadena, no se ejecuta el otro return, y regresamos True\n",
        "\n",
        "# Verifiquemos\n",
        "print(verificador_adn(cadena_adn_1))\n",
        "# Un ejemplo de cadena no valida\n",
        "print(verificador_adn(\"ACGTGTGWGTCT\"))"
      ],
      "metadata": {
        "colab": {
          "base_uri": "https://localhost:8080/"
        },
        "id": "cX0g3fN-Cg3-",
        "outputId": "38f99f2c-3826-4c87-b053-04cee431c6b1"
      },
      "execution_count": 39,
      "outputs": [
        {
          "output_type": "stream",
          "name": "stdout",
          "text": [
            "True\n",
            "La cadena no es valida\n",
            "False\n"
          ]
        }
      ]
    },
    {
      "cell_type": "code",
      "source": [
        "# Punto 3\n",
        "\n",
        "# Puede ser tan sencillo como dividir el tamaño de la cadena entre 3\n",
        "cadena_test = cadena_adn_1\n",
        "print(\"Número máximo de codones:\", len(cadena_adn_1) // 3) # division entera, no hay fracciones de codón\n",
        "# Extra. Por curiosidad, ¿Cuántos nucleótidos sobran que no completan un codón?\n",
        "print(\"Número de nucleótidos sobrantes:\", len(cadena_adn_1) % 3)"
      ],
      "metadata": {
        "colab": {
          "base_uri": "https://localhost:8080/"
        },
        "id": "A-FRKRc-HkEx",
        "outputId": "576fd539-1839-4383-a5cc-89e09dd2fd58"
      },
      "execution_count": 44,
      "outputs": [
        {
          "output_type": "stream",
          "name": "stdout",
          "text": [
            "Número máximo de codones: 5\n",
            "Número de nucleótidos sobrantes: 1\n"
          ]
        }
      ]
    },
    {
      "cell_type": "code",
      "source": [
        "# Punto 4\n",
        "\n",
        "cadena_test = cadena_adn_1\n",
        "# Una opción:\n",
        "# Vamos a acumular texto en una variable. Comencemos con una variable\n",
        "# con texto vacio.\n",
        "cadena_complementaria = ''\n",
        "for nucleotido in cadena_test:\n",
        "  # Adaptamos el código del extra del punto 1:\n",
        "  if nucleotido == \"A\":\n",
        "    cadena_complementaria += \"T\"\n",
        "  elif nucleotido == \"G\":\n",
        "    cadena_complementaria += \"C\"\n",
        "  elif nucleotido == \"C\":\n",
        "    cadena_complementaria += \"G\"\n",
        "  elif nucleotido == \"T\":\n",
        "    cadena_complementaria += \"A\"\n",
        "  else:\n",
        "    print(\"Error, verificar cadena\")\n",
        "\n",
        "# Verificamos:\n",
        "print(cadena_complementaria)"
      ],
      "metadata": {
        "colab": {
          "base_uri": "https://localhost:8080/"
        },
        "id": "OcrOI8ZcI0Ao",
        "outputId": "1ccde2c2-67c5-434b-a374-ad1600a77412"
      },
      "execution_count": 46,
      "outputs": [
        {
          "output_type": "stream",
          "name": "stdout",
          "text": [
            "TACGTAGCATCGTACG\n"
          ]
        }
      ]
    },
    {
      "cell_type": "code",
      "source": [
        "# Punto 5\n",
        "\n",
        "cadena_1 = cadena_adn_1\n",
        "cadena_2 = cadena_complementaria\n",
        "#Ejemplo de cadena no valida: descomentar las siguientes tres lineas\n",
        "#cadena_2_lista = list(cadena_2)\n",
        "#cadena_2_lista[0] = 'G'\n",
        "#cadena_2 = ''.join(cadena_2_lista)\n",
        "\n",
        "#Ambas cadenas deben de tener el mismo tamaño\n",
        "tamanio_cadena1 = len(cadena_1)\n",
        "tamanio_cadena2 = len(cadena_2)\n",
        "\n",
        "if tamanio_cadena1 != tamanio_cadena2:\n",
        "  print(\"Cadenas no complementarias: Tamaños no compatibles.\")\n",
        "\n",
        "# Comprobamos que cada nucleótido de la segunda cadena tenga\n",
        "# el nucleótido complementario de la primera\n",
        "for indice in range(tamanio_cadena1):\n",
        "  nucleotido1 = cadena_1[indice]\n",
        "  nucleotido2 = cadena_2[indice]\n",
        "  if nucleotido1 == 'A' and nucleotido2 != 'T':\n",
        "    print(\"Cadenas no complementarias.\")\n",
        "  elif nucleotido1 == 'T' and nucleotido2 != 'A':\n",
        "    print(\"Cadenas no complementarias.\")\n",
        "  elif nucleotido1 == 'G' and nucleotido2 != 'C':\n",
        "    print(\"Cadenas no complementarias.\")\n",
        "  elif nucleotido1 == 'C' and nucleotido2 != 'G':\n",
        "    print(\"Cadenas no complementarias.\")\n",
        "  else:\n",
        "    print(\"Nucleótidos complementarios\")\n",
        "# Podría mejorarse, si ponemos esto en una función y usamos return\n",
        "# en lugar de solo print (ver Punto 2 de este problema)"
      ],
      "metadata": {
        "colab": {
          "base_uri": "https://localhost:8080/"
        },
        "id": "l5kecelpg-Bv",
        "outputId": "f45a1d6f-d762-46f0-9e8d-a3bd3d2400c2"
      },
      "execution_count": 55,
      "outputs": [
        {
          "output_type": "stream",
          "name": "stdout",
          "text": [
            "Nucleótidos complementarios\n",
            "Nucleótidos complementarios\n",
            "Nucleótidos complementarios\n",
            "Nucleótidos complementarios\n",
            "Nucleótidos complementarios\n",
            "Nucleótidos complementarios\n",
            "Nucleótidos complementarios\n",
            "Nucleótidos complementarios\n",
            "Nucleótidos complementarios\n",
            "Nucleótidos complementarios\n",
            "Nucleótidos complementarios\n",
            "Nucleótidos complementarios\n",
            "Nucleótidos complementarios\n",
            "Nucleótidos complementarios\n",
            "Nucleótidos complementarios\n",
            "Nucleótidos complementarios\n"
          ]
        }
      ]
    },
    {
      "cell_type": "markdown",
      "source": [
        "## Problema 3: Electroquímica\n",
        "\n",
        "0. Vamos a evaluar algunas celdas electroquímicas (baterías). Para ello haremos uso de 4 pares de cátodo-ánodo (Zinc-Carbon, Plomo-Ácido, Niquel-Cadmio, Ión-Litio), cuya información se encuentra en las siguientes listas:\n",
        "\n",
        "```python\n",
        "# Los potenciales están en V.\n",
        "catodos = [\n",
        "    {\"reaccion\": \"MnO2 + H2O + e- -> MnO(OH) + OH-\", \"potencial\": 0.15},  \n",
        "    {\"reaccion\": \"PbO2 + 4H+ + 2e- -> Pb2+ + 2H2O\", \"potencial\": 1.68},  \n",
        "    {\"reaccion\": \"NiO(OH) + H2O + e- -> Ni(OH)2 + OH-\", \"potencial\": 0.49},  \n",
        "    {\"reaccion\": \"LiCoO2 -> Li+ + CoO2 + e-\", \"potencial\": 3.04},  \n",
        "]\n",
        "\n",
        "anodos = [\n",
        "    {\"reaccion\": \"Zn + 2OH- -> ZnO + H2O + 2e-\", \"potencial\": -1.24},  \n",
        "    {\"reaccion\": \"Pb + SO4^2- -> PbSO4 + 2e-\", \"potencial\": -0.36},  \n",
        "    {\"reaccion\": \"Cd + 2OH- -> Cd(OH)2 + 2e-\", \"potencial\": -0.56},  \n",
        "    {\"reaccion\": \"C6H6O6 + Li+ + e- -> C6H5O6 + LiOH\", \"potencial\": -0.13}  \n",
        "]\n",
        "```\n",
        "\n",
        "1. Escribe un código que indique el potencial estándar (E^º) de cada celda, siguiendo la ecuación:\n",
        "\n",
        "$$E^º_{celda} = E^º_{catodo} - E^º_{anodo}$$\n",
        "\n",
        "Agrega cada potencial de celda en una nueva lista.\n",
        "\n",
        "2. Crea un código que calcule el cambio en el potencial para un conjunto de pares de concentraciones de la especie reducida y de la especia oxidada:\n",
        "\n",
        "```python\n",
        "concentraciones = [(1.0, 0.1), (0.5, 0.2), (0.3, 0.3), (0.2, 0.5),(0.1, 1.0)]\n",
        "```\n",
        "\n",
        "La ecuación a seguir es:\n",
        "\n",
        "$$E_{celda}=E^º_{celda}​−\\frac{0.0592}{n}​ log\\frac{[Red]}{[Ox]​}$$\n",
        "\n",
        "Para cada batería, el número de electrones $n$ esta dado en la lista:\n",
        "\n",
        "```python\n",
        "electrones = [1,2,1,1]\n",
        "```\n",
        "3. Si el potencial de celda es negativo, la reacción es expontanea, y al contrario si es positivo. Crea un código que indique para los pares de concentraciones como es la reacción.\n"
      ],
      "metadata": {
        "id": "WzgULUOxQNCC"
      }
    },
    {
      "cell_type": "code",
      "execution_count": 56,
      "metadata": {
        "id": "MbnhONBKvyY2"
      },
      "outputs": [],
      "source": [
        "# Punto 0\n",
        "# Los potenciales están en V.\n",
        "catodos = [\n",
        "    {\"reaccion\": \"MnO2 + H2O + e- -> MnO(OH) + OH-\", \"potencial\": 0.15},\n",
        "    {\"reaccion\": \"PbO2 + 4H+ + 2e- -> Pb2+ + 2H2O\", \"potencial\": 1.68},\n",
        "    {\"reaccion\": \"NiO(OH) + H2O + e- -> Ni(OH)2 + OH-\", \"potencial\": 0.49},\n",
        "    {\"reaccion\": \"LiCoO2 -> Li+ + CoO2 + e-\", \"potencial\": 3.04},\n",
        "]\n",
        "\n",
        "anodos = [\n",
        "    {\"reaccion\": \"Zn + 2OH- -> ZnO + H2O + 2e-\", \"potencial\": -1.24},\n",
        "    {\"reaccion\": \"Pb + SO4^2- -> PbSO4 + 2e-\", \"potencial\": -0.36},\n",
        "    {\"reaccion\": \"Cd + 2OH- -> Cd(OH)2 + 2e-\", \"potencial\": -0.56},\n",
        "    {\"reaccion\": \"C6H6O6 + Li+ + e- -> C6H5O6 + LiOH\", \"potencial\": -0.13}\n",
        "]"
      ]
    },
    {
      "cell_type": "code",
      "source": [
        "# Punto 1\n",
        "\n",
        "n_celdas = len(catodos) # Hay igual número de catodos que de anodos\n",
        "potenciales_celda = [] # Para guardar los valores de potencial\n",
        "for indice in range(n_celdas):\n",
        "  potencial_catodo = catodos[indice]['potencial']\n",
        "  potencial_anodo = anodos[indice]['potencial']\n",
        "  potencial_celda = potencial_catodo - potencial_anodo\n",
        "  print(\"Potencial de celda n.\", indice, \"=\", potencial_celda)\n",
        "  potenciales_celda.append(potencial_celda) # Añadimos a la lista\n",
        "\n",
        "#Verificamos\n",
        "print(potenciales_celda)"
      ],
      "metadata": {
        "colab": {
          "base_uri": "https://localhost:8080/"
        },
        "id": "oTacewu1kpQG",
        "outputId": "0a304a07-1590-47ee-fa3b-8d9b02bbbace"
      },
      "execution_count": 58,
      "outputs": [
        {
          "output_type": "stream",
          "name": "stdout",
          "text": [
            "Potencial de celda n. 0 = 1.39\n",
            "Potencial de celda n. 1 = 2.04\n",
            "Potencial de celda n. 2 = 1.05\n",
            "Potencial de celda n. 3 = 3.17\n",
            "[1.39, 2.04, 1.05, 3.17]\n"
          ]
        }
      ]
    },
    {
      "cell_type": "code",
      "source": [
        "# Punto 2\n",
        "\n",
        "# Nota que las concentraciones deben probarse para cada celda, y el número\n",
        "# es distinto al número de celdas\n",
        "import math\n",
        "concentraciones = [(1.0, 0.1), (0.5, 0.2), (0.3, 0.3), (0.2, 0.5),(0.1, 1.0)]\n",
        "electrones = [1,2,1,1]\n",
        "potenciales_por_celda = []\n",
        "\n",
        "for indice, potencial in enumerate(potenciales_celda):\n",
        "  potenciales_por_concentracion = []\n",
        "  for concentracion in concentraciones: # Nota que concentracion toma pares de valores de concentracion Red y Ox\n",
        "    potencial_nuevo = potencial - (0.0592/electrones[indice]) * math.log10(concentracion[0]/concentracion[1])\n",
        "    potenciales_por_concentracion.append(potencial_nuevo)\n",
        "  potenciales_por_celda.append(potenciales_por_concentracion)\n",
        "\n",
        "# Verificamos\n",
        "print(potenciales_por_celda)"
      ],
      "metadata": {
        "colab": {
          "base_uri": "https://localhost:8080/"
        },
        "id": "IgvYYo8LlkZv",
        "outputId": "1404dbfa-86a8-446a-9704-0c03488257f3"
      },
      "execution_count": 59,
      "outputs": [
        {
          "output_type": "stream",
          "name": "stdout",
          "text": [
            "[[1.3308, 1.3664419514866153, 1.39, 1.4135580485133845, 1.4491999999999998], [2.0104, 2.0282209757433076, 2.04, 2.0517790242566925, 2.0696], [0.9908, 1.0264419514866154, 1.05, 1.0735580485133847, 1.1092], [3.1108, 3.146441951486615, 3.17, 3.1935580485133848, 3.2292]]\n"
          ]
        }
      ]
    },
    {
      "cell_type": "code",
      "source": [
        "# Extra. Hagamos un gráfico\n",
        "import matplotlib.pyplot as plt\n",
        "plt.plot(range(5),potenciales_por_celda[0])\n",
        "plt.plot(range(5),potenciales_por_celda[1])\n",
        "plt.plot(range(5),potenciales_por_celda[2])\n",
        "plt.plot(range(5),potenciales_por_celda[3])"
      ],
      "metadata": {
        "colab": {
          "base_uri": "https://localhost:8080/",
          "height": 448
        },
        "id": "yCymVnv3oaGX",
        "outputId": "f9e09f5a-49c5-45df-b518-3df2cbfe5e70"
      },
      "execution_count": 61,
      "outputs": [
        {
          "output_type": "execute_result",
          "data": {
            "text/plain": [
              "[<matplotlib.lines.Line2D at 0x788a8cd59e40>]"
            ]
          },
          "metadata": {},
          "execution_count": 61
        },
        {
          "output_type": "display_data",
          "data": {
            "text/plain": [
              "<Figure size 640x480 with 1 Axes>"
            ],
            "image/png": "[encoded data removed]"
          },
          "metadata": {}
        }
      ]
    },
    {
      "cell_type": "code",
      "source": [
        "# Punto 3\n",
        "\n",
        "# No es necesario enumerate para resolver el punto 3, pero aquí de añade\n",
        "# para que el programa indique en que caso el potencial es negativo\n",
        "\n",
        "# La siguiente linea hace una modificación para que aparezca un potencial negativo\n",
        "# Corre el código comentandola y descomentandola.\n",
        "potenciales_por_celda[0][0] = -0.5\n",
        "\n",
        "for indice_celda, potenciales in enumerate(potenciales_por_celda):\n",
        "  for indice_concentraciones, potencial in enumerate(potenciales):\n",
        "    if potencial > 0:\n",
        "      print(\"La celda\", indice_celda, \"con el par de concentraciones\", indice_concentraciones, \"no es expontanea\")\n",
        "    elif potencial < 0:\n",
        "      print(\"La celda\", indice_celda, \"con el par de concentraciones\", indice_concentraciones, \"es expontanea\")"
      ],
      "metadata": {
        "colab": {
          "base_uri": "https://localhost:8080/"
        },
        "id": "nuKsDjM2ou6k",
        "outputId": "b789bdf6-8f23-4da3-da3e-b61b0f9b25c8"
      },
      "execution_count": 63,
      "outputs": [
        {
          "output_type": "stream",
          "name": "stdout",
          "text": [
            "La celda 0 con el par de concentraciones 0 es expontanea\n",
            "La celda 0 con el par de concentraciones 1 no es expontanea\n",
            "La celda 0 con el par de concentraciones 2 no es expontanea\n",
            "La celda 0 con el par de concentraciones 3 no es expontanea\n",
            "La celda 0 con el par de concentraciones 4 no es expontanea\n",
            "La celda 1 con el par de concentraciones 0 no es expontanea\n",
            "La celda 1 con el par de concentraciones 1 no es expontanea\n",
            "La celda 1 con el par de concentraciones 2 no es expontanea\n",
            "La celda 1 con el par de concentraciones 3 no es expontanea\n",
            "La celda 1 con el par de concentraciones 4 no es expontanea\n",
            "La celda 2 con el par de concentraciones 0 no es expontanea\n",
            "La celda 2 con el par de concentraciones 1 no es expontanea\n",
            "La celda 2 con el par de concentraciones 2 no es expontanea\n",
            "La celda 2 con el par de concentraciones 3 no es expontanea\n",
            "La celda 2 con el par de concentraciones 4 no es expontanea\n",
            "La celda 3 con el par de concentraciones 0 no es expontanea\n",
            "La celda 3 con el par de concentraciones 1 no es expontanea\n",
            "La celda 3 con el par de concentraciones 2 no es expontanea\n",
            "La celda 3 con el par de concentraciones 3 no es expontanea\n",
            "La celda 3 con el par de concentraciones 4 no es expontanea\n"
          ]
        }
      ]
    },
    {
      "cell_type": "code",
      "source": [],
      "metadata": {
        "id": "tNbpLLDgqgo6"
      },
      "execution_count": null,
      "outputs": []
    }
  ]
}