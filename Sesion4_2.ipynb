{
  "nbformat": 4,
  "nbformat_minor": 0,
  "metadata": {
    "colab": {
      "provenance": [],
      "authorship_tag": "ABX9TyO94sr39vTmxzrUbRMcDNTI",
      "include_colab_link": true
    },
    "kernelspec": {
      "name": "python3",
      "display_name": "Python 3"
    },
    "language_info": {
      "name": "python"
    }
  },
  "cells": [
    {
      "cell_type": "markdown",
      "metadata": {
        "id": "view-in-github",
        "colab_type": "text"
      },
      "source": [
        "<a href=\"https://colab.research.google.com/github/molecular-mar/molecular-mar.github.io/blob/master/Sesion4_2.ipynb\" target=\"_parent\"><img src=\"https://colab.research.google.com/assets/colab-badge.svg\" alt=\"Open In Colab\"/></a>"
      ]
    },
    {
      "cell_type": "code",
      "execution_count": null,
      "metadata": {
        "id": "Q0G9vc8jgXYv"
      },
      "outputs": [],
      "source": []
    },
    {
      "cell_type": "markdown",
      "source": [
        "# Introducción a RDKit\n",
        "\n",
        "Como veremos más tarde, es posible utilizar *paquetes* de funciones, diseñados para cumplir con alguna tarea en específico. Antes de entender los paquetes y sus funciones, será necesario que abordemos como se crean las funciones.\n",
        "\n",
        "Pero de momento, abordemos un paquete de química muy utilizado en Python: RDKit. El paquete RDKit es una poderosa herramienta utilizada para manipular, analizar y visualizar moléculas. Es de código abierto y está escrita en Python y C++, diseñada específicamente para trabajar con estructuras moleculares y datos químicos.\n",
        "\n",
        "Algunas de las funcionalidades de RDKit son:\n",
        "\n",
        "1. **Generación de moléculas**: Permite crear moléculas a partir de su representación en SMILES o formato mol.\n",
        "  \n",
        "2. **Manipulación de estructuras moleculares**: Ofrece herramientas para manipular átomos, enlaces y moléculas, como añadir, eliminar o modificar grupos químicos.\n",
        "\n",
        "3. **Cálculos de propiedades moleculares**: Permite calcular diversas propiedades moleculares, como peso molecular, logP, polaridad, entre otras.\n",
        "\n",
        "4. **Análisis de subestructuras**: Permite buscar y analizar subestructuras dentro de moléculas, lo que es útil para el diseño de fármacos y la quimioinformática.\n",
        "\n",
        "5. **Visualización de moléculas**: Ofrece herramientas para visualizar estructuras moleculares de forma gráfica, lo que facilita la interpretación de los resultados."
      ],
      "metadata": {
        "id": "g2JiGm5kgqfJ"
      }
    },
    {
      "cell_type": "markdown",
      "source": [
        "## Los códigos SMILES\n",
        "\n",
        "SMILES, que significa \"Simplified Molecular Input Line Entry System\" (Sistema Simplificado de Entrada de Líneas de Moléculas), es una representación de texto de estructuras moleculares químicas. Es una representación lineal que permite describir la estructura de una molécula utilizando una cadena de caracteres alfanuméricos.\n",
        "\n",
        "Cada átomo en una molécula se representa por su símbolo químico, y los enlaces entre átomos se indican mediante caracteres específicos. Los enlaces sencillos se representan generalmente por un guion (-), los dobles por un signo igual (=), y los triples por un signo de dos puntos (:). Los átomos de hidrógeno suelen omitirse y se subentienden en base a la valencia de los átomos vecinos.\n",
        "\n",
        "El SMILES también puede incluir información sobre la conectividad de los átomos, la disposición espacial y los isómeros de una molécula. Es una forma compacta y legible de representar estructuras químicas que es ampliamente utilizada en la informática química y la quimioinformática para la entrada y la manipulación de datos moleculares.\n",
        "\n",
        "Algunos ejemplos básicos:\n",
        "\n",
        "   1. Etanol (C2H5OH):\n",
        "        **SMILES: CCO**\n",
        "        \n",
        "         La cadena \"CC\" representa dos átomos de carbono unidos por un enlace sencillo, mientras que \"O\" representa un átomo de oxígeno unido a uno de los átomos de carbono mediante un enlace sencillo. Los átomos de hidrógeno se omiten y se subentienden.\n",
        "\n",
        "   1. Dióxido de carbono (CO2):\n",
        "        **SMILES: O=C=O**\n",
        "\n",
        "        \"O=C=O\" indica que hay un átomo de oxígeno en el centro (representado por \"C\"), unido a dos átomos de oxígeno (representados por \"O\") mediante enlaces dobles.\n",
        "\n",
        "   1. Agua (H2O):\n",
        "        **SMILES: O**\n",
        "\n",
        "        La molécula de agua se representa con \"O\", lo que indica un átomo de oxígeno unido a dos átomos de hidrógeno.\n",
        "   1. Metano (CH4):\n",
        "        **SMILES: C**\n",
        "\n",
        "        Explanation: El metano se representa con \"C\", lo que indica un átomo de carbono unido a cuatro átomos de hidrógeno.\n",
        "\n",
        "Si bien es viable construir el código SMILES desde cero, también suele encontrarse en bases de datos o en Wikipedia."
      ],
      "metadata": {
        "id": "FF-oeCMTh7nQ"
      }
    },
    {
      "cell_type": "code",
      "source": [
        "# @title Instalando RDKit (no se encuentra por defecto en Colab)\n",
        "!pip install rdkit"
      ],
      "metadata": {
        "colab": {
          "base_uri": "https://localhost:8080/"
        },
        "cellView": "form",
        "id": "sIRjBUL3jfFx",
        "outputId": "b83d3d86-ddf1-4942-d760-f93fb1aee8e7"
      },
      "execution_count": 3,
      "outputs": [
        {
          "output_type": "stream",
          "name": "stdout",
          "text": [
            "Requirement already satisfied: rdkit in /usr/local/lib/python3.10/dist-packages (2023.9.5)\n",
            "Requirement already satisfied: numpy in /usr/local/lib/python3.10/dist-packages (from rdkit) (1.25.2)\n",
            "Requirement already satisfied: Pillow in /usr/local/lib/python3.10/dist-packages (from rdkit) (9.4.0)\n"
          ]
        }
      ]
    },
    {
      "cell_type": "code",
      "source": [
        "# @title Cargando el paquete RDKit\n",
        "from rdkit import Chem\n",
        "from rdkit.Chem import Draw"
      ],
      "metadata": {
        "cellView": "form",
        "id": "QI-uwp1qjItv"
      },
      "execution_count": 5,
      "outputs": []
    },
    {
      "cell_type": "code",
      "source": [
        "# Vamos a visualizar una molecula\n",
        "molecule = Chem.MolFromSmiles('C')\n",
        "Draw.MolToImage(molecule)"
      ],
      "metadata": {
        "colab": {
          "base_uri": "https://localhost:8080/",
          "height": 317
        },
        "id": "H8yCfWcTj1M4",
        "outputId": "7f9abf6c-35f1-46b4-bc71-f6aff14b9762"
      },
      "execution_count": 10,
      "outputs": [
        {
          "output_type": "execute_result",
          "data": {
            "text/plain": [
              "<PIL.PngImagePlugin.PngImageFile image mode=RGB size=300x300>"
            ],
            "image/png": "[encoded data removed]"
          },
          "metadata": {},
          "execution_count": 10
        }
      ]
    },
    {
      "cell_type": "code",
      "source": [],
      "metadata": {
        "id": "-oqkgFH_j96P"
      },
      "execution_count": null,
      "outputs": []
    }
  ]
}