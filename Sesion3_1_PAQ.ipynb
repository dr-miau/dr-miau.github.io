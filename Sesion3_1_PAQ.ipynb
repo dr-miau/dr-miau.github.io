{
  "nbformat": 4,
  "nbformat_minor": 0,
  "metadata": {
    "colab": {
      "provenance": [],
      "authorship_tag": "ABX9TyOMd6wnIUoC9uCAMB1qNCkg",
      "include_colab_link": true
    },
    "kernelspec": {
      "name": "python3",
      "display_name": "Python 3"
    },
    "language_info": {
      "name": "python"
    }
  },
  "cells": [
    {
      "cell_type": "markdown",
      "metadata": {
        "id": "view-in-github",
        "colab_type": "text"
      },
      "source": [
        "<a href=\"https://colab.research.google.com/github/molecular-mar/molecular-mar.github.io/blob/master/Sesion3_1_PAQ.ipynb\" target=\"_parent\"><img src=\"https://colab.research.google.com/assets/colab-badge.svg\" alt=\"Open In Colab\"/></a>"
      ]
    },
    {
      "cell_type": "markdown",
      "source": [
        "# Principios de programación 2\n",
        "---"
      ],
      "metadata": {
        "id": "Tu_PRIDRA_rK"
      }
    },
    {
      "cell_type": "markdown",
      "source": [
        "# Variables\n",
        "\n",
        "Las operaciones aritméticas que revisamos en la sesión anterior no son almacenadas, solo son evaluadas. Las **variables** son contenedores para almacenar datos, permitiendo su uso posterior.\n",
        "\n",
        "Para definir una variable, primero escribimos su *nombre*, luego usamos el operador *=* y finalmente indicamos el dato a almacenar:\n",
        "\n",
        "```python\n",
        "variable = dato\n",
        "```"
      ],
      "metadata": {
        "id": "_ONM6juNBVXG"
      }
    },
    {
      "cell_type": "markdown",
      "source": [
        "## Restricciones sobre los nombres de variables\n",
        "\n",
        "* Las variables deben comenzar con una letra.\n",
        "* No pueden contener operadores en su nombre.\n",
        "* No pueden usar *palabras reservadas*."
      ],
      "metadata": {
        "id": "M0zy3r3E3SWC"
      }
    },
    {
      "cell_type": "markdown",
      "source": [
        "## Convenciones sobre nombres de variables\n",
        "\n",
        "* La variable debe tener un nombre claro. Esto para evitar confusiones futuras. La claridad dependerá del contexto.\n",
        "* Algunos formatos comunes de nombres de variables:\n",
        " * *Snakecase*: palabras separadas por guión bajo: `uam_iztapalapa`. El *estandar* en Python.\n",
        " * *Camelcase*: palabras comienzan con mayúscula, a partir de la segunda palabra: `uamIztapalapa`\n",
        " * *Pascalcase*: Como Camelcase, pero la primera palabra también con mayúscula: `UamIztapalapa`"
      ],
      "metadata": {
        "id": "qpgpQRUb4LPX"
      }
    },
    {
      "cell_type": "markdown",
      "source": [
        "Definamos algunas variables, y observemos como funcionan.\n",
        "\n",
        "❓ Intenta las siguientes instrucciones. Documenta con celdas de texto o comentarios tus observaciones.\n",
        "\n",
        "* Define en una celda de código (cc) una variable llamada *volumen*, que almacene el valor *22.4*. Ejecutala.\n",
        "* En una nueva cc, crea una nueva variable *presion*, con valor (1/273). Sin salir de la celda, en una nueva linea escribe el nombre de la variable. Ejecuta la celda.\n",
        "* En una nueva cc, escribe un comentario en la primera linea y en una segunda escribe *volumen*. Ejecuta.\n",
        "* En un nuevo cc, crea una variable *nRT*, que almacene el producto de *volumen* y *presion*. Observa el resultado (has lo necesario para observarlo).\n",
        "* En nuevas cc, calcula *nRT* para los siguientes valores de *volumen*, *presion* y *nRT*: (`2.4`,`1/8.16`), (`22.4`,`1/8.206E-2`), (`1E3`, `5`). En una celda de texto (ct), reporta tus resultados.\n",
        "* Basado en lo anterior, contesta en una ct:\n",
        "  * ¿Cómo funcionan los datos que tienen una letra `E`?\n",
        "  * En una cc, ¿cuál es el orden en el que se ejecutan las instrucciones?\n",
        "  * Intenta realizar cambios sobre las celdas donde definiste *presion* y *volumen* por primera vez. Vuelve a ejecutar la celda donde defines por primera vez *nRT*. ¿Qué observas sobre el orden?\n"
      ],
      "metadata": {
        "id": "BEz7cSh6Es0f"
      }
    },
    {
      "cell_type": "markdown",
      "source": [
        "# La función `print()`\n",
        "\n",
        "❓ Hasta ahora, ¿qué hemos hecho para *imprimir* el valor de una variable?\n",
        "\n",
        "Una función de gran utilidad es *print()*, pues nos permite imprimir el valor de una variable o de una expresión (recordar las operaciones aritméticas), sin importar su posición en el código.\n",
        "\n",
        "❓ En un cc, usa `print()` para imprimir lo siguiente:\n",
        "* `presion`\n",
        "* `nRT`\n",
        "* `(presion * volumen) / nRT`\n",
        "* `\"La presion del gas es 1 atm\"`\n",
        "* `'El volumen del gas es', volumen, 'L.'`\n",
        "\n",
        "En los últimos dos casos usamos texto, cuyo tipo de dato es *cuerda* o *string*. En Python, los strings están delimitados por comillas simples o dobles. Si bien existen convenciones de uso, no hay distinción práctica entre ambas formas.\n",
        "\n",
        "❓ Intenta lo siguiente en cc:\n",
        "* Crea una variable que almacene el texto `La presion del gas es`. Crea otra variable que almacene las unidades de volumen. En ambos casos, usa nombres adecuados para las variables.\n",
        "* Usando estas nuevas variables, y solo cambiando el valor de *volumen*, imprime un mensaje adecuado para los siguientes casos:\n",
        " * Una botella de 600 mL\n",
        " * Un matraz de 1 L\n",
        " * Una cisterna de 3 m^3"
      ],
      "metadata": {
        "id": "fKiQ84mm6Pkh"
      }
    },
    {
      "cell_type": "markdown",
      "source": [
        "# La función `input()`\n",
        "\n",
        "Esta función nos permite introducir un valor de forma *interactiva*, el cuál puede ser almacenado en una variable.\n",
        "\n",
        "Observa lo que ocurre con el siguiente cc:"
      ],
      "metadata": {
        "id": "tDE3f-awCEOh"
      }
    },
    {
      "cell_type": "code",
      "source": [
        "# Ejemplo de input()\n",
        "x = input('Introduce un dato: ')\n",
        "print('Lo que escribiste es:', x)"
      ],
      "metadata": {
        "colab": {
          "base_uri": "https://localhost:8080/"
        },
        "id": "4_OPc6I1CXFA",
        "outputId": "4662e30c-a342-4088-96b2-744202bbbf99"
      },
      "execution_count": 5,
      "outputs": [
        {
          "output_type": "stream",
          "name": "stdout",
          "text": [
            "Introduce un dato: 30\n",
            "Lo que escribiste es: 30\n"
          ]
        }
      ]
    },
    {
      "cell_type": "markdown",
      "source": [
        "# Tarea\n",
        "\n",
        "1.  En un nuevo Notebook, crea en una sola celda de código un programa para obtener la temperatura usando la ecuación del gas ideal:\n",
        "$$PV=nRT$$\n",
        "\n",
        "El programa debe de:\n",
        "* Escribir un mensaje de bienvenida o inicio.\n",
        "* Solicitar la presion y el volúmen, (asumamos 1 mol de sustancia siempre).\n",
        "* Regresar el valor de la temperatura en las **unidades adecuadas**.\n",
        "\n",
        "Internamente, la temperatura debe calcularse usando variables. El mensaje de salida también debe estar construido usando variables.\n",
        "\n",
        "*Consejo*: Verifica las unidades de la constante R. Debes documentar en celda(s) de texto tu elección de R."
      ],
      "metadata": {
        "id": "7FMLTKxmcwFo"
      }
    },
    {
      "cell_type": "code",
      "source": [],
      "metadata": {
        "id": "afbEgaxlFHmi"
      },
      "execution_count": null,
      "outputs": []
    }
  ]
}