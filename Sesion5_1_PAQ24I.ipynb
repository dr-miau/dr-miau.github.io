{
  "nbformat": 4,
  "nbformat_minor": 0,
  "metadata": {
    "colab": {
      "provenance": [],
      "authorship_tag": "ABX9TyOJcjW6Mfvkba4ysuUsFNo+",
      "include_colab_link": true
    },
    "kernelspec": {
      "name": "python3",
      "display_name": "Python 3"
    },
    "language_info": {
      "name": "python"
    }
  },
  "cells": [
    {
      "cell_type": "markdown",
      "metadata": {
        "id": "view-in-github",
        "colab_type": "text"
      },
      "source": [
        "<a href=\"https://colab.research.google.com/github/molecular-mar/molecular-mar.github.io/blob/master/Sesion5_1_PAQ24I.ipynb\" target=\"_parent\"><img src=\"https://colab.research.google.com/assets/colab-badge.svg\" alt=\"Open In Colab\"/></a>"
      ]
    },
    {
      "cell_type": "markdown",
      "source": [
        "# Principios de programación 4\n",
        "---"
      ],
      "metadata": {
        "id": "Tu_PRIDRA_rK"
      }
    },
    {
      "cell_type": "markdown",
      "source": [
        "## Ciclos\n",
        "---"
      ],
      "metadata": {
        "id": "XjemkhGDHBPz"
      }
    },
    {
      "cell_type": "markdown",
      "source": [
        "### Ciclo `for`\n"
      ],
      "metadata": {
        "id": "Ux5vsWZFrRbT"
      }
    },
    {
      "cell_type": "markdown",
      "source": [
        "#### Sintaxis\n",
        "\n",
        "Una herramienta básica en programación es el concepto de *ciclo*: una instrucción que señala que otro grupo de instrucciones deben de realizarse de forma repetida. Uno de estos ciclos se conoce como **for**, y su sintaxis es la siguiente:\n",
        "```python\n",
        "for variable in iterable:\n",
        "  instruccion_1\n",
        "  instruccion_2\n",
        "  ...\n",
        "  instruccion_n\n",
        "```\n",
        "Revisemos a detalle esta sintaxis. Comenzamos por la instrucción `for`(nota el color azul del texto), que indica el tipo de ciclo a usar. Luego, después de un espacio indicamos una `variable`. Después de otro espacio, tenemos la instrucción `in`, y luego de otro espacio encontramos un `iterable`, junto con el símbolo de dos puntos (`:`).\n",
        "\n",
        "Un *iterable* en Python es un tipo de dato sobre el cuál podemos realizar un ciclo, recuperando uno de los valores que lo componen cada la vez. Sin entrar a mucho detalle, en general podemos pensar que los iterables son como las colecciones de datos, como las listas, las tuplas y los strings abordadas en la sesión anterior.\n"
      ],
      "metadata": {
        "id": "_ONM6juNBVXG"
      }
    },
    {
      "cell_type": "markdown",
      "source": [
        "#### Identación\n",
        "\n",
        "Antes de experimentar con el uso de `for`, un **punto importante** a considerar. Es importante poder distinguir entre instrucciones asociadas al ciclo e instrucciones no asociadas. En Python es muy importante la *identación*, el espacio que hay al inicio de una linea de código. Las líneas contiguas de código con una misma identación están en un mismo *bloque*, lo que afecta su comportamiento. Por lo tanto, este espacio al inicio no debe ser tomado a la ligera, sino utilizado a conciencia.\n",
        "\n",
        "Hay dos convenciones de uso frecuente: usar 2 espacios o 4 espacios. Para este curso puedes utilizar la que prefieras, pero debes ser consistente."
      ],
      "metadata": {
        "id": "iMqZ0Vi2rY1g"
      }
    },
    {
      "cell_type": "markdown",
      "source": [
        "❓Copia la lista mm_elementos de la Sesión anterior en una cc. En una celda separada o debajo de la definición, escribe este fragmento de código:\n",
        "```python\n",
        "for masa in mm_elementos:\n",
        "    print(masa)\n",
        "    print('Probando el ciclo for')\n",
        "```\n",
        "Observa que ocurre y escribe con tus propias palabras qué es lo que hace el ciclo for (puedes partir de la traducción literal al español de la instrucción)."
      ],
      "metadata": {
        "id": "tJ0v6sa3rCxg"
      }
    },
    {
      "cell_type": "code",
      "source": [],
      "metadata": {
        "id": "T9Qx0-kwwtPb"
      },
      "execution_count": null,
      "outputs": []
    },
    {
      "cell_type": "markdown",
      "source": [
        "❓ Realiza los siguientes ajustes sobre el `for` anterior, duplicando cada vez la celda de código que recién creamos. En cada caso, documenta tu observación:\n",
        "* Comenta la linea de `print(masa)`.\n",
        "* Retira la identación de la linea `print('Probando el ciclo for')`.\n"
      ],
      "metadata": {
        "id": "qJWUsW_qt5_r"
      }
    },
    {
      "cell_type": "code",
      "source": [],
      "metadata": {
        "id": "v9a2Zfvzwt7S"
      },
      "execution_count": null,
      "outputs": []
    },
    {
      "cell_type": "markdown",
      "source": [
        "❓La siguiente celda contiene una lista de concentraciones en g/mL. Asumiendo que el soluto es acetato de sodio (CH$_3$COONa), calcula la molaridad (mol/L) dentro de un ciclo `for`, imprimiendo la concentración obtenida con un mensaje adecuado."
      ],
      "metadata": {
        "id": "NUx7mnWLzs8f"
      }
    },
    {
      "cell_type": "code",
      "source": [
        "concentraciones = [0.05, 0.25, 1/3, 2.5, 2.E-2, 0.60, 4.25]"
      ],
      "metadata": {
        "id": "_jDsUOaLzspO"
      },
      "execution_count": null,
      "outputs": []
    },
    {
      "cell_type": "markdown",
      "source": [
        "#### La función `range`\n",
        "\n",
        "En el ejemplo anterior usamos una lista como iterable en el ciclo `for`. Cuando sabemos cuántas veces queremos repetir un ciclo, y no queremos *iterar* sobre una lista, podemos utilizar la función `range`, la cuál genera un iterable que cumple con cierto *rango* de valores. Realizemos algunas pruebas para entender su funcionamiento.\n",
        "\n",
        "❓Escribe un ciclo `for`, usando como iterable `range(5)`. Escribe al menos una instrucción `print` dentro del ciclo `for` para observar los valores de la variable asociada al ciclo. Documenta tu observación."
      ],
      "metadata": {
        "id": "CaYCWPPvuEXc"
      }
    },
    {
      "cell_type": "code",
      "source": [],
      "metadata": {
        "id": "yK_g2_tWJUfK"
      },
      "execution_count": null,
      "outputs": []
    },
    {
      "cell_type": "markdown",
      "source": [
        "La función `range` no genera una lista, pero si algo similar. Podemos convertir el tipo de dato que genera `range` en tipo lista, usando la función `list()` (recuerda las funciones `int()`, `float()` y `str()`).\n",
        "Ejecuta como ejemplo la siguiente celda:"
      ],
      "metadata": {
        "id": "NNdvA7P9xBwC"
      }
    },
    {
      "cell_type": "code",
      "source": [
        "contando = list(range(10))\n",
        "print(contando)"
      ],
      "metadata": {
        "id": "zEzxZYULxBA3"
      },
      "execution_count": null,
      "outputs": []
    },
    {
      "cell_type": "markdown",
      "source": [
        "Hay algunas formas de cambiar el comportamiento de `range`. Por default siempre se comienza en 0, pero si en lugar de un parámetro indicamos dos, el primero se utilizará como punto de partida:"
      ],
      "metadata": {
        "id": "qkz_ITYbza5Z"
      }
    },
    {
      "cell_type": "code",
      "source": [
        "list(range(5,10))"
      ],
      "metadata": {
        "id": "Q_QGT2NgqAPo"
      },
      "execution_count": null,
      "outputs": []
    },
    {
      "cell_type": "markdown",
      "source": [
        "Podemos incluir un tercer parámetro que modifique el tamaño de paso:"
      ],
      "metadata": {
        "id": "pFO4A76c0LHC"
      }
    },
    {
      "cell_type": "code",
      "source": [
        "list(range(2,10,2))"
      ],
      "metadata": {
        "id": "yLgVfsJXzuc6"
      },
      "execution_count": null,
      "outputs": []
    },
    {
      "cell_type": "markdown",
      "source": [
        "❓ Genera una lista que contenga los números impares entre 0 y 10.\n"
      ],
      "metadata": {
        "id": "xf7Uq6kA0sow"
      }
    },
    {
      "cell_type": "code",
      "source": [],
      "metadata": {
        "id": "vYG5CjL50mKb"
      },
      "execution_count": null,
      "outputs": []
    },
    {
      "cell_type": "markdown",
      "source": [
        "#### `for` corto\n",
        "\n",
        "Hay una forma breve de usar el ciclo `for` cuando se desea crear una lista. A esta forma también se le conoce como *comprensión de lista*:\n",
        "\n",
        "```python\n",
        "lista = [elemento_de_la_nueva_lista for var in iterable]\n",
        "```\n",
        "\n",
        "El siguiente ejemplo convierte una lista de concentraciones de $H^+$ en valores de pH:"
      ],
      "metadata": {
        "id": "qgUVTdp4khGF"
      }
    },
    {
      "cell_type": "code",
      "source": [
        "import math\n",
        "concentraciones_Hmas = [1E3, 1E6, 1E8, 1E13]\n",
        "pH_calculados = [-math.log10(con) for con in concentraciones_Hmas]\n",
        "print(pH_calculados)"
      ],
      "metadata": {
        "id": "RQxJNt-QAvv-",
        "outputId": "62e816dc-607c-4a5a-b43b-eab1f08d7d76",
        "colab": {
          "base_uri": "https://localhost:8080/"
        }
      },
      "execution_count": 3,
      "outputs": [
        {
          "output_type": "stream",
          "name": "stdout",
          "text": [
            "[-3.0, -6.0, -8.0, -13.0]\n"
          ]
        }
      ]
    },
    {
      "cell_type": "markdown",
      "source": [
        "#### Ciclo `while`\n",
        "Otra forma de realizar de forma repetitiva una serie de tareas es usando el ciclo `while`. Para utilizarlo, se fija una condición, y las tareas asociadas al `while` se repiten mientras dicha condición se cumpla. La sintaxis es:\n",
        "\n",
        "```python\n",
        "while condición:\n",
        "  ...#Tareas a repetir\n",
        "  ...\n",
        "```\n",
        "Veremos a mayor detalle como establecer condiciones en la sesión 6.1. En general, se recomienda usar `for` por encima de `while`, ya que usando `while` es probable caer en un problema de *ciclo infinito*, en el cuál la condición siempre se cumple.\n",
        "\n",
        "❓Ejecuta la siguiente celda de código, que contiene un ejemplo de ciclo infinito."
      ],
      "metadata": {
        "id": "dQLl6r96lG1G"
      }
    },
    {
      "cell_type": "code",
      "source": [
        "vol_naoh = 0 # volumen en mL\n",
        "while vol_naoh < 100:\n",
        "  print(\"Falta agregar NaOH\")"
      ],
      "metadata": {
        "id": "cU032j0CmZFa"
      },
      "execution_count": null,
      "outputs": []
    },
    {
      "cell_type": "markdown",
      "source": [
        "#### Algunas tareas comúnes\n",
        "\n",
        "Existen algunos procedimientos generales que es común realizar dentro de ciclos. Uno de ellos es construir nuevas listas. Para ello es importante crear antes del ciclo la lista que vamos a modificar. Si nuestra lista va a ser creada desde cero, tendremos que definirla como una *lista vacia*:\n",
        "```python\n",
        "lista_nueva = [] # Lista vacia\n",
        "for dato in iterable:\n",
        "    lista_nueva.append() # Adentro de append() lo que deseamos agregar\n",
        "```\n",
        "\n",
        "Otra tarea común es *acumular* valores en una variable. Veamos un ejemplo para aclararlo. Supongamos que estamos realizando una titulación, añadiendo 1.03 mL de ácido en cada gota (estamos usando una bureta automatizada que agrega consistentemente este valor). En un lapso de 19 gotas, queremos saber cuál es el volumen añadido de ácido.\n",
        "\n",
        "Una posible forma usando un ciclo `for` sería:\n",
        "\n",
        "\n"
      ],
      "metadata": {
        "id": "j_Fm5BGByhQn"
      }
    },
    {
      "cell_type": "code",
      "source": [
        "var = 3**3 +2\n",
        "print(var)\n",
        "var = var + 1\n",
        "print(var)"
      ],
      "metadata": {
        "id": "oHEXXa9sLKcy",
        "outputId": "27dbb16a-64b7-4913-b7e7-ba29f82c0538",
        "colab": {
          "base_uri": "https://localhost:8080/"
        }
      },
      "execution_count": 4,
      "outputs": [
        {
          "output_type": "stream",
          "name": "stdout",
          "text": [
            "29\n",
            "30\n"
          ]
        }
      ]
    },
    {
      "cell_type": "code",
      "source": [
        "vol_acido = 0 # Definimos un valor inicial\n",
        "lista_volumenes = []\n",
        "for paso in range(19):\n",
        "    vol_acido = vol_acido + 1.03 # Acumulamos el valor\n",
        "    lista_volumenes.append(vol_acido)\n",
        "    print(vol_acido)\n",
        "print(lista_volumenes)"
      ],
      "metadata": {
        "id": "7s4dguQG5VVo",
        "outputId": "31f08ad1-41d6-49e0-a1ad-dd17cbfd0ee9",
        "colab": {
          "base_uri": "https://localhost:8080/"
        }
      },
      "execution_count": 6,
      "outputs": [
        {
          "output_type": "stream",
          "name": "stdout",
          "text": [
            "1.03\n",
            "2.06\n",
            "3.09\n",
            "4.12\n",
            "5.15\n",
            "6.180000000000001\n",
            "7.210000000000001\n",
            "8.24\n",
            "9.27\n",
            "10.299999999999999\n",
            "11.329999999999998\n",
            "12.359999999999998\n",
            "13.389999999999997\n",
            "14.419999999999996\n",
            "15.449999999999996\n",
            "16.479999999999997\n",
            "17.509999999999998\n",
            "18.54\n",
            "19.57\n",
            "[1.03, 2.06, 3.09, 4.12, 5.15, 6.180000000000001, 7.210000000000001, 8.24, 9.27, 10.299999999999999, 11.329999999999998, 12.359999999999998, 13.389999999999997, 14.419999999999996, 15.449999999999996, 16.479999999999997, 17.509999999999998, 18.54, 19.57]\n"
          ]
        }
      ]
    },
    {
      "cell_type": "markdown",
      "source": [
        "❓Duplica la celda anterior, y añade en la copia un `print` de la variable `vol_acido` dentro del ciclo."
      ],
      "metadata": {
        "id": "DLI6VS8Z_4Uo"
      }
    },
    {
      "cell_type": "markdown",
      "source": [
        "Lo primero que debemos hacer para acumular un valor es definir la variable en donde haremos la acumulación. Luego, dentro del ciclo, debemos definir una operación como la mostrada arriba.\n",
        "\n",
        "Cuando realizamos una *asignación de variable*, que ocurre cuando usamos el operador `=` (se le llama *de asignación* en programación, no igual), internamente lo primero que se hace es evaluar del lado derecho de `=`, y luego de esto asignar ese valor a la variable. Por ello es posible utilizar a la variable para definir a la variable en este contexto.\n",
        "\n",
        "El operador `+=` funciona igual que la operación de acumulación mostrada, pero sin la necesidad de repetir el nombre de la variable:\n",
        "```python\n",
        "variable = 10\n",
        "variable += 5 # agregar 5 al valor de variable\n",
        "```\n",
        "\n",
        "❓En una copia de la celda de la titulación, sustituye la operación de acumulación por su equivalente usando `+=`."
      ],
      "metadata": {
        "id": "MVeJorqy-LPo"
      }
    },
    {
      "cell_type": "code",
      "source": [
        "variable = 10\n",
        "print(variable)\n",
        "variable += 5\n",
        "print(variable)"
      ],
      "metadata": {
        "id": "jzqw_yT7Om8D",
        "outputId": "366f8f37-9a8c-43cf-ce7f-ee726e091714",
        "colab": {
          "base_uri": "https://localhost:8080/"
        }
      },
      "execution_count": 7,
      "outputs": [
        {
          "output_type": "stream",
          "name": "stdout",
          "text": [
            "10\n",
            "15\n"
          ]
        }
      ]
    },
    {
      "cell_type": "markdown",
      "source": [
        "#### Ciclos anidados\n",
        "\n",
        "Es posible crear un ciclo dentro de otro ciclo. Basta con utilizar una identación adecuada. Supongamos que titularemos una solución de 20 mL, añadiendo directamente 5 mL de un aditivo cada que la bureta ha añadido 5 gotas, y queremos saber el volumen total de la solución luego de repetir 3 veces este procedimiento. El siguiente ciclo ilustra este proceso:"
      ],
      "metadata": {
        "id": "118xBH3sLuAK"
      }
    },
    {
      "cell_type": "code",
      "source": [
        "vol_total = 20 #mL\n",
        "for aditivo in range(3):\n",
        "    print(\"El ciclo de aditivo es:\", aditivo)\n",
        "    for gota in range(5):\n",
        "      print(\"El ciclo de gota es:\", gota)\n",
        "      vol_total += 1.03\n",
        "    print(\"Fin de los ciclo de gota. Num:\", gota)\n",
        "    vol_total += 5\n",
        "print(\"Fin de los ciclo de aditivo. Num:\", aditivo)\n",
        "print(vol_total)"
      ],
      "metadata": {
        "id": "Rss_qNBJMbsn",
        "outputId": "804f3e19-e502-4f2e-ed9a-d73925c751d7",
        "colab": {
          "base_uri": "https://localhost:8080/"
        }
      },
      "execution_count": 8,
      "outputs": [
        {
          "output_type": "stream",
          "name": "stdout",
          "text": [
            "El ciclo de aditivo es: 0\n",
            "El ciclo de gota es: 0\n",
            "El ciclo de gota es: 1\n",
            "El ciclo de gota es: 2\n",
            "El ciclo de gota es: 3\n",
            "El ciclo de gota es: 4\n",
            "Fin de los ciclo de gota. Num: 4\n",
            "El ciclo de aditivo es: 1\n",
            "El ciclo de gota es: 0\n",
            "El ciclo de gota es: 1\n",
            "El ciclo de gota es: 2\n",
            "El ciclo de gota es: 3\n",
            "El ciclo de gota es: 4\n",
            "Fin de los ciclo de gota. Num: 4\n",
            "El ciclo de aditivo es: 2\n",
            "El ciclo de gota es: 0\n",
            "El ciclo de gota es: 1\n",
            "El ciclo de gota es: 2\n",
            "El ciclo de gota es: 3\n",
            "El ciclo de gota es: 4\n",
            "Fin de los ciclo de gota. Num: 4\n",
            "Fin de los ciclo de aditivo. Num: 2\n",
            "50.45000000000002\n"
          ]
        }
      ]
    },
    {
      "cell_type": "markdown",
      "source": [
        "❓Usando ciclos anidados, imprime los números cuánticos $n$ y $l$ permitidos hasta $n=3$. Recuerda que $l$ puede tomar valores entre 0 y $n-1$."
      ],
      "metadata": {
        "id": "_0ezp5AUNclT"
      }
    },
    {
      "cell_type": "code",
      "source": [
        "#como imprimir un triangulo\n",
        "\n",
        "for altura in range(10):\n",
        " for largo in range(altura):\n",
        "  print(\"*\",end='')\n",
        " print(\"\")"
      ],
      "metadata": {
        "id": "8uUJrdKsUKq6",
        "outputId": "8da61064-4dbe-45cb-be21-d130ea3f01c8",
        "colab": {
          "base_uri": "https://localhost:8080/"
        }
      },
      "execution_count": 10,
      "outputs": [
        {
          "output_type": "stream",
          "name": "stdout",
          "text": [
            "\n",
            "*\n",
            "**\n",
            "***\n",
            "****\n",
            "*****\n",
            "******\n",
            "*******\n",
            "********\n",
            "*********\n"
          ]
        }
      ]
    },
    {
      "cell_type": "code",
      "source": [
        "for n in range(4):\n",
        "  print(\"El valor de n es:\", n)\n",
        "  for l in range(n+1):\n",
        "    print(\"l=\",l)"
      ],
      "metadata": {
        "id": "izhrDd9GYUFb",
        "outputId": "50f0072d-8ef6-4af2-f562-97dbba14d88d",
        "colab": {
          "base_uri": "https://localhost:8080/"
        }
      },
      "execution_count": 13,
      "outputs": [
        {
          "output_type": "stream",
          "name": "stdout",
          "text": [
            "El valor de n es: 0\n",
            "l= 0\n",
            "El valor de n es: 1\n",
            "l= 0\n",
            "l= 1\n",
            "El valor de n es: 2\n",
            "l= 0\n",
            "l= 1\n",
            "l= 2\n",
            "El valor de n es: 3\n",
            "l= 0\n",
            "l= 1\n",
            "l= 2\n",
            "l= 3\n"
          ]
        }
      ]
    },
    {
      "cell_type": "code",
      "source": [
        "for n in range(1,4):\n",
        "  print(\"n=\", n)\n",
        "  for l in range(n):\n",
        "    print(\"l=\", l)"
      ],
      "metadata": {
        "id": "p5jM61VzZ7rJ",
        "outputId": "f0b284e4-1721-4b97-ae90-fbfea061b3d6",
        "colab": {
          "base_uri": "https://localhost:8080/"
        }
      },
      "execution_count": 14,
      "outputs": [
        {
          "output_type": "stream",
          "name": "stdout",
          "text": [
            "n= 1\n",
            "l= 0\n",
            "n= 2\n",
            "l= 0\n",
            "l= 1\n",
            "n= 3\n",
            "l= 0\n",
            "l= 1\n",
            "l= 2\n"
          ]
        }
      ]
    },
    {
      "cell_type": "code",
      "source": [
        "print(\"uamito cena\",end='/')\n",
        "print(\"sandwich\")"
      ],
      "metadata": {
        "id": "UjcZK7DobTX4",
        "outputId": "bd8240cd-57b0-470b-9c65-27a2a03c6a1a",
        "colab": {
          "base_uri": "https://localhost:8080/"
        }
      },
      "execution_count": 21,
      "outputs": [
        {
          "output_type": "stream",
          "name": "stdout",
          "text": [
            "uamito cena/sandwich\n"
          ]
        }
      ]
    },
    {
      "cell_type": "code",
      "source": [
        "matriz = []\n",
        "for i in range(3):\n",
        "  renglon = []\n",
        "  for j in range(3):\n",
        "    renglon.append((i*3)+j)\n",
        "  matriz.append(renglon)\n",
        "print(matriz)"
      ],
      "metadata": {
        "id": "gManDEDecYDP",
        "outputId": "11113e13-a9ae-4411-8202-cde7904e2e8c",
        "colab": {
          "base_uri": "https://localhost:8080/"
        }
      },
      "execution_count": 24,
      "outputs": [
        {
          "output_type": "stream",
          "name": "stdout",
          "text": [
            "[[0, 1, 2], [3, 4, 5], [6, 7, 8]]\n"
          ]
        }
      ]
    },
    {
      "cell_type": "code",
      "source": [
        "print(len(matriz[0]))\n",
        "for i in range(len(matriz)):\n",
        "  print(matriz[i])"
      ],
      "metadata": {
        "id": "kiiUr4FZekFA",
        "outputId": "0af128f4-7fdf-4ae8-9faf-70fb9fd7c674",
        "colab": {
          "base_uri": "https://localhost:8080/"
        }
      },
      "execution_count": 27,
      "outputs": [
        {
          "output_type": "stream",
          "name": "stdout",
          "text": [
            "3\n",
            "[0, 1, 2]\n",
            "[3, 4, 5]\n",
            "[6, 7, 8]\n"
          ]
        }
      ]
    },
    {
      "cell_type": "code",
      "source": [
        "for i in range(len(matriz)):\n",
        "  for j in range(len(matriz[i])):\n",
        "    print(matriz[i][j],end=' ')\n",
        "  print('')"
      ],
      "metadata": {
        "id": "C9HQdAPefhbe",
        "outputId": "08033321-9028-4981-da14-1ff4ee4fad30",
        "colab": {
          "base_uri": "https://localhost:8080/"
        }
      },
      "execution_count": 29,
      "outputs": [
        {
          "output_type": "stream",
          "name": "stdout",
          "text": [
            "0 1 2 \n",
            "3 4 5 \n",
            "6 7 8 \n"
          ]
        }
      ]
    },
    {
      "cell_type": "code",
      "source": [
        "for renglon in matriz:\n",
        "  print(renglon)\n",
        "\n",
        "for renglon in matriz:\n",
        "  for elemento in renglon:\n",
        "    print(elemento,end='')\n",
        "  print('')"
      ],
      "metadata": {
        "id": "3TaG1qsYgcmv",
        "outputId": "47eb09be-016c-4072-f4ac-7470e38400e4",
        "colab": {
          "base_uri": "https://localhost:8080/"
        }
      },
      "execution_count": 31,
      "outputs": [
        {
          "output_type": "stream",
          "name": "stdout",
          "text": [
            "[0, 1, 2]\n",
            "[3, 4, 5]\n",
            "[6, 7, 8]\n",
            "012\n",
            "345\n",
            "678\n"
          ]
        }
      ]
    },
    {
      "cell_type": "markdown",
      "source": [
        "## Tarea\n",
        "\n",
        "Resuelve los siguientes problemas en un nuevo notebook.\n",
        "\n",
        "* Necesitamos realizar una serie de disoluciones con concentraciones diferentes para un experimento. Cuentas con un pequeño robot que puede realizarlas por ti, pero necesitas crear un programa para que funcione. Crea un programa que calcule los gramos necesarios de una lista de compuestos para elaborar una serie de soluciones. Los compuestos son: hidróxido de sodio, triclorometano, acetato de sodio y dimetilformamida. Las concentraciones que deseas son 0.001M, 0.05M, 0.2 M, 0.66 M y 2.1 M. Debes hacer uso de `for`.\n",
        "\n",
        "* Genera listas para las siguientes funciones. Incluye una gráfica en cada caso (ve la Sesión 5.2):\n",
        " * $x^2 + 1/x$. $x\\in [-5,5]$\n",
        " * $e^{-x^2}$. $x\\in [0,20]$\n",
        " * $-R_H(\\frac{1}{n^2})$. $n\\in [1,10]$. $R_H = 1.09677576\\times 10^7$\n",
        "\n",
        "* Usando ciclos `for`, realiza las siguientes operaciones:\n",
        "\n",
        " 1. Crea las matrices (usando listas anidadas):\n",
        "\n",
        "$$A= \\begin{bmatrix}\n",
        "1 & 3 & 5\\\\\n",
        "3 & 5 & 7\\\\\n",
        "5 & 7 & 9\\\\\n",
        "\\end{bmatrix}$$\n",
        "\n",
        "$$B= \\begin{bmatrix}\n",
        "2 & 4 & 8\\\\\n",
        "4 & 8 & 10\\\\\n",
        "8 & 10 & 12\\\\\n",
        "\\end{bmatrix}$$\n",
        "\n",
        " 2. Calcula la traza de cada matrix. La traza se define como la suma de los elementos diagonales ($\\sum_i A_{ii}$)\n",
        " 3. Calcula la matriz que resulta de la suma de ambas matrices.\n"
      ],
      "metadata": {
        "id": "n2iaHv-yFciV"
      }
    },
    {
      "cell_type": "code",
      "source": [],
      "metadata": {
        "id": "yD7qUYE8FgMj"
      },
      "execution_count": null,
      "outputs": []
    }
  ]
}