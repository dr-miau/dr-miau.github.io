{
  "nbformat": 4,
  "nbformat_minor": 0,
  "metadata": {
    "colab": {
      "provenance": [],
      "toc_visible": true,
      "authorship_tag": "ABX9TyOiZNujunO7qxWC6wTRIYbm",
      "include_colab_link": true
    },
    "kernelspec": {
      "name": "python3",
      "display_name": "Python 3"
    },
    "language_info": {
      "name": "python"
    }
  },
  "cells": [
    {
      "cell_type": "markdown",
      "metadata": {
        "id": "view-in-github",
        "colab_type": "text"
      },
      "source": [
        "<a href=\"https://colab.research.google.com/github/molecular-mar/molecular-mar.github.io/blob/master/Sesion5_1_PAQ.ipynb\" target=\"_parent\"><img src=\"https://colab.research.google.com/assets/colab-badge.svg\" alt=\"Open In Colab\"/></a>"
      ]
    },
    {
      "cell_type": "markdown",
      "source": [
        "# Principios de programación 4\n",
        "---"
      ],
      "metadata": {
        "id": "Tu_PRIDRA_rK"
      }
    },
    {
      "cell_type": "markdown",
      "source": [
        "## Ciclos\n",
        "---"
      ],
      "metadata": {
        "id": "XjemkhGDHBPz"
      }
    },
    {
      "cell_type": "markdown",
      "source": [
        "### Ciclo `for`\n"
      ],
      "metadata": {
        "id": "Ux5vsWZFrRbT"
      }
    },
    {
      "cell_type": "markdown",
      "source": [
        "#### Sintaxis\n",
        "\n",
        "Una herramienta básica en programación es el concepto de *ciclo*: una instrucción que señala que otro grupo de instrucciones deben de realizarse de forma repetida. Uno de estos ciclos se conoce como **for**, y su sintaxis es la siguiente:\n",
        "```python\n",
        "for variable in iterable:\n",
        "  instruccion_1\n",
        "  instruccion_2\n",
        "  ...\n",
        "  instruccion_n\n",
        "```\n",
        "Revisemos a detalle esta sintaxis. Comenzamos por la instrucción `for`(nota el color azul del texto), que indica el tipo de ciclo a usar. Luego, después de un espacio indicamos una `variable`. Después de otro espacio, tenemos la instrucción `in`, y luego de otro espacio encontramos un `iterable`, junto con el símbolo de dos puntos (`:`).\n",
        "\n",
        "Un *iterable* en Python es un tipo de dato sobre el cuál podemos realizar un ciclo, recuperando uno de los valores que lo componen cada la vez. Sin entrar a mucho detalle, en general podemos pensar que los iterables son como las colecciones de datos, como las listas, las tuplas y los strings abordadas en la sesión anterior.\n"
      ],
      "metadata": {
        "id": "_ONM6juNBVXG"
      }
    },
    {
      "cell_type": "markdown",
      "source": [
        "#### Identación\n",
        "\n",
        "Antes de experimentar con el uso de `for`, un **punto importante** a considerar. Es importante poder distinguir entre instrucciones asociadas al ciclo e instrucciones no asociadas. En Python es muy importante la *identación*, el espacio que hay al inicio de una linea de código. Las líneas contiguas de código con una misma identación están en un mismo *bloque*, lo que afecta su comportamiento. Por lo tanto, este espacio al inicio no debe ser tomado a la ligera, sino utilizado a conciencia.\n",
        "\n",
        "Hay dos convenciones de uso frecuente: usar 2 espacios o 4 espacios. Para este curso puedes utilizar la que prefieras, pero debes ser consistente."
      ],
      "metadata": {
        "id": "iMqZ0Vi2rY1g"
      }
    },
    {
      "cell_type": "markdown",
      "source": [
        "❓Copia la lista mm_elementos de la Sesión anterior en una cc. En una celda separada o debajo de la definición, escribe este fragmento de código:\n",
        "```python\n",
        "for masa in mm_elementos:\n",
        "    print(masa)\n",
        "    print('Probando el ciclo for')\n",
        "```\n",
        "Observa que ocurre y escribe con tus propias palabras qué es lo que hace el ciclo for (puedes partir de la traducción literal al español de la instrucción)."
      ],
      "metadata": {
        "id": "tJ0v6sa3rCxg"
      }
    },
    {
      "cell_type": "code",
      "source": [],
      "metadata": {
        "id": "T9Qx0-kwwtPb"
      },
      "execution_count": null,
      "outputs": []
    },
    {
      "cell_type": "markdown",
      "source": [
        "❓ Realiza los siguientes ajustes sobre el `for` anterior, duplicando cada vez la celda de código que recién creamos. En cada caso, documenta tu observación:\n",
        "* Comenta la linea de `print(masa)`.\n",
        "* Retira la identación de la linea `print('Probando el ciclo for')`.\n"
      ],
      "metadata": {
        "id": "qJWUsW_qt5_r"
      }
    },
    {
      "cell_type": "code",
      "source": [],
      "metadata": {
        "id": "v9a2Zfvzwt7S"
      },
      "execution_count": null,
      "outputs": []
    },
    {
      "cell_type": "markdown",
      "source": [
        "❓La siguiente celda contiene una lista de concentraciones en g/mL. Asumiendo que el soluto es acetato de sodio (CH$_3$COONa), calcula la molaridad (mol/L) dentro de un ciclo `for`, imprimiendo la concentración obtenida con un mensaje adecuado."
      ],
      "metadata": {
        "id": "NUx7mnWLzs8f"
      }
    },
    {
      "cell_type": "code",
      "source": [
        "concentraciones = [0.05, 0.25, 1/3, 2.5, 2.E-2, 0.60, 4.25]"
      ],
      "metadata": {
        "id": "_jDsUOaLzspO"
      },
      "execution_count": null,
      "outputs": []
    },
    {
      "cell_type": "markdown",
      "source": [
        "#### La función `range`\n",
        "\n",
        "En el ejemplo anterior usamos una lista como iterable en el ciclo `for`. Cuando sabemos cuántas veces queremos repetir un ciclo, y no queremos *iterar* sobre una lista, podemos utilizar la función `range`, la cuál genera un iterable que cumple con cierto *rango* de valores. Realizemos algunas pruebas para entender su funcionamiento.\n",
        "\n",
        "❓Escribe un ciclo `for`, usando como iterable `range(5)`. Escribe al menos una instrucción `print` dentro del ciclo `for` para observar los valores de la variable asociada al ciclo. Documenta tu observación."
      ],
      "metadata": {
        "id": "CaYCWPPvuEXc"
      }
    },
    {
      "cell_type": "code",
      "source": [],
      "metadata": {
        "id": "yK_g2_tWJUfK"
      },
      "execution_count": null,
      "outputs": []
    },
    {
      "cell_type": "markdown",
      "source": [
        "La función `range` no genera una lista, pero si algo similar. Podemos convertir el tipo de dato que genera `range` en tipo lista, usando la función `list()` (recuerda las funciones `int()`, `float()` y `str()`).\n",
        "Ejecuta como ejemplo la siguiente celda:"
      ],
      "metadata": {
        "id": "NNdvA7P9xBwC"
      }
    },
    {
      "cell_type": "code",
      "source": [
        "contando = list(range(10))\n",
        "print(contando)"
      ],
      "metadata": {
        "id": "zEzxZYULxBA3"
      },
      "execution_count": null,
      "outputs": []
    },
    {
      "cell_type": "markdown",
      "source": [
        "Hay algunas formas de cambiar el comportamiento de `range`. Por default siempre se comienza en 0, pero si en lugar de un parámetro indicamos dos, el primero se utilizará como punto de partida:"
      ],
      "metadata": {
        "id": "qkz_ITYbza5Z"
      }
    },
    {
      "cell_type": "code",
      "source": [
        "list(range(5,10))"
      ],
      "metadata": {
        "id": "Q_QGT2NgqAPo"
      },
      "execution_count": null,
      "outputs": []
    },
    {
      "cell_type": "markdown",
      "source": [
        "Podemos incluir un tercer parámetro que modifique el tamaño de paso:"
      ],
      "metadata": {
        "id": "pFO4A76c0LHC"
      }
    },
    {
      "cell_type": "code",
      "source": [
        "list(range(2,10,2))"
      ],
      "metadata": {
        "id": "yLgVfsJXzuc6"
      },
      "execution_count": null,
      "outputs": []
    },
    {
      "cell_type": "markdown",
      "source": [
        "❓ Genera una lista que contenga los números impares entre 0 y 10.\n"
      ],
      "metadata": {
        "id": "xf7Uq6kA0sow"
      }
    },
    {
      "cell_type": "code",
      "source": [],
      "metadata": {
        "id": "vYG5CjL50mKb"
      },
      "execution_count": null,
      "outputs": []
    },
    {
      "cell_type": "markdown",
      "source": [
        "#### Algunas tareas comúnes\n",
        "\n",
        "Existen algunos procedimientos generales que es común realizar dentro de ciclos. Uno de ellos es construir nuevas listas. Para ello es importante crear antes del ciclo la lista que vamos a modificar. Si nuestra lista va a ser creada desde cero, tendremos que definirla como una *lista vacia*:\n",
        "```python\n",
        "lista_nueva = [] # Lista vacia\n",
        "for dato in iterable:\n",
        "    lista_nueva.append() # Adentro de append() lo que deseamos agregar\n",
        "```\n",
        "\n",
        "Otra tarea común es *acumular* valores en una variable. Veamos un ejemplo para aclararlo. Supongamos que estamos realizando una titulación, añadiendo 1.03 mL de ácido en cada gota (estamos usando una bureta automatizada que agrega consistentemente este valor). En un lapso de 19 gotas, queremos saber cuál es el volumen añadido de ácido.\n",
        "\n",
        "Una posible forma usando un ciclo `for` sería:\n",
        "\n",
        "\n"
      ],
      "metadata": {
        "id": "j_Fm5BGByhQn"
      }
    },
    {
      "cell_type": "code",
      "source": [
        "vol_acido = 0 # Definimos un valor inicial\n",
        "for paso in range(19):\n",
        "    vol_acido = vol_acido + 1.03 # Acumulamos el valor\n",
        "print(vol_acido)"
      ],
      "metadata": {
        "id": "7s4dguQG5VVo"
      },
      "execution_count": null,
      "outputs": []
    },
    {
      "cell_type": "markdown",
      "source": [
        "❓Duplica la celda anterior, y añade en la copia un `print` de la variable `vol_acido` dentro del ciclo."
      ],
      "metadata": {
        "id": "DLI6VS8Z_4Uo"
      }
    },
    {
      "cell_type": "markdown",
      "source": [
        "Lo primero que debemos hacer para acumular un valor es definir la variable en donde haremos la acumulación. Luego, dentro del ciclo, debemos definir una operación como la mostrada arriba.\n",
        "\n",
        "Cuando realizamos una *asignación de variable*, que ocurre cuando usamos el operador `=` (se le llama *de asignación* en programación, no igual), internamente lo primero que se hace es evaluar del lado derecho de `=`, y luego de esto asignar ese valor a la variable. Por ello es posible utilizar a la variable para definir a la variable en este contexto.\n",
        "\n",
        "El operador `+=` funciona igual que la operación de acumulación mostrada, pero sin la necesidad de repetir el nombre de la variable:\n",
        "```python\n",
        "variable = 10\n",
        "variable += 5 # agregar 5 al valor de variable\n",
        "```\n",
        "\n",
        "❓En una copia de la celda de la titulación, sustituye la operación de acumulación por su equivalente usando `+=`."
      ],
      "metadata": {
        "id": "MVeJorqy-LPo"
      }
    },
    {
      "cell_type": "markdown",
      "source": [
        "#### Ciclos anidados\n",
        "\n",
        "Es posible crear un ciclo dentro de otro ciclo. Basta con utilizar una identación adecuada. Supongamos que en nuestra titulación, para acelerar peligrosamente el proceso, añadimos directamente 5 mL de ácido cada que la bureta ha añadido 5 gotas, y queremos saber cuanto ácido hemos añadido luego de repetir 5 veces este procedimiento. El siguiente ciclo ilustra este proceso:"
      ],
      "metadata": {
        "id": "118xBH3sLuAK"
      }
    },
    {
      "cell_type": "code",
      "source": [
        "vol_acido = 0\n",
        "for alicuota in range(5):\n",
        "    for gota in range(5):\n",
        "      vol_acido += 1.03\n",
        "    vol_acido += 5\n",
        "print(vol_acido)\n",
        ""
      ],
      "metadata": {
        "id": "Rss_qNBJMbsn"
      },
      "execution_count": null,
      "outputs": []
    },
    {
      "cell_type": "markdown",
      "source": [
        "❓Usando ciclos anidados, imprime los números cuánticos $n$ y $l$ permitidos hasta $n=3$. Recuerda que $l$ puede tomar valores entre 0 y $n-1$."
      ],
      "metadata": {
        "id": "_0ezp5AUNclT"
      }
    },
    {
      "cell_type": "markdown",
      "source": [
        "## Tarea\n",
        "\n",
        "Resuelve los siguientes problemas en un nuevo notebook.\n",
        "\n",
        "* Un vecino tuyo sacó algunas antiguedades para vender. Entre ellas te encuentras un bote de leche en polvo de la CONASUPO del año 1987, cuando se adquirió leche con Cesio 137, y una medalla de 1983 que sospechas está contaminada con Cobalto 60. Antes de llamar al ININ (y a la Guardia Nacional), decides averiguar cuántas vidas medias deben pasar para que 111 moles de material radioactivo disminuyan a menos de 1 mol. Realiza ciclos `for` para calcular cuánto de cada elemento radioactivo resta luego de $n$ vidas medias. Experimenta con el valor de $n$ hasta alcanzar una cantidad menor a 1 mol. Usa `input` para que sea interactivo.\n",
        "\n",
        "* Necesitamos realizar una serie de disoluciones con concentraciones diferentes para un experimento. Pero cuentas con un pequeño robot que puede realizarlas por ti, pero necesitas crear un programa para que funcione. Crea un programa que calcule los gramos necesarios de una lista de compuestos para elaborar una serie de soluciones. Los compuestos son: hidróxido de sodio, triclorometano, acetato de sodio y dimetilformamida. Las concentraciones que deseas son 0.001M, 0.05M, 0.2 M, 0.66 M y 2.1 M. Debes hacer uso de `for`."
      ],
      "metadata": {
        "id": "n2iaHv-yFciV"
      }
    },
    {
      "cell_type": "code",
      "source": [],
      "metadata": {
        "id": "yD7qUYE8FgMj"
      },
      "execution_count": null,
      "outputs": []
    }
  ]
}