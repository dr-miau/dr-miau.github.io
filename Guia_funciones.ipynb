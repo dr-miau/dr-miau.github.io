{
  "nbformat": 4,
  "nbformat_minor": 0,
  "metadata": {
    "colab": {
      "provenance": [],
      "authorship_tag": "ABX9TyOO9Oodre1lHA9DNcSD788y",
      "include_colab_link": true
    },
    "kernelspec": {
      "name": "python3",
      "display_name": "Python 3"
    },
    "language_info": {
      "name": "python"
    }
  },
  "cells": [
    {
      "cell_type": "markdown",
      "metadata": {
        "id": "view-in-github",
        "colab_type": "text"
      },
      "source": [
        "<a href=\"https://colab.research.google.com/github/molecular-mar/molecular-mar.github.io/blob/master/Guia_funciones.ipynb\" target=\"_parent\"><img src=\"https://colab.research.google.com/assets/colab-badge.svg\" alt=\"Open In Colab\"/></a>"
      ]
    },
    {
      "cell_type": "markdown",
      "source": [
        "# Pasos sugeridos para escribir una función\n",
        "\n",
        "1. **Entender el problema:** establecer que datos voy a necesitar y cuales debería dar como resultado (puede haber distintas opciones). En ambos casos, piensa en que tipo de datos serán (enteros, flotantes, texto, lista). También considerar restricciones.\n",
        "\n",
        "1. **Escribir los pasos necesarios o pseudocódigo.** El pseudocódigo es cuando escribimos de forma informal las instrucciones que debemos realizar, similar a lo que escribiríamos programando pero usando un lenguaje más cercano al cotidiano.\n",
        "\n",
        "1. **Comenzar con un caso específico y sencillo**, definiendo las variables necesarias sin usar una función. Verificar estas variables (por ejemplo, con `print`).\n",
        "1. **Realizar y verificar los pasos** que debo realizar para obtener el resultado, uno por uno.\n",
        "1. Si no es claro como generalizar, **intentar con otro caso** más complicado.\n",
        "1. **Convertir el procedimiento creado en una función**, generalizandolo."
      ],
      "metadata": {
        "id": "l_pDPiiPRxAh"
      }
    },
    {
      "cell_type": "markdown",
      "source": [
        "## Un caso de ejemplo: Una función para calcular las raices de una ecuación cuadrática.\n",
        "\n",
        "1. Lo que deseamos es encontrar las soluciones a una ecuación $ax^2+bx+c=0$. Necesitaremos como datos los parámetros $a,b$ y $c$, y el resultado deben ser dos valores de $x$. Dado que son dos valores, puede ser conveniente que el resultado sea una lista de dos valores. Hay algunas restricciones: el valor dentro de la raíz cuadrada no puede ser negativo, ya que en ese caso no hay solución real.\n",
        "\n",
        "1. Un pseudocódigo podría verse como:\n",
        "  * Recibimos los datos a,b y c\n",
        "  * resultado = [] (lista vacía donde tendremos los resultados).\n",
        "  * radical = $b^2-4ac$\n",
        "  * Si radical es positivo, calcula:\n",
        "    * Agregar a resultado (append): $\\frac{-b+\\sqrt{b^2-4ac}}{2a}$\n",
        "    * Agregar a resultado (append): $\\frac{-b-\\sqrt{b^2-4ac}}{2a}$\n",
        "  * Si radical es negativo:\n",
        "    * Imprime un mensaje: \"No hay solución real.\"\n",
        "  * Regresar resultado.\n",
        "\n",
        "1. Comencemos con un ejemplo sencillo: $x^2=0$ ($a=1,b=0$ y $c=0$). Definamos las variables que sabemos serán necesarias en el caso general:"
      ],
      "metadata": {
        "id": "YlcGVTByXaBS"
      }
    },
    {
      "cell_type": "code",
      "source": [
        "# Parámetros que necesitará mi función\n",
        "a = 1\n",
        "b = 1\n",
        "c = -3\n",
        "print(a,b,c) #Verificamos que las variables tengan los valores esperados"
      ],
      "metadata": {
        "id": "VlGBOWnFRwyE",
        "colab": {
          "base_uri": "https://localhost:8080/"
        },
        "outputId": "5ce5d34f-7936-4f90-86a7-dae7a32814d3"
      },
      "execution_count": 22,
      "outputs": [
        {
          "output_type": "stream",
          "name": "stdout",
          "text": [
            "1 1 -3\n"
          ]
        }
      ]
    },
    {
      "cell_type": "markdown",
      "source": [
        "En el caso anterior quizá imprimir las variables no es necesario, pero si usamos listas esto puede ser mas útil.\n",
        "4. Realicemos entonces los pasos siguientes, dado el punto 2:"
      ],
      "metadata": {
        "id": "kkUO8bSuatOv"
      }
    },
    {
      "cell_type": "code",
      "source": [
        "resultado = []"
      ],
      "metadata": {
        "id": "Mxg7IVQ3bByK"
      },
      "execution_count": 23,
      "outputs": []
    },
    {
      "cell_type": "code",
      "source": [
        "radical = b**2 - 4*a*c\n",
        "print(radical)"
      ],
      "metadata": {
        "colab": {
          "base_uri": "https://localhost:8080/"
        },
        "id": "S-XfCMa8chPB",
        "outputId": "365103e2-5399-495d-e71d-ef0323dc1cfa"
      },
      "execution_count": 24,
      "outputs": [
        {
          "output_type": "stream",
          "name": "stdout",
          "text": [
            "13\n"
          ]
        }
      ]
    },
    {
      "cell_type": "code",
      "source": [
        "#Verificamos el signo de radical\n",
        "if radical >= 0:\n",
        "  resultado.append((-b + ((radical)**0.5)) / (2 * a))\n",
        "  print(resultado)\n",
        "  resultado.append((-b - ((radical)**0.5)) / (2 * a))\n",
        "  print(resultado)\n",
        "else:\n",
        "  print(\"No hay solución real\")"
      ],
      "metadata": {
        "colab": {
          "base_uri": "https://localhost:8080/"
        },
        "id": "FSVxnGP2ckI8",
        "outputId": "79cb2f1e-ddf9-44af-aece-948799d6ee2f"
      },
      "execution_count": 25,
      "outputs": [
        {
          "output_type": "stream",
          "name": "stdout",
          "text": [
            "[1.3027756377319946]\n",
            "[1.3027756377319946, -2.302775637731995]\n"
          ]
        }
      ]
    },
    {
      "cell_type": "code",
      "source": [
        "#Verificamos el resultado\n",
        "print(resultado)"
      ],
      "metadata": {
        "colab": {
          "base_uri": "https://localhost:8080/"
        },
        "id": "H-asodOFcoNj",
        "outputId": "b7f27cc7-260b-4547-db1d-18dce8ecfd18"
      },
      "execution_count": 26,
      "outputs": [
        {
          "output_type": "stream",
          "name": "stdout",
          "text": [
            "[1.3027756377319946, -2.302775637731995]\n"
          ]
        }
      ]
    },
    {
      "cell_type": "markdown",
      "source": [
        "5. Probemos un caso donde sabemos que no hay solución real: $x^2 + 1 =0$ (editemos las variables arriba y ejecutemos de nuevo lo que hemos escrito)."
      ],
      "metadata": {
        "id": "RaJPYBRZYp27"
      }
    },
    {
      "cell_type": "markdown",
      "source": [
        "6. Escribamos la función, usando el código que ya creamos, definiendo adecuadamente nuestra función con los parámetros necesarios y regresando el dato(s) esperado."
      ],
      "metadata": {
        "id": "Wy4-q_aXc_Mv"
      }
    },
    {
      "cell_type": "code",
      "execution_count": 27,
      "metadata": {
        "id": "iCZlprZDRs76"
      },
      "outputs": [],
      "source": [
        "def cuadratica(a,b,c):\n",
        "  resultado = []\n",
        "  radical = b**2 - 4*a*c\n",
        "  print(radical)\n",
        "  #Verificamos el signo de radical\n",
        "  if radical >= 0:\n",
        "    resultado.append((-b + ((radical)**0.5)) / (2 * a))\n",
        "    print(resultado)\n",
        "    resultado.append((-b - ((radical)**0.5)) / (2 * a))\n",
        "    print(resultado)\n",
        "  else:\n",
        "    print(\"No hay solución real\")\n",
        "  return resultado"
      ]
    },
    {
      "cell_type": "code",
      "source": [
        "cuadratica(1,0,0)"
      ],
      "metadata": {
        "colab": {
          "base_uri": "https://localhost:8080/"
        },
        "id": "1I75wdLJm15y",
        "outputId": "ba559b40-8c45-4bc5-d60d-e48f40c4160a"
      },
      "execution_count": 29,
      "outputs": [
        {
          "output_type": "stream",
          "name": "stdout",
          "text": [
            "0\n",
            "[0.0]\n",
            "[0.0, 0.0]\n"
          ]
        },
        {
          "output_type": "execute_result",
          "data": {
            "text/plain": [
              "[0.0, 0.0]"
            ]
          },
          "metadata": {},
          "execution_count": 29
        }
      ]
    },
    {
      "cell_type": "code",
      "source": [
        "cuadratica(1,0,1)"
      ],
      "metadata": {
        "colab": {
          "base_uri": "https://localhost:8080/"
        },
        "id": "9_mlxQmEm8dL",
        "outputId": "38ba6d4f-b71f-435c-921d-13b4176a0ced"
      },
      "execution_count": 30,
      "outputs": [
        {
          "output_type": "stream",
          "name": "stdout",
          "text": [
            "-4\n",
            "No hay solución real\n"
          ]
        },
        {
          "output_type": "execute_result",
          "data": {
            "text/plain": [
              "[]"
            ]
          },
          "metadata": {},
          "execution_count": 30
        }
      ]
    },
    {
      "cell_type": "code",
      "source": [
        "cuadratica(1,1,-3)"
      ],
      "metadata": {
        "colab": {
          "base_uri": "https://localhost:8080/"
        },
        "id": "IslmdT6JnCpF",
        "outputId": "529b3de6-8d96-48b2-d9b9-a00ff1581259"
      },
      "execution_count": 31,
      "outputs": [
        {
          "output_type": "stream",
          "name": "stdout",
          "text": [
            "13\n",
            "[1.3027756377319946]\n",
            "[1.3027756377319946, -2.302775637731995]\n"
          ]
        },
        {
          "output_type": "execute_result",
          "data": {
            "text/plain": [
              "[1.3027756377319946, -2.302775637731995]"
            ]
          },
          "metadata": {},
          "execution_count": 31
        }
      ]
    },
    {
      "cell_type": "code",
      "source": [],
      "metadata": {
        "id": "VEUYjcvGnHnm"
      },
      "execution_count": null,
      "outputs": []
    }
  ]
}