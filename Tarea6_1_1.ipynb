{
  "nbformat": 4,
  "nbformat_minor": 0,
  "metadata": {
    "colab": {
      "provenance": [],
      "authorship_tag": "ABX9TyMnw0Yfk2fOWrXeEmgJRAS7",
      "include_colab_link": true
    },
    "kernelspec": {
      "name": "python3",
      "display_name": "Python 3"
    },
    "language_info": {
      "name": "python"
    }
  },
  "cells": [
    {
      "cell_type": "markdown",
      "metadata": {
        "id": "view-in-github",
        "colab_type": "text"
      },
      "source": [
        "<a href=\"https://colab.research.google.com/github/molecular-mar/molecular-mar.github.io/blob/master/Tarea6_1_1.ipynb\" target=\"_parent\"><img src=\"https://colab.research.google.com/assets/colab-badge.svg\" alt=\"Open In Colab\"/></a>"
      ]
    },
    {
      "cell_type": "markdown",
      "source": [
        "## Repaso de ciclos `for`\n",
        "La instrucción `for` nos permite realizar una serie de instrucciones de forma repetida. `for` utiliza un iterable (que puede ser, por ejemplo una lista, una tupla o un rango) para determinar cuantas veces se repetirán estas instrucciones, a la par de que habrá una variable que tomará como valor cada uno de los elementos del iterable en cuestión.\n",
        "\n",
        "❓Para un conjunto de soluciones fueron obtenidas los códigos SMILES, sus concentraciones en M($\\frac{mol}{L}$) y sus volúmenes en cL (centilitros). Ambos datos están condensados en la lista `soluciones`. Completa las siguientes celdas de código para imprimir una imagen de los compuestos y calcular el número de moléculas en cada solución."
      ],
      "metadata": {
        "id": "AykJ08rgM-UI"
      }
    },
    {
      "cell_type": "code",
      "source": [
        "# Primero ejecuta esta celda\n",
        "!pip install rdkit\n",
        "from rdkit import Chem\n",
        "from rdkit.Chem import Draw"
      ],
      "metadata": {
        "id": "pShgvvM1F-l-"
      },
      "execution_count": null,
      "outputs": []
    },
    {
      "cell_type": "code",
      "source": [
        "soluciones = [['Cl[Na]', 0.66, 56], ['Cl', 1.18, 23], ['OS(=O)(=O)O', 1.92, 87], ['CC(=O)O', 0.34, 11], ['[OH-].[Na+]', 0.66, 42],  ['OO', 0.92, 66], ['[O-][Mn](=O)(=O)=O', 2.12, 35], ['OS(=O)(=O)[Cu+2]', 3.8, 17]]\n",
        "\n",
        "# Cambia la siguiente linea\n",
        "solo_smiles =  [Chem.MolFromSmiles(solucion[]) for solucion in ]# Escribe aquí una rebanada que solo contenga los SMILES\n",
        "\n",
        "img=Draw.MolsToGridImage(solo_smiles[:],molsPerRow=2,subImgSize=(200,200),returnPNG=True)\n",
        "\n",
        "img"
      ],
      "metadata": {
        "id": "9c23V6buBQJ7"
      },
      "execution_count": null,
      "outputs": []
    },
    {
      "cell_type": "code",
      "source": [
        "# Cálculo del número de moleculas\n",
        "avogadro = 6.022 # Corrige esta linea\n",
        "n_moleculas = # Corrige esta variable\n",
        "for solucion in soluciones:\n",
        "  # Ajusta las siguientes lineas\n",
        "  concentracion =\n",
        "  volumen =\n",
        "  n_moleculas.(concentracion*volumen*Avogadro) # Nota el simbolo despues de n_moleculas\n",
        "\n",
        "for indice in :\n",
        "  print(\"El número de moleculas para el compuesto\", soluciones[][0], \"es\", [indice])"
      ],
      "metadata": {
        "id": "v2OLLcBPK3A-"
      },
      "execution_count": null,
      "outputs": []
    }
  ]
}