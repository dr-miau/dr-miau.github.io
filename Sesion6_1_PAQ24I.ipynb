{
  "nbformat": 4,
  "nbformat_minor": 0,
  "metadata": {
    "colab": {
      "provenance": [],
      "authorship_tag": "ABX9TyNk97NMT6ZolOuROy0Hf4rJ",
      "include_colab_link": true
    },
    "kernelspec": {
      "name": "python3",
      "display_name": "Python 3"
    },
    "language_info": {
      "name": "python"
    }
  },
  "cells": [
    {
      "cell_type": "markdown",
      "metadata": {
        "id": "view-in-github",
        "colab_type": "text"
      },
      "source": [
        "<a href=\"https://colab.research.google.com/github/molecular-mar/molecular-mar.github.io/blob/master/Sesion6_1_PAQ24I.ipynb\" target=\"_parent\"><img src=\"https://colab.research.google.com/assets/colab-badge.svg\" alt=\"Open In Colab\"/></a>"
      ]
    },
    {
      "cell_type": "markdown",
      "source": [
        "# Principios de programación 5\n",
        "---"
      ],
      "metadata": {
        "id": "Tu_PRIDRA_rK"
      }
    },
    {
      "cell_type": "markdown",
      "source": [
        "NOTAS ADICIONALES:\n",
        "* Cuando definas una variable, este nombre no debe ser igual al de alguna función. Esto puede producir que ya no puedas utilizar correctamente la función.\n",
        "* En la barra del lado izquierdo, hay una opción con símbolo $\\{x\\}$. Esta opción te mostrará los tipos de tus variables, sin la necesidad de usar la función `type()`."
      ],
      "metadata": {
        "id": "p0N2HPr8LKzL"
      }
    },
    {
      "cell_type": "markdown",
      "source": [
        "## Condicionales\n",
        "---"
      ],
      "metadata": {
        "id": "XjemkhGDHBPz"
      }
    },
    {
      "cell_type": "markdown",
      "source": [
        "### Condición `if`\n",
        "\n",
        "Si tenemos una solución cualquiera, podemos nosotros medir su pH y tener la siguiente clasificación:\n",
        "* Si $0< pH < 7$, la solución es ácida.\n",
        "* Si $pH = 7$, la solución es neutra.\n",
        "* Si $7 < pH < 14$, la solución es básica.\n",
        "Si nosotros queremos realizar una o varias instrucciones basandonos en una condición (por ejemplo, que el pH sea ácido), podemos utilizar la instrucción `if`, la cuál sigue la siguiete sintaxis:\n",
        "\n",
        "```python\n",
        "if condicion:\n",
        "  instruccion1\n",
        "  instruccion2\n",
        "```\n",
        "\n",
        "Comenzamos por la palabra `if`, seguidos de una condición, y terminamos la instrucción usando `:`. Luego, en las siguientes lineas, identadas como en el caso de `for`, indicamos que instrucciones se realizarán si la condición se cumple.\n",
        "\n",
        "❓ En una cc, crea una variable `ph` con un valor entre 0 y 14. En una nueva linea, escribe un `if` usando como condición `ph < 7`. En otra linea, asociada a `if`, imprime un mensaje sobre el tipo de solución dado el pH. Verifica tu respuesta, usando un valor de `ph` que cumpla la condición y uno que no.\n",
        "\n"
      ],
      "metadata": {
        "id": "Ux5vsWZFrRbT"
      }
    },
    {
      "cell_type": "code",
      "source": [],
      "metadata": {
        "id": "j_UbEeEf-XwZ"
      },
      "execution_count": null,
      "outputs": []
    },
    {
      "cell_type": "markdown",
      "source": [
        "### Lógica\n",
        "\n",
        "Si escribieramos en español lo que se evalúa al usar `if`, podríamos escribir: *Si la condición es verdad, entonces realiza las siguientes instrucciones.* Una condición, como la que describimos previamente, al ser evaluada solo puede dar como resultado una de dos posibilidades: o es cierta o es falsa. Por ejemplo, en `ph < 7`, solo hay dos posibilidades: o `ph` es menor que 7, lo cuál resultaría en que la condición se cumple y es cierta, o es mayor o igual a 7, en cuyo caso la condición se evalúa como falsa.\n",
        "\n",
        "Los `bool`, o *booleanos* en español, son otro tipo de dato que es utilizado en este tipo de operaciones condicionales. Este tipo de datos solo puede tomar dos valores posibles: `True` o `False`. Al igual que con otros tipos de datos, podemos definir variables que sean de tipo bool: `variable = True`. Estos valores booleanos forman parte de las palabras reservadas de Python, por lo que no debemos utilizarlas para definir una variable (No hacer `True = dato`).\n",
        "\n",
        "❓Define tres variables: una que almacene `True`, otra que almacene `False`, y una que almacene `ph < 7` (cuida de `ph` esté definido). Verifica el tipo de ambas usando `type()`, e intenta convertilas a tipos distintos (recuerda las funciones `int()`,  `float()` y `str()`)."
      ],
      "metadata": {
        "id": "_ONM6juNBVXG"
      }
    },
    {
      "cell_type": "code",
      "source": [],
      "metadata": {
        "id": "_LM4vAi_ijTm"
      },
      "execution_count": null,
      "outputs": []
    },
    {
      "cell_type": "markdown",
      "source": [
        "#### Operadores de comparación e identidad\n",
        "\n",
        "Hay otras operaciones que pueden pensarse como *pruebas de verdad* (¿Se cumple lo que la operación indica?). A continuación se muestra una tabla con algunos operadores de este tipo:\n",
        "\n",
        "\n",
        "|Operador|Interpretación|\n",
        "|:---:|---|\n",
        "|`<`|Menor que|\n",
        "|`>`|Mayor que|\n",
        "|`<=`|Menor igual que ($\\leq$)|\n",
        "|`<=`|Mayor igual que ($\\geq$)|\n",
        "|`==`|Igual a|\n",
        "|`!=`|Diferente a|\n",
        "|`is`|Idéntico a|\n",
        "\n",
        "❓Verifica el uso de estas expresiones. Pregunta en clase si surge alguna duda. Usa diferentes tipos de datos (enteros, reales, booleanos y cuerdas). En total, deberías tener cuatro pruebas por cada operador."
      ],
      "metadata": {
        "id": "e3R2QXGg4c3C"
      }
    },
    {
      "cell_type": "code",
      "source": [],
      "metadata": {
        "id": "eYYM3Mj0-D8V"
      },
      "execution_count": null,
      "outputs": []
    },
    {
      "cell_type": "markdown",
      "source": [
        "❓Crea dos nuevas condiciones para `ph`, adecuadas para indicar si la solución es básica o neutra."
      ],
      "metadata": {
        "id": "dCGWsbae-E_G"
      }
    },
    {
      "cell_type": "code",
      "source": [],
      "metadata": {
        "id": "fxZ5juvt-N7f"
      },
      "execution_count": null,
      "outputs": []
    },
    {
      "cell_type": "markdown",
      "source": [
        "#### Operadores lógicos\n",
        "\n",
        "Podemos crear condiciones compuestas haciendo uso de operadores lógicos. A continuación se muestra una tabla con algunos de estos operadores:\n",
        "\n",
        "|Operador|Interpretación|\n",
        "|--|--|\n",
        "|`and`|*y*|\n",
        "|`or`|*o*|\n",
        "|`not`|*no es*|\n",
        "\n",
        "Estos operadores siempre consideran que los datos sobre los que actúan son de tipo booleano.\n",
        "\n",
        "❓Ejecuta las siguientes expresiones y observa el resultado. Crea copias que prueben otras combinaciones de booleanos y de los operadores `and` y `or`."
      ],
      "metadata": {
        "id": "1lqntx3I-oxM"
      }
    },
    {
      "cell_type": "code",
      "source": [
        "print(True and True)\n",
        "print(True or True)"
      ],
      "metadata": {
        "id": "8wSikULcAxPr"
      },
      "execution_count": null,
      "outputs": []
    },
    {
      "cell_type": "markdown",
      "source": [
        "El operador `not` es diferente a los que hemos estado usando. En general, siempre tenemos expresiones del tipo `dato1 operador dato1`, como en la suma: `3 + 1` o en una comparación `5 < 3`. En el caso de `not`, solo actúa sobre un dato de su lado derecho: `not dato`. El efecto es siempre cambiar el valor del dato booleano que está a su derecha.\n",
        "\n",
        "❓Define un dato booleano, y utiliza `not` sobre dicho dato. Verifica su funcionamiento."
      ],
      "metadata": {
        "id": "kSMiUH4NAY8J"
      }
    },
    {
      "cell_type": "code",
      "source": [],
      "metadata": {
        "id": "_dDwEmUbBVuM"
      },
      "execution_count": null,
      "outputs": []
    },
    {
      "cell_type": "markdown",
      "source": [
        "❓Usando los operadores hasta ahora abordados, crea nuevas condiciones `if` para `ph` cuando la solución es ácida o es básica, pero incluyendo al *restricción* de que el pH debe estar entre 0 y 14. Prueba con valores adecuados de `ph` que las condiciones funcionan correctamente."
      ],
      "metadata": {
        "id": "_sAOd3NVCE0a"
      }
    },
    {
      "cell_type": "markdown",
      "source": [
        "### Condiciones `else` y `elif`\n",
        "\n",
        "Luego de ejecutar un `if` se ejecutan las instrucciones fuera del bloque (que no están identadas).\n",
        "\n",
        "❓Copia la condición que verifica si la solución es ácida, y pegala debajo de esta celda. Imprime al final, fuera del bloque del `if`, el mensaje `'Fin del programa.'`\n",
        "\n"
      ],
      "metadata": {
        "id": "xX3m08LKBr8E"
      }
    },
    {
      "cell_type": "markdown",
      "source": [
        "Quizá sería conveniente que la condición anterior indique cuando la solución no es ácida. Para ejecutar acciones solamente cuando no se cumple la condición `if` podemos utilizar la condición `else`:\n",
        "\n",
        "\n",
        "```python\n",
        "if condicion:\n",
        "  instruccion1 #Si condicion da como resultado True, se ejecuta esto\n",
        "  instruccion2\n",
        "else:\n",
        "  instruccion3 #Si condicion es False, se ejecuta esto otro\n",
        "instruccion4 #Sin importar el resultado de condicion, después de lo anterior se ejecuta esto.\n",
        "```\n",
        "❓Copia celda de código anterior. Incluye un `else` para imprimir `'La solución no es ácida'` bajo las condiciones adecuadas.\n",
        "\n"
      ],
      "metadata": {
        "id": "i3_JGUucHR_y"
      }
    },
    {
      "cell_type": "code",
      "source": [],
      "metadata": {
        "id": "ErR0KMc-HSZD"
      },
      "execution_count": null,
      "outputs": []
    },
    {
      "cell_type": "markdown",
      "source": [
        "También podemos incluir condiciones intermedias: cuando la condición `if` no se cumple, podemos utilizar `elif` para evaluar una o varias nuevas condiciones. Podemos o no al final incluir una condición `else`, que se evaluará solo si no se cumple ni la condición `if` ni las condiciones `elif`.\n",
        "\n",
        "```python\n",
        "if condicion1:\n",
        "  ... # Si se cumple condicion1, esto se ejecuta\n",
        "elif condicion2:\n",
        "  ...# Si no se cumple condicion1, evaluar condicion2. Si se cumple condicion 2, esto se ejecuta\n",
        "elif condicion3:\n",
        "  ...\n",
        "else:# Si no se cumple ninguna condicion, esto se ejecuta\n",
        "  ...\n",
        "```\n",
        "\n",
        "❓Crea un pequeño programa que indique si la solución es ácida, básica, neutra, o si el pH no está en el intervalo $[0,14]$. Utiliza `input()` para hacerlo interactivo. Debe mostrar un mensaje de bienvenida y uno de despedida, ayudando a indicar el inicio y final del programa."
      ],
      "metadata": {
        "id": "YXFSqT3LJBY7"
      }
    },
    {
      "cell_type": "markdown",
      "source": [
        "## Ejecución en la terminal\n",
        "\n",
        "Por ahora, la mayor parte de nuestra programación la hemos realizado exclusivamente en los notebooks de Jupyter. Pero en ocasiones, una vez que hemos desarrollado un procedimiento adecuado, necesitaremos ejecutar el programa sin tener que abrir el notebook. Para ello, tenemos que seguir algunos pasos:\n",
        "\n",
        "1.   Debemos escribir en un archivo de texto nuestro procedimiento. Esto puede hacerse escribiendo en un notebook de Jupyter nuevo, en una sola celda de código, las instrucciones del programa\n",
        "2.   Descargamos nuestro programa en formato .py, siguiendo las opciones *Archivo → Descargar → Descargar .py*\n",
        "3. En Linux o Mac, por medio de la terminal debemos ubicarnos en el folder donde está el archivo (o, equivalentemente, mover al archivo a nuestra ubicación). En Windows puede usarse la terminal o el explorador.\n",
        "4. Ejecutamos el archivo, ya sea usando `python programa.py` o con doble click sobre el archivo.\n",
        "\n",
        "❓Descarga el programa para imprimir nuestro tipo de solución dado su pH, y ejecutalo. Sigue las instrucciones anteriores. Incluye abajo una captura de pantalla de la ejecución de un ejemplo.\n",
        "\n"
      ],
      "metadata": {
        "id": "DBeXtnZ7EU_U"
      }
    },
    {
      "cell_type": "markdown",
      "source": [
        "## Tarea\n",
        "\n",
        "1. Supón que aislamos una pequeña proteina formada por la siguiente cadena de aminoácidos: MKTGRLLVYHSLDPNQWE (cada letra representa un aminoácido, puedes verificar en tablas). Almacena esta cadena en una variable. Usando `for`, itera sobre cada aminoácido e imprime en que número de aminoácido se encuentra el cíclo. Usando un `if` dentro del ciclo `for`, indica cuando el aminoácido sea leucina (L).\n",
        "\n",
        "2. Repite el ejercicio anterior, pero solamente imprime el número de aminoácido cuando este sea leucina.\n",
        "\n",
        "3. La siguiente lista muestra una serie de energías de interacción (en kJ/mol) entre algunos pares de átomos:\n",
        "`interacciones=[1.5, 20.14, 6.2, 3E4, 191.9, 0.3, -200]`\n",
        "\n",
        "\n",
        "\n",
        "Asumamos que valores positivos de energía se asocian a interacciones atractivas. Dada la siguiente clasificación:\n",
        "\n",
        "* Enlace iónico: mayor que 600 kJ/mol\n",
        "* Enlace covalente: 150-400 kJ/mol\n",
        "* Puente de hidrógeno: 6-30 kJ/mol\n",
        "* Interacción de van der Waals: 2-4 kJ/mol\n",
        "\n",
        "Crea un programa que, dentro de un ciclo, indique que tipo de enlace podría existir para cada energía de la lista. Indicar además cuando la energía esté entre dos clasificaciones distintas, y cuando la energía sea repulsiva."
      ],
      "metadata": {
        "id": "ylYI8qTW-Gxd"
      }
    },
    {
      "cell_type": "code",
      "source": [],
      "metadata": {
        "id": "8graavtuGZTM"
      },
      "execution_count": null,
      "outputs": []
    }
  ]
}