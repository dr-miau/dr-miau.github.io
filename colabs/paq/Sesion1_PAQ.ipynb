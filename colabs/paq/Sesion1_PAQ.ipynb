{
  "nbformat": 4,
  "nbformat_minor": 0,
  "metadata": {
    "colab": {
      "provenance": [],
      "authorship_tag": "ABX9TyNEL+EsRkScVhuTT8mp1VB7",
      "include_colab_link": true
    },
    "kernelspec": {
      "name": "python3",
      "display_name": "Python 3"
    },
    "language_info": {
      "name": "python"
    }
  },
  "cells": [
    {
      "cell_type": "markdown",
      "metadata": {
        "id": "view-in-github",
        "colab_type": "text"
      },
      "source": [
        "<a href=\"https://colab.research.google.com/github/molecular-mar/molecular-mar.github.io/blob/master/colabs/paq/Sesion1_PAQ.ipynb\" target=\"_parent\"><img src=\"https://colab.research.google.com/assets/colab-badge.svg\" alt=\"Open In Colab\"/></a>"
      ]
    },
    {
      "cell_type": "markdown",
      "source": [
        "# Bienvenido a Programación aplicada a la Química 23-O\n",
        "\n",
        "![](https://drive.google.com/uc?id=12Ab7Vo_dgdyxe4A3HAoxglBtT6JPaCaH)\n",
        "\n",
        "---\n",
        "\n",
        "En este curso, aprenderás herramientas básicas de programación que serán de utilidad para tu carrera.\n",
        "\n",
        "Para comenzar, revisemos algunos conceptos básicos:"
      ],
      "metadata": {
        "id": "F3Ah1SbCQCVi"
      }
    },
    {
      "cell_type": "markdown",
      "source": [
        "## ¿Qué es una computadora?\n",
        "\n",
        "* Herramienta para manipular datos\n",
        "\n",
        "![](https://img.freepik.com/premium-photo/cat-computer_815088-234.jpg)\n",
        "\n",
        "### ❓ *Tres palabras clave*\n",
        "\n",
        "*\n",
        "\n",
        "\n"
      ],
      "metadata": {
        "id": "gaMiKtPqSL8d"
      }
    },
    {
      "cell_type": "markdown",
      "source": [
        "## ¿Qué es un dato?\n",
        "\n",
        "* Una representación cualitativa o cuantitativa\n",
        "\n",
        "![](https://blogs.iadb.org/conocimiento-abierto/wp-content/uploads/sites/10/2015/11/Datasets.jpg)\n",
        "\n",
        "### ❓ *Tres palabras clave*\n",
        "\n",
        "*\n"
      ],
      "metadata": {
        "id": "_l0oj6FcTNW0"
      }
    },
    {
      "cell_type": "markdown",
      "source": [
        "## ¿Qué es un programa?\n",
        "\n",
        "* Conjunto de pasos para realizar una tarea\n",
        "\n",
        "![](https://images.shiksha.com/mediadata/ugcDocuments/images/wordpressImages/2021_12_Difference-Between-Algorithm-and-Program.jpg)\n",
        "\n",
        "### ❓ *Tres palabras clave*\n",
        "\n",
        "*\n"
      ],
      "metadata": {
        "id": "lkxY6k66SHf0"
      }
    },
    {
      "cell_type": "markdown",
      "source": [
        "## Esquema esencial de una computadora\n",
        "\n",
        "- **Central Processing Unit (CPU)**: Dispositivo que controla la computadora y realiza procesos. El componente principal es silicio.\n",
        "\n",
        "- **Random Access Memory (RAM)**: Almacenamiento de los datos temporales de los programas en ejecución.\n",
        "\n",
        "- **Disco duro**: Almacenamiento *permanente* de los datos, para su acceso posterior.\n",
        "\n",
        "- **Otros componentes**:\n",
        "  - Periféricos: Dispositivos para *visualizar* (salida/input) o *ingresar* (entrada/output) los datos.\n",
        "  - **Graphical Procesing Units (GPU)**: Unidades de procesamiento especializados para procesar imágenes/gráficos. Usados en diseño gráfico/arquitectura/videojuegos, también muy útiles en cómputo científico/IA."
      ],
      "metadata": {
        "id": "7ciAPwwSxdrv"
      }
    },
    {
      "cell_type": "markdown",
      "source": [
        "\n",
        "\n",
        "## Computadora-Programa-Datos\n",
        "\n",
        "❓ **Completa esta frase, llenando los espacios en blanco**\n",
        "\n",
        "Computadora _______ Programas _______ Datos."
      ],
      "metadata": {
        "id": "neWUe5d6wu6k"
      }
    },
    {
      "cell_type": "markdown",
      "source": [
        "## Lenguajes de programación\n",
        "\n",
        "La computadora *entiende* binario: 10101001\n",
        "\n",
        " - Esencialmente, pasa o no corriente en un transistor en el CPU. (IO en el interruptor de un foco)\n",
        "\n",
        "Los transistores se *agrupan* para controlar el dispositivo. De ahí surge el concepto de bit (1 o 0, un transistor) y byte (8 bits).\n",
        "\n",
        "Surge la necesidad de una forma de comunicación más cercana a nuestras necesidades: los lenguajes de programación.\n"
      ],
      "metadata": {
        "id": "ffseEqRKw9bK"
      }
    },
    {
      "cell_type": "markdown",
      "source": [
        "### Clasificación\n",
        "\n",
        "- Bajo nivel: Tienen acceso cercano al lenguaje binario fundamental de la computadora.\n",
        "  - Lenguaje ensamblador.\n",
        "\n",
        "```assembly\n",
        "    .model small\n",
        "    .stack\n",
        "    .data\n",
        "       saludo   db \"Hola mundo!!!\", \"$\"\n",
        "     \n",
        "    .code\n",
        "     \n",
        "    main  proc              ;Inicia proceso\n",
        "       mov   ax,seg saludo     ;hmm ¿seg?\n",
        "       mov   ds,ax          ;ds = ax = saludo\n",
        "     \n",
        "       mov   ah,09          ;Function(print string)\n",
        "       lea   dx,saludo         ;DX = String terminated by \"$\"\n",
        "       int   21h               ;Interruptions DOS Functions\n",
        "     \n",
        "    ;mensaje en pantalla\n",
        "     \n",
        "       mov   ax,4c00h       ;Function (Quit with exit code (EXIT))\n",
        "       int   21h            ;Interruption DOS Functions\n",
        "     \n",
        "    main  endp              ;Termina proceso\n",
        "    end main\n",
        "\n",
        "```\n",
        "\n",
        "\n",
        "- Alto nivel: Es más cercano a nuestro lenguaje común.\n",
        "  - Fortran, C, C++, Java\n",
        "  - Python, Julia, Ruby, Javascript\n",
        "\n",
        "```c\n",
        "#include <stdio.h>\n",
        "int main()\n",
        "{\n",
        "  printf(\"Hola UAMI\");\n",
        "  return 0;\n",
        "}\n",
        "```\n",
        "\n",
        "```python\n",
        "print('Hola UAMI')\n",
        "```"
      ],
      "metadata": {
        "id": "ToDy3Eja2ZTm"
      }
    },
    {
      "cell_type": "markdown",
      "source": [
        "## Python\n",
        "\n",
        "Lenguaje que utilizaremos en este curso. De amplio uso en cómputo científico e IA.\n",
        "\n",
        "![](https://www.python.org/static/community_logos/python-logo-master-v3-TM-flattened.png)"
      ],
      "metadata": {
        "id": "T7WmIxwS3bRe"
      }
    },
    {
      "cell_type": "markdown",
      "source": [
        "## Modelos de ejecución\n",
        "\n",
        "Hay dos formas básicas en las que un programa en un lenguaje de programación puede ser ejecutado:\n",
        "\n",
        "- Compilado: Se realiza primero la traducción al lenguaje de máquina, generando un ejecutable (Ejemplo: *uamito.exe*).\n",
        "\n",
        "- Interpretado: La traducción se realiza al vuelo, por lo que no es necesario realizar la traducción completa previa.\n",
        "\n",
        "❓ **¿Ventajas/Desventajas?**"
      ],
      "metadata": {
        "id": "sVTWF2CR3q7U"
      }
    },
    {
      "cell_type": "markdown",
      "source": [],
      "metadata": {
        "id": "-7uWdk8Vc9os"
      }
    }
  ]
}