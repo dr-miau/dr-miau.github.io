{
  "nbformat": 4,
  "nbformat_minor": 0,
  "metadata": {
    "colab": {
      "provenance": [],
      "authorship_tag": "ABX9TyMbDl+5/keFfC/1AvNbtU+e",
      "include_colab_link": true
    },
    "kernelspec": {
      "name": "python3",
      "display_name": "Python 3"
    },
    "language_info": {
      "name": "python"
    }
  },
  "cells": [
    {
      "cell_type": "markdown",
      "metadata": {
        "id": "view-in-github",
        "colab_type": "text"
      },
      "source": [
        "<a href=\"https://colab.research.google.com/github/molecular-mar/molecular-mar.github.io/blob/master/Sesion9_1_PAQ.ipynb\" target=\"_parent\"><img src=\"https://colab.research.google.com/assets/colab-badge.svg\" alt=\"Open In Colab\"/></a>"
      ]
    },
    {
      "cell_type": "markdown",
      "source": [
        "# Módulos y paquetes\n",
        "---\n"
      ],
      "metadata": {
        "id": "J9VIQaPeJ0Zd"
      }
    },
    {
      "cell_type": "markdown",
      "source": [
        "Las funciones resultan de gran utilidad, al condensar procedimientos que no quisieramos escribir desde cero cada que sean necesarios. Hasta ahora solo hemos usado las funciones que hemos definido y las llamadas *funciones internas*, que Python reconoce sin necesidad de pasos adicionales.\n",
        "\n",
        "La gran mayoría de las funciones de uso común en Python provienen de *paquetes*, que son compendios de funciones (y variables) previamente desarrollados con un fin específico. Dichas funciones se encuentran almacenadas en archivos, conocidos como módulos. En otros lenguajes a este tipo de compendios se les conocen como *bibliotecas*, o debido a una traducción incorrecta del inglés como *librerias*.\n",
        "\n",
        "Para utilizar un paquete debemos utilizar la instrucción `import`:\n",
        " ```python\n",
        " import paquete\n",
        " ```\n",
        "\n",
        " Un paquete común es el de funciones matemáticas `math`, el cuál incluye funciones como la raíz cuadrada, funciones trigonométricas, función logaritmo, constantes como $\\pi$ o $e$, entre otras."
      ],
      "metadata": {
        "id": "3mp2K_h9O4pw"
      }
    },
    {
      "cell_type": "code",
      "source": [
        "import math\n",
        "\n",
        "# Para utilizar una función de un paquete, debemos escribir el nombre\n",
        "# del paquete, un punto y el nombre de la función del paquete.\n",
        "print(math.sqrt(4))\n",
        "print(math.log(math.e)) # Nota que e, al ser un número, no va acompañado de parentesis\n",
        "print(math.pi)"
      ],
      "metadata": {
        "colab": {
          "base_uri": "https://localhost:8080/"
        },
        "id": "3pC8p1m1Q9ts",
        "outputId": "8ca4ba9c-3d07-43cf-a2a9-f2f470ceb6d6"
      },
      "execution_count": null,
      "outputs": [
        {
          "output_type": "stream",
          "name": "stdout",
          "text": [
            "2.0\n",
            "1.0\n",
            "3.141592653589793\n"
          ]
        }
      ]
    },
    {
      "cell_type": "markdown",
      "source": [
        "En la práctica no es común el uso del paquete `math`. En su lugar, suele utilizarse **Numpy**, cuyas capacidades son más extensas y suele utilizar algoritmos más eficientes. Es frecuente hacer un ajuste para no tener que utilizar el nombre completo del paquete cada que queremos utilizar una función del mismo. Para ello, usamos la instrucción `as`:"
      ],
      "metadata": {
        "id": "KxDB6Q2KRjau"
      }
    },
    {
      "cell_type": "code",
      "source": [
        "import numpy as np #usaremos np como 'apodo' de numpy\n",
        "\n",
        "np.pi"
      ],
      "metadata": {
        "colab": {
          "base_uri": "https://localhost:8080/"
        },
        "id": "gsLgHTn0wRKM",
        "outputId": "a3236851-da25-4f8d-a11f-91067755e8eb"
      },
      "execution_count": null,
      "outputs": [
        {
          "output_type": "execute_result",
          "data": {
            "text/plain": [
              "3.141592653589793"
            ]
          },
          "metadata": {},
          "execution_count": 1
        }
      ]
    },
    {
      "cell_type": "markdown",
      "source": [
        "Con la instrucción anterior, le hemos puesto un *apodo* al paquete `numpy`. Dicho apodo lo podemos definir como queramos, pero muchos paquetes suelen recomendar un apodo en específico, como es el caso de `np` para `numpy`."
      ],
      "metadata": {
        "id": "INaBT6LOd55u"
      }
    },
    {
      "cell_type": "markdown",
      "source": [
        "Tener que escribir el nombre del paquete al inicio, antes del punto, puede resultar engorroso. Pero tiene un uso importante: si nosotros definieramos una variable llamada `pi`, no habrá confusiones internamente sobre cuál es nuestra variable y cuál la del paquete Numpy (`np.pi`). Cuando cargamos muchos paquetes es útil por los mismos motivos: quizá el paquete `numeros` tiene una función llamada `suma`, y el paquete `matriz` también. Podemos cargar ambos módulos y sin confusiones utilizar una función o la otra: `numeros.suma(2,3)` y `matriz.suma(A,B)`.\n",
        "\n",
        "Aún así, es posible cargar funciones o variables de un paquete de tal forma que no sea necesario indicar de que paquete proviene. Para ellos usamos la instrucción `from` antes de `import`:\n",
        "\n",
        "```python\n",
        "from paquete import funcion1, variable1, funcion2,...\n",
        "```\n",
        "\n"
      ],
      "metadata": {
        "id": "EF7poM3HY4sG"
      }
    },
    {
      "cell_type": "markdown",
      "source": [
        "Revisa el siguiente ejemplo, donde cargamos el submódulo `random` del paquete `numpy`, que incluye funciones para generar números aleatorios."
      ],
      "metadata": {
        "id": "HfEWoMm2e9Bq"
      }
    },
    {
      "cell_type": "code",
      "source": [
        "from numpy import random\n",
        "random.rand()"
      ],
      "metadata": {
        "colab": {
          "base_uri": "https://localhost:8080/"
        },
        "id": "3gonWamze5d7",
        "outputId": "98671a16-7263-4bb9-adf7-4c59a0c94921"
      },
      "execution_count": 2,
      "outputs": [
        {
          "output_type": "execute_result",
          "data": {
            "text/plain": [
              "0.29601337634639957"
            ]
          },
          "metadata": {},
          "execution_count": 2
        }
      ]
    },
    {
      "cell_type": "markdown",
      "source": [
        "Tal como se indicó arriba, algunos paquetes internamente están divididos en secciones o submodulos, esto con el fin de tener una mejor organización."
      ],
      "metadata": {
        "id": "oxPP-8BsiqoY"
      }
    },
    {
      "cell_type": "markdown",
      "source": [
        "### Algunos paquetes comúnes para ciencias:\n",
        "\n",
        "* **Numpy**: Provee de herramientas para la manipulación de datos numéricos. Útil para problemas de algebra lineal, generación de números aleatorios, manipulación de funciones, métodos numéricos.\n",
        "\n",
        "* **Matplotlib**: Nos permite realizar gráficas de diversos tipos, con amplias capacidades de personalización.\n",
        "\n",
        "* **Pandas**: Para la creación y manipulación de datos en tablas, similar a lo que podríamos hacer en una hoja de cálculo.\n",
        "\n",
        "* **Sympy**: Para realizar cálculo simbólico, lo que permite realizar operaciones algebraicas con símbolos (por ejemplo, como podemos hacerlo con Mathematica o MatLab).\n",
        "\n",
        "* **Scikit-learn**: Para realizar procesos de aprendizaje automatizado,incluyendo clasificación, regresión y clustering.\n",
        "\n",
        "Dada su importancia, veremos a continuación algunos procedimientos básicos que podemos hacer con Numpy y Matplotlib. Las siguientes secciones fueron mayormente tomadas o adaptadas del siguiente notebook: [Python para Química, parte 2](https://colab.research.google.com/github/molecular-mar/ws_python_quimica/blob/main/PythonQuimiK2.ipynb)."
      ],
      "metadata": {
        "id": "fWhQJq1qi96g"
      }
    },
    {
      "cell_type": "markdown",
      "source": [
        "### Numpy\n",
        "\n",
        "Como se indicó arriba, Numpy nos puede ayudar a realizar muchas operaciones matemáticas. Estas no solo son accesibles de forma relativamente sencilla, sino que además están optimizadas, lo que hace que suelan realizarse más rápido que si nosotros crearamos una función con un fin similar.\n",
        "\n",
        "Para empezar, en Numpy podemos crear un tipo de dato similar a las listas, conocido como *arreglo* o `array`. En la siguiente celda, podemos ver como podemos crear este tipo de dato:"
      ],
      "metadata": {
        "id": "vpZK9fB1meEU"
      }
    },
    {
      "cell_type": "code",
      "source": [
        "#Importante siempre cargar primero el paquete si no lo hemos hecho\n",
        "import numpy as np\n",
        "\n",
        "#Para crear desde cero un arreglo, indicando sus elementos:\n",
        "arreglo_1 = np.array([3,6,3,6,9])\n",
        "#Nota que el argumento es una lista\n",
        "\n",
        "#Podemos crear un arreglo de numpy desde una variable que sea una lista:\n",
        "lista_1 = [2,4,2,4,8]\n",
        "arreglo_2 = np.array(lista_1)\n",
        "\n",
        "print(arreglo_1, lista_1, arreglo_2)\n",
        "# Nota cuales son las diferencias al imprimir una lista o imprimir un arreglo"
      ],
      "metadata": {
        "colab": {
          "base_uri": "https://localhost:8080/"
        },
        "id": "d2oEkFn3n1av",
        "outputId": "71ff30df-22f7-442e-cfa3-ce8b07009759"
      },
      "execution_count": 4,
      "outputs": [
        {
          "output_type": "stream",
          "name": "stdout",
          "text": [
            "[3 6 3 6 9] [2, 4, 2, 4, 8] [2 4 2 4 8]\n"
          ]
        }
      ]
    },
    {
      "cell_type": "markdown",
      "source": [
        "Es posible realizar algunas operaciones que hemos visto en el curso de una forma sencilla usando Numpy:"
      ],
      "metadata": {
        "id": "xQvzvZbGqajG"
      }
    },
    {
      "cell_type": "code",
      "source": [
        "arr = np.array([0, 1, 2, 3, 4, 5, 6, 7, 8, 9])\n",
        "print(2 * arr) # ¿Cómo haríamos esto usando listas?"
      ],
      "metadata": {
        "id": "-mMT0Gyl3sRz"
      },
      "execution_count": null,
      "outputs": []
    },
    {
      "cell_type": "markdown",
      "source": [
        "### Arreglos usando secuencias\n",
        "\n",
        "Podemos crear arreglos siguiendo secuencias que podamos definir de forma sencilla, similar a lo que haciamos con `range` pero con más posibilidades:\n"
      ],
      "metadata": {
        "id": "_BG96A-nXoKI"
      }
    },
    {
      "cell_type": "code",
      "source": [
        "# Con arange generamos secuencias como al usar range\n",
        "# arange(inicio, fin(no inclusivo), paso)\n",
        "arr = np.arange(0, 10, 0.5)\n",
        "arr"
      ],
      "metadata": {
        "id": "zpMVmKozXdzc"
      },
      "execution_count": null,
      "outputs": []
    },
    {
      "cell_type": "code",
      "source": [
        "# Con linspace debemos indicar el número de divisiones\n",
        "# linspace(inicio,fin(inclusivo),divisiones)\n",
        "arr = np.linspace(0,10, 20)\n",
        "arr"
      ],
      "metadata": {
        "id": "dqlHa4RHYFMR"
      },
      "execution_count": null,
      "outputs": []
    },
    {
      "cell_type": "code",
      "source": [
        "# Arreglos de ceros\n",
        "np.zeros((2,4))"
      ],
      "metadata": {
        "id": "rMUKjYa-Yh2O"
      },
      "execution_count": null,
      "outputs": []
    },
    {
      "cell_type": "code",
      "source": [
        "# Arreglos de unos\n",
        "np.ones(10)"
      ],
      "metadata": {
        "id": "s7-Sgl7LYlZq"
      },
      "execution_count": null,
      "outputs": []
    },
    {
      "cell_type": "code",
      "source": [
        "# Un arreglo con 3s\n",
        "arr = np.zeros((2,4))\n",
        "arr += 3\n",
        "print(arr)"
      ],
      "metadata": {
        "id": "smiTONwnYwrO"
      },
      "execution_count": null,
      "outputs": []
    },
    {
      "cell_type": "code",
      "source": [
        "# También podemos generar arreglos usando funciones\n",
        "def prod(x, y):\n",
        "    return x * y"
      ],
      "metadata": {
        "id": "fJw5RRxqZCCL"
      },
      "execution_count": null,
      "outputs": []
    },
    {
      "cell_type": "code",
      "source": [
        "np.fromfunction(prod, (3,3))"
      ],
      "metadata": {
        "id": "g7TTcHdKZJEi"
      },
      "execution_count": null,
      "outputs": []
    },
    {
      "cell_type": "markdown",
      "source": [
        "### Cambiando la forma del arreglo\n"
      ],
      "metadata": {
        "id": "lEtEQwqDXYvB"
      }
    },
    {
      "cell_type": "code",
      "source": [
        "# Para determinar la forma del arreglo, podemos usar shape y size\n",
        "matriz1 = np.ones((4,5))"
      ],
      "metadata": {
        "id": "hhcaOf7bZaID"
      },
      "execution_count": null,
      "outputs": []
    },
    {
      "cell_type": "code",
      "source": [
        "print(matriz1.size)\n",
        "print(matriz1.shape)"
      ],
      "metadata": {
        "id": "tQYE-7T8Znxy"
      },
      "execution_count": null,
      "outputs": []
    },
    {
      "cell_type": "code",
      "source": [
        "# Podemos cambiar la forma del arreglo\n",
        "array_1D = np.linspace(0, 9.5, 20)\n",
        "array_2D = np.reshape(array_1D, (4, 5))\n",
        "array_2D"
      ],
      "metadata": {
        "id": "RN0Fj4p5bLl7"
      },
      "execution_count": null,
      "outputs": []
    },
    {
      "cell_type": "code",
      "source": [
        "# Si solo sabemos una de las dimensiones esperadas,\n",
        "# podemos usar -1 en la otra dimensión.\n",
        "array_2D2 = np.reshape(array_1D, (5, -1))\n",
        "array_2D2"
      ],
      "metadata": {
        "id": "2ULGSBbBb8UJ"
      },
      "execution_count": null,
      "outputs": []
    },
    {
      "cell_type": "code",
      "source": [
        "# Para volverlo unidimensional (aplanarlo)\n",
        "array_2D.flatten()"
      ],
      "metadata": {
        "id": "LwHDcaLjcV3U"
      },
      "execution_count": null,
      "outputs": []
    },
    {
      "cell_type": "code",
      "source": [
        "# Podemos generar la transpuesta\n",
        "array_2D.T # Compara con array_2D2"
      ],
      "metadata": {
        "id": "ceo5YL-RcYt6"
      },
      "execution_count": null,
      "outputs": []
    },
    {
      "cell_type": "code",
      "source": [
        "# Vamos a unir dos arreglos\n",
        "a = np.arange(0, 5)\n",
        "b = np.arange(5, 10)"
      ],
      "metadata": {
        "id": "QKa-Kg9ccrva"
      },
      "execution_count": null,
      "outputs": []
    },
    {
      "cell_type": "markdown",
      "source": [
        "Hay varias formas de unir  arreglos:\n",
        "![](https://github.com/weisscharlesj/SciCompforChemists/raw/master/notebooks/chapter_04/img/stack.png)\n",
        "\n",
        "Para ello usaremos `np.vstack()`, `np.column_stack()`, `np.dstack()`, y `np.hstack()`."
      ],
      "metadata": {
        "id": "PcygA6pudpTM"
      }
    },
    {
      "cell_type": "code",
      "source": [
        "np.vstack((a, b))"
      ],
      "metadata": {
        "id": "7rAk1O65dJAQ"
      },
      "execution_count": null,
      "outputs": []
    },
    {
      "cell_type": "code",
      "source": [
        "np.hstack((a, b))"
      ],
      "metadata": {
        "id": "HYrC6eMGeJ9Y"
      },
      "execution_count": null,
      "outputs": []
    },
    {
      "cell_type": "code",
      "source": [
        "np.dstack((a, b))"
      ],
      "metadata": {
        "id": "3khu14WPeTCa"
      },
      "execution_count": null,
      "outputs": []
    },
    {
      "cell_type": "code",
      "source": [
        "np.column_stack((a,b))"
      ],
      "metadata": {
        "id": "Vta-fZDyeYaW"
      },
      "execution_count": null,
      "outputs": []
    },
    {
      "cell_type": "code",
      "source": [
        "# ¿Cuál es la diferencia entre dstack y column_stack?"
      ],
      "metadata": {
        "id": "LjYDvUxUeZW7"
      },
      "execution_count": null,
      "outputs": []
    },
    {
      "cell_type": "code",
      "source": [
        "# ¿Otra forma de generar el resultado de column_stack?"
      ],
      "metadata": {
        "id": "8Lf7xIkgeiDD"
      },
      "execution_count": null,
      "outputs": []
    },
    {
      "cell_type": "markdown",
      "source": [
        "### Índices en Numpy\n",
        "\n"
      ],
      "metadata": {
        "id": "0u-cZf5Ieo-n"
      }
    },
    {
      "cell_type": "code",
      "source": [
        "# Para un arreglo de una dimensión, es igual que con listas\n",
        "array_1D[5]"
      ],
      "metadata": {
        "id": "sBJZOR4Oe8G5"
      },
      "execution_count": null,
      "outputs": []
    },
    {
      "cell_type": "code",
      "source": [
        "# Para un arreglo multidimensional, podemos hacer varias cosas\n",
        "array_2D[1] # Una fila completa"
      ],
      "metadata": {
        "id": "k78ZITJNfA-0"
      },
      "execution_count": null,
      "outputs": []
    },
    {
      "cell_type": "code",
      "source": [
        "array_2D[1][0] # Un solo elemento"
      ],
      "metadata": {
        "id": "QMlDXKOffQ3p"
      },
      "execution_count": null,
      "outputs": []
    },
    {
      "cell_type": "code",
      "source": [
        "array_2D[1,0] # Equivalente"
      ],
      "metadata": {
        "id": "u26SJG6ofYvH"
      },
      "execution_count": null,
      "outputs": []
    },
    {
      "cell_type": "code",
      "source": [
        "array_2D[:,1] # Una columna"
      ],
      "metadata": {
        "id": "BP24hukwfyH9"
      },
      "execution_count": null,
      "outputs": []
    },
    {
      "cell_type": "code",
      "source": [
        "# ¿Cómo accedemos al último elemento?"
      ],
      "metadata": {
        "id": "Pc91b-migFOR"
      },
      "execution_count": null,
      "outputs": []
    },
    {
      "cell_type": "markdown",
      "source": [
        "### Operaciones vectorizadas\n"
      ],
      "metadata": {
        "id": "DKJML5k-gWav"
      }
    },
    {
      "cell_type": "code",
      "source": [
        "#Numpy incluye funciones que actúan sobre todos los elementos de los arreglos\n",
        "cuadrados = np.array([1, 4, 9, 16, 25])\n",
        "np.sqrt(cuadrados) # Esto no es posible con sqrt del paquete math"
      ],
      "metadata": {
        "id": "j2FZp8P1gdGF"
      },
      "execution_count": null,
      "outputs": []
    },
    {
      "cell_type": "code",
      "source": [
        "# Operaciones con escalares y arreglos\n",
        "3 * np.array([[5, 6], [7, 8]])"
      ],
      "metadata": {
        "id": "IKfrL-vpg0w3"
      },
      "execution_count": null,
      "outputs": []
    },
    {
      "cell_type": "code",
      "source": [
        "# Entre arreglos del mismo tamaño\n",
        "a = np.array([[1,2], [3,4]])\n",
        "b = np.array([[5,6], [7,8]])\n",
        "a + b # Prueba con otras operaciones"
      ],
      "metadata": {
        "id": "CsBrftPFg-Mn"
      },
      "execution_count": null,
      "outputs": []
    },
    {
      "cell_type": "markdown",
      "source": [
        "### Operaciones algebraicas"
      ],
      "metadata": {
        "id": "xl9oybd_rQKI"
      }
    },
    {
      "cell_type": "code",
      "source": [
        "producto_punto = np.dot(a,b) # Para realizar el producto punto\n",
        "producto_cruz = np.matmul(a,b) # Para realizar el producto matricial\n",
        "determinante = np.linalg.det(a) # Para obtener el determinante\n",
        "valores_propios, vectores_propios = np.linalg.eig(a) # Para obtener los valores y vectores propios\n",
        "a_inv = np.linalg.inv(a) # Matriz inversa"
      ],
      "metadata": {
        "id": "ZpktCfF0rXPg"
      },
      "execution_count": null,
      "outputs": []
    },
    {
      "cell_type": "code",
      "source": [
        "# Podemos resolver sistemas de ecuaciones lineales Ax=B\n",
        "mat_A = np.array([[4,-2,1],[-3,-1,4],[1,-1,3]])\n",
        "mat_B = np.array([15,8,13])\n",
        "np.linalg.solve(mat_A,mat_B)\n"
      ],
      "metadata": {
        "colab": {
          "base_uri": "https://localhost:8080/"
        },
        "id": "DkA6cgfDtT6K",
        "outputId": "fa5a7304-3ee0-49da-c704-fa2f0dbfff04"
      },
      "execution_count": 6,
      "outputs": [
        {
          "output_type": "execute_result",
          "data": {
            "text/plain": [
              "array([ 2., -2.,  3.])"
            ]
          },
          "metadata": {},
          "execution_count": 6
        }
      ]
    },
    {
      "cell_type": "markdown",
      "source": [
        "### Transmisión o Broadcasting\n",
        "\n",
        "Para lidiar con dimensiones distintas, NumPy 'clona' el arreglo de menor dimensión para igualar al de mayor dimensión."
      ],
      "metadata": {
        "id": "symu9dBAhMBO"
      }
    },
    {
      "cell_type": "code",
      "source": [
        "a = np.array([[1,2], [3,4]])\n",
        "b = np.array([2,2])\n",
        "a + b"
      ],
      "metadata": {
        "id": "IqRVKV3jg3vl"
      },
      "execution_count": null,
      "outputs": []
    },
    {
      "cell_type": "code",
      "source": [
        "# ¿Tiene sentido con la operación con el escalar?"
      ],
      "metadata": {
        "id": "9AR75Sg8hxee"
      },
      "execution_count": null,
      "outputs": []
    },
    {
      "cell_type": "code",
      "source": [
        "# No siempre es posible\n",
        "a = np.array([[1,2], [3,4]])\n",
        "b = np.array([[1,1,1], [2,2,2], [3,3,3]])\n",
        "a + b"
      ],
      "metadata": {
        "id": "e9sqQJOJh1ai"
      },
      "execution_count": null,
      "outputs": []
    },
    {
      "cell_type": "markdown",
      "source": [
        "### Vectorizando otras funciones"
      ],
      "metadata": {
        "id": "Y8nVyRKtiLQ-"
      }
    },
    {
      "cell_type": "code",
      "source": [
        "def velocidad(k, conc):\n",
        "    '''\n",
        "    Calcula la velocidad de una reacción de primer orden\n",
        "    '''\n",
        "    return k * conc"
      ],
      "metadata": {
        "id": "_S0TxeLCiNf1"
      },
      "execution_count": null,
      "outputs": []
    },
    {
      "cell_type": "code",
      "source": [
        "concentraciones = [0.1, 0.5, 1.0, 1.5, 2.0]"
      ],
      "metadata": {
        "id": "JdyZgh9jimXG"
      },
      "execution_count": null,
      "outputs": []
    },
    {
      "cell_type": "code",
      "source": [
        "vvelocidad = np.vectorize(velocidad)\n",
        "vvelocidad(1.2, concentraciones)"
      ],
      "metadata": {
        "id": "mf6nr0FSiKJX"
      },
      "execution_count": null,
      "outputs": []
    },
    {
      "cell_type": "markdown",
      "source": [
        "### Números aleatorios\n",
        "\n",
        "Dependiendo de nuestras necesidades, podemos generar números aleatorios de igual probabilidad o que sigan alguna distribución."
      ],
      "metadata": {
        "id": "mBEqVcqojg1M"
      }
    },
    {
      "cell_type": "code",
      "source": [
        "# Para generar números de una distribución uniforme\n",
        "# igualmente probables\n",
        "np.random.rand(10) # Genera floats en [0,1)"
      ],
      "metadata": {
        "id": "yPECH-BQjsHN"
      },
      "execution_count": null,
      "outputs": []
    },
    {
      "cell_type": "code",
      "source": [
        "#Genera enteros en un rango\n",
        "np.random.randint(0, high=10, size=10)"
      ],
      "metadata": {
        "id": "jzjyRZWbkZnC"
      },
      "execution_count": null,
      "outputs": []
    },
    {
      "cell_type": "code",
      "source": [
        "# De una distribución binomial (piensa en volados)\n",
        "# binomial(número_de_monedas, probabilidad_de_obtener_1, números_a_generar)\n",
        "np.random.binomial(2, p=0.5, size=100)"
      ],
      "metadata": {
        "id": "BpuWH1oMkvXX"
      },
      "execution_count": null,
      "outputs": []
    },
    {
      "cell_type": "code",
      "source": [
        "# Distribución de Poisson\n",
        "# poisson(promedio_estadístico,n)\n",
        "np.random.poisson(lam=3.6, size=30)"
      ],
      "metadata": {
        "id": "bwepadZ1lyjG"
      },
      "execution_count": null,
      "outputs": []
    },
    {
      "cell_type": "code",
      "source": [
        "# Distibución normal (estándar, centrada en 0)\n",
        "np.random.randn(10)"
      ],
      "metadata": {
        "id": "ANedaiTNmW62"
      },
      "execution_count": null,
      "outputs": []
    },
    {
      "cell_type": "markdown",
      "source": [
        "# Gráficas con matplotlib\n",
        "\n",
        "Esta biblioteca es una de las más utilizadas para realizar gráficas. Forma parte del compendio SciPy."
      ],
      "metadata": {
        "id": "0NbjFKvKPLmV"
      }
    },
    {
      "cell_type": "code",
      "execution_count": null,
      "metadata": {
        "id": "uRfj1AiJOUaZ"
      },
      "outputs": [],
      "source": [
        "# Para comenzar, debemos importar la biblioteca\n",
        "import matplotlib.pyplot as plt #Solamente importamos el modulo pyplot, una parte de todo el paquete"
      ]
    },
    {
      "cell_type": "markdown",
      "source": [
        "## Funcionamiento básico"
      ],
      "metadata": {
        "id": "G0x85iNVZl2J"
      }
    },
    {
      "cell_type": "markdown",
      "source": [
        "Comencemos generando algunos datos para graficar. Por ejemplo, usando la función de onda ($\\psi$) del orbital atómico 3s de hidrógeno ($r$ en Bohrs).\n",
        "\n",
        "$$ \\psi_{3s} = \\frac{2}{27}\\sqrt{3}(2r^{2/9} - 2r + 3)e^{-r/3} $$\n",
        "\n",
        "![Densidad electrónica de orbitales s hidrogenoides](https://cdn.kastatic.org/ka-perseus-images/867daad52b2895a83b5f3723828dfd0403e78f53.jpg)"
      ],
      "metadata": {
        "id": "7_FBuaToQMbr"
      }
    },
    {
      "cell_type": "code",
      "source": [
        "#Definimos una funcion que evalue esta expresion\n",
        "import math\n",
        "\n",
        "def orbital_3S(r):\n",
        "    wf = (2/27)*math.sqrt(3)*(2*r**2/9 - 2*r + 3)* math.exp(-\n",
        "         r/3) #Podemos romper algunas expresiones\n",
        "              #para que sean más faciles de leer\n",
        "    return wf"
      ],
      "metadata": {
        "id": "IZsnnaUqObM0"
      },
      "execution_count": null,
      "outputs": []
    },
    {
      "cell_type": "code",
      "source": [
        "# Generemos algunos valores. Intentemos entender las siguientes expresiones:\n",
        "r = [num / 4 for num in range(1, 150, 3)]\n",
        "psi_3s = [orbital_3S(num) for num in r]"
      ],
      "metadata": {
        "id": "lqmnF713QwPN"
      },
      "execution_count": null,
      "outputs": []
    },
    {
      "cell_type": "code",
      "source": [
        "# Lo anterior es un ejemplo de formas pythonicas de hacer una tarea. No siempre\n",
        "# son muy intuitivas, pero suelen ser muy practicas."
      ],
      "metadata": {
        "id": "uwfZTWHQRzxE"
      },
      "execution_count": null,
      "outputs": []
    },
    {
      "cell_type": "code",
      "source": [
        "# Usamos la función plot de plt\n",
        "plt.plot(r,psi_3s,'o') #Argumentos: x, y, marcador"
      ],
      "metadata": {
        "id": "bnHLoBYMSglh"
      },
      "execution_count": null,
      "outputs": []
    },
    {
      "cell_type": "markdown",
      "source": [
        "Hay varios parámetros que podemos ajustar:\n",
        "\n",
        "* Marcadores:  o , * , ^ , s , p\n",
        "* Linea: - , -- , -. , :\n",
        "* Colores: r, b, g, k, m, c, y\n",
        "\n",
        "Los keywords correspondientes son **marker**, **linestyle** y **color**. Todos estos keywords deben ser 'cadenas'.\n",
        "\n",
        "\n",
        "\n"
      ],
      "metadata": {
        "id": "3-kwi8NDS_SR"
      }
    },
    {
      "cell_type": "code",
      "source": [
        "#Repite el gráfico modificando los parámetros anteriores.\n",
        "plt.plot(r,psi_3s)"
      ],
      "metadata": {
        "id": "nxdaqWBkSxK2"
      },
      "execution_count": null,
      "outputs": []
    },
    {
      "cell_type": "markdown",
      "source": [
        "Muchos parámetros de matplotlib tienen formas abreviadas:\n",
        "\n",
        "* linestyle -> ls\n",
        "* linewidth -> lw\n",
        "* color -> s\n",
        "* markersize -> ms\n",
        "\n",
        "Además, puedes usar un par de color + linea o marcador: 'ro' , 'k-'"
      ],
      "metadata": {
        "id": "hERUDbu4VQCj"
      }
    },
    {
      "cell_type": "code",
      "source": [
        "# Prueba con estas otras instrucciones"
      ],
      "metadata": {
        "id": "XdPPA-h6V9zM"
      },
      "execution_count": null,
      "outputs": []
    },
    {
      "cell_type": "code",
      "source": [
        "# ¿Qué le falta a nuestro gráfico?\n",
        "plt.plot(r, psi_3s, 'go-')\n",
        "plt.xlabel('r (Bohrs)')\n",
        "plt.ylabel('$\\Psi$') # Notación de LaTeX\n",
        "plt.title('Función de onda radial 3s de hidrógeno')"
      ],
      "metadata": {
        "id": "0NrWJPRJU9Ya"
      },
      "execution_count": null,
      "outputs": []
    },
    {
      "cell_type": "code",
      "source": [
        "# Podemos cambiar el tamaño del gráfico\n",
        "plt.figure(figsize=(8,4))\n",
        "plt.xlabel('r (Bohrs)')\n",
        "plt.ylabel('$\\Psi$') # Notación de LaTeX\n",
        "plt.title('Función de onda radial 3s de hidrógeno')\n",
        "plt.plot(r, psi_3s, 'go-')\n"
      ],
      "metadata": {
        "id": "ymm33juuXYj9"
      },
      "execution_count": null,
      "outputs": []
    },
    {
      "cell_type": "code",
      "source": [
        "#También podemos guardar la imagen\n",
        "plt.plot(r, psi_3s, 'go-')\n",
        "plt.savefig('H3s.png', format='PNG', dpi=600)\n"
      ],
      "metadata": {
        "id": "ZPxfJDoHY1qU"
      },
      "execution_count": null,
      "outputs": []
    },
    {
      "cell_type": "markdown",
      "source": [
        "## Tipos de gráficos"
      ],
      "metadata": {
        "id": "AZ6lvfzKZwI8"
      }
    },
    {
      "cell_type": "markdown",
      "source": [
        "### Gráfico de barras\n",
        "\n",
        "Grafiquemos las masas atómicas de los primeros 10 átomos de la tabla periódica."
      ],
      "metadata": {
        "id": "4kZIkvmQaAJd"
      }
    },
    {
      "cell_type": "code",
      "source": [
        "numero_Z = [x + 1 for x in range(10)]\n",
        "masa_atomica = [1.01, 4.04, 6.94, 9.01, 10.81, 12.01, 14.01, 16.00, 19.00, 20.18]"
      ],
      "metadata": {
        "id": "hzOrba3oZ_d9"
      },
      "execution_count": null,
      "outputs": []
    },
    {
      "cell_type": "code",
      "source": [
        "plt.bar(numero_Z, masa_atomica) #Para generar gráficos de barras\n",
        "plt.xlabel('Número atómico')\n",
        "plt.ylabel('Masa molar, g/mol')"
      ],
      "metadata": {
        "id": "AJA4t43YaVB8"
      },
      "execution_count": null,
      "outputs": []
    },
    {
      "cell_type": "markdown",
      "source": [
        "### Gráfico de dispersión\n",
        "\n",
        "Además de usar plt.plot(), podemos usar plt.scatter().\n",
        "\n",
        "Usaremos un conjunto de datos famoso sobre vinos 🍷."
      ],
      "metadata": {
        "id": "7Uz78AiRa2HJ"
      }
    },
    {
      "cell_type": "code",
      "source": [
        "# Estamos usando la biblioteca scikit-learn para obtener los datos.\n",
        "# Esta biblioteca se utiliza para machine learning\n",
        "from sklearn.datasets import load_wine\n",
        "wine = load_wine()\n",
        "wine = wine.data"
      ],
      "metadata": {
        "id": "7OrsGoujbHyc"
      },
      "execution_count": null,
      "outputs": []
    },
    {
      "cell_type": "code",
      "source": [
        "# Wine es una practicamente una tabla, formada de listas de listas\n",
        "wine"
      ],
      "metadata": {
        "id": "MuiJgsbmbp_h"
      },
      "execution_count": null,
      "outputs": []
    },
    {
      "cell_type": "code",
      "source": [
        "plt.scatter(wine[:,0], wine[:,5], c=wine[:,12]) # Analiza los indices usados\n",
        "plt.xlabel('Contenido de alcohol') # columna 0\n",
        "plt.ylabel('Alcalinidad de la ceniza') # columna 5\n",
        "cbar = plt.colorbar()\n",
        "cbar.set_label('Contenido de prolina') #columna 12"
      ],
      "metadata": {
        "id": "CRP753EZbL4b"
      },
      "execution_count": null,
      "outputs": []
    },
    {
      "cell_type": "markdown",
      "source": [
        "### Histogramas\n",
        "\n",
        "Tenemos una lista de calores específicos $Cp$ para varios metales. Queremos ver como se distribuyen estos valores."
      ],
      "metadata": {
        "id": "MwCmWU4fdS_S"
      }
    },
    {
      "cell_type": "code",
      "source": [
        "Cp = [0.897, 0.207, 0.231, 0.231, 0.449, 0.385, 0.129,\n",
        "      0.412, 0.128, 1.02, 0.140, 0.233, 0.227, 0.523,\n",
        "      0.134, 0.387]\n",
        "\n",
        "plt.hist(Cp, bins=10, edgecolor='k') #Para generar el histograma\n",
        "plt.xlabel('Calor específico, J/gC')\n",
        "plt.ylabel('Número de metales')"
      ],
      "metadata": {
        "id": "YF1nzxbAbk39"
      },
      "execution_count": null,
      "outputs": []
    },
    {
      "cell_type": "code",
      "source": [
        "#En lugar de dar el número de bins, damos los intervalos\n",
        "plt.hist(Cp, bins=[0, 0.2, 0.4, 0.6, 0.8, 1.0], edgecolor='k')\n",
        "plt.xlabel('Calor específico, J/gC')\n",
        "plt.ylabel('Numero de metales')\n"
      ],
      "metadata": {
        "id": "kXGUHiRwdyO9"
      },
      "execution_count": null,
      "outputs": []
    },
    {
      "cell_type": "code",
      "source": [
        "# Hay muchos otros tipos de gráficos\n",
        "import numpy as np\n",
        "theta = np.arange(0, 360,0.1)\n",
        "r = [abs(0.5 * (3 * math.cos(num)**2 - 1)) for num in theta]\n",
        "plt.figure(figsize=(8,8))\n",
        "plt.polar(theta, r)\n",
        "plt.title('Orbital ' + '$d_{z^2}$')"
      ],
      "metadata": {
        "id": "HziJWBUeeDyj"
      },
      "execution_count": null,
      "outputs": []
    },
    {
      "cell_type": "markdown",
      "source": [
        "## Varios gráficos en uno"
      ],
      "metadata": {
        "id": "7u8jyDaJgS3U"
      }
    },
    {
      "cell_type": "code",
      "source": [
        "def orbital_3P(r):\n",
        "    wf = (math.sqrt(6)*r*(4-(2/3)*r)*math.e**(-r/3))/81\n",
        "    return wf"
      ],
      "metadata": {
        "id": "zCcqmzVee5hT"
      },
      "execution_count": null,
      "outputs": []
    },
    {
      "cell_type": "code",
      "source": [
        "r = [num / 4 for num in range(1, 150, 3)]\n",
        "psi_3p = [orbital_3P(num) for num in r]"
      ],
      "metadata": {
        "id": "33hotHtSgcV7"
      },
      "execution_count": null,
      "outputs": []
    },
    {
      "cell_type": "code",
      "source": [
        "# Para tener multiples gráficas\n",
        "plt.plot(r, psi_3s)\n",
        "plt.plot(r, psi_3p)\n",
        "plt.xlabel('Radio, Bohrs')\n",
        "plt.ylabel('Función de onda')\n"
      ],
      "metadata": {
        "id": "7hH_Psjngf0n"
      },
      "execution_count": null,
      "outputs": []
    },
    {
      "cell_type": "code",
      "source": [
        "# O también:\n",
        "plt.plot(r, psi_3s, 'bo', r, psi_3p,'r^')\n",
        "plt.xlabel('Radio, Bohrs')\n",
        "plt.ylabel('Función de onda')"
      ],
      "metadata": {
        "id": "_7TRF9Rtglev"
      },
      "execution_count": null,
      "outputs": []
    },
    {
      "cell_type": "code",
      "source": [
        "#Agregamos leyendas\n",
        "plt.plot(r, psi_3s, label='Orbital 3s')\n",
        "plt.plot(r, psi_3p, label='Orbital 3p')\n",
        "plt.xlabel('Radio, Bohrs')\n",
        "plt.ylabel('Función de onda')\n",
        "plt.legend()"
      ],
      "metadata": {
        "id": "FJdjvvgagv9o"
      },
      "execution_count": null,
      "outputs": []
    },
    {
      "cell_type": "markdown",
      "source": [
        "## Gráficos múltiples"
      ],
      "metadata": {
        "id": "EFgbndBGhPaO"
      }
    },
    {
      "cell_type": "code",
      "source": [
        "plt.figure(figsize=(12,4))\n",
        "\n",
        "plt.subplot(1,2,1) # primer subgráfico\n",
        "plt.plot(r, psi_3s)\n",
        "plt.hlines(0, 0, 35, linestyle='dashed', color='C1')\n",
        "plt.xlabel('Radio, Bohrs')\n",
        "plt.title('Orbital 3s')\n",
        "\n",
        "plt.subplot(1,2,2) # segundo subgráfico\n",
        "plt.plot(r, psi_3p)\n",
        "plt.hlines(0, 0, 35, linestyle='dashed', color='C1')\n",
        "plt.xlabel('Radio, Bohrs')\n",
        "plt.title('Orbital 3p')\n"
      ],
      "metadata": {
        "id": "aQnuStMAhAlY"
      },
      "execution_count": null,
      "outputs": []
    },
    {
      "cell_type": "code",
      "source": [
        "# Otra forma\n",
        "fig = plt.figure(figsize=(8,6))\n",
        "\n",
        "ax1 = fig.add_subplot(2,1,1)\n",
        "ax1.plot(r, psi_3s)\n",
        "ax1.hlines(0, 0, 35, linestyle='dashed', color='C1')\n",
        "ax1.set_title('Orbital 3s')\n",
        "ax1.set_xlabel('Radio, $a_u$')\n",
        "\n",
        "\n",
        "ax2 = fig.add_subplot(2,1,2)\n",
        "ax2.plot(r, psi_3p)\n",
        "ax2.hlines(0, 0, 35, linestyle='dashed', color='C1')\n",
        "ax2.set_title('Orbital 3p')\n",
        "ax2.set_xlabel('Radio, $a_u$')\n",
        "\n",
        "plt.tight_layout()"
      ],
      "metadata": {
        "id": "op2-RvqghSCq"
      },
      "execution_count": null,
      "outputs": []
    },
    {
      "cell_type": "markdown",
      "source": [
        "Gráfico de Ramachandran -> [Nat. Chem. Biol. 2016, 12, 46-50](https://doi.org/10.1038/nchembio.1976)"
      ],
      "metadata": {
        "id": "kizluANCkG1d"
      }
    },
    {
      "cell_type": "code",
      "source": [
        "rama = np.genfromtxt('https://raw.githubusercontent.com/weisscharlesj/SciCompforChemists/master/notebooks/chapter_03/data/hydrogenase_5a4m_phipsi.csv',\n",
        "                     delimiter=',', skip_header=1)\n",
        "\n",
        "psi = rama[:,0]\n",
        "phi = rama[:,1]\n"
      ],
      "metadata": {
        "id": "Ny8OO520kGX7"
      },
      "execution_count": null,
      "outputs": []
    },
    {
      "cell_type": "code",
      "source": [
        "plt.figure(figsize=(10,6))\n",
        "\n",
        "plt.subplot(2,1,1)\n",
        "plt.plot(phi, psi, '.', markersize=8)\n",
        "plt.xlim(-180, 180)\n",
        "plt.ylim(-180, 180)\n",
        "plt.xlabel('$\\phi, grados$', fontsize=15)\n",
        "plt.ylabel('$\\psi, grados$', fontsize=15)\n",
        "plt.title('Gráfica de Ramachandran')\n",
        "\n",
        "plt.subplot(2,2,3)\n",
        "plt.hist(phi[1:], edgecolor='k')\n",
        "plt.xlabel('$\\phi, grados$')\n",
        "plt.ylabel('Conteo')\n",
        "plt.title('$\\phi \\, ángulos$')\n",
        "\n",
        "plt.subplot(2,2,4)\n",
        "plt.hist(psi[:-1], edgecolor='k')\n",
        "plt.xlabel('$\\psi, grados$')\n",
        "plt.ylabel('Conteo')\n",
        "plt.title('$\\psi \\, ángulos$')\n",
        "\n",
        "plt.tight_layout()"
      ],
      "metadata": {
        "id": "z1ABhPMukYrW"
      },
      "execution_count": null,
      "outputs": []
    },
    {
      "cell_type": "markdown",
      "source": [
        "## Gráficos de 3D"
      ],
      "metadata": {
        "id": "LGcOQrPNjub2"
      }
    },
    {
      "cell_type": "code",
      "source": [
        "from mpl_toolkits.mplot3d import Axes3D\n",
        "import matplotlib.pyplot as plt\n",
        "import pandas as pd"
      ],
      "metadata": {
        "id": "Urc43RiniRBW"
      },
      "execution_count": null,
      "outputs": []
    },
    {
      "cell_type": "code",
      "source": [
        "#Fulereno\n",
        "C60 = pd.read_csv('https://raw.githubusercontent.com/weisscharlesj/SciCompforChemists/master/notebooks/chapter_03/data/C60.csv', delimiter=',')\n",
        "C60\n",
        "x, y, z = C60.iloc[:,0], C60.iloc[:,1], C60.iloc[:,2]"
      ],
      "metadata": {
        "id": "10Qdjwk_iYPE"
      },
      "execution_count": null,
      "outputs": []
    },
    {
      "cell_type": "code",
      "source": [
        "#OPCIONAL, USAR AL FINAL\n",
        "#!pip install ipympl\n",
        "#%matplotlib widget\n",
        "#from google.colab import output\n",
        "#output.enable_custom_widget_manager()"
      ],
      "metadata": {
        "id": "nIeELn0M0tm3"
      },
      "execution_count": null,
      "outputs": []
    },
    {
      "cell_type": "code",
      "source": [
        "\n",
        "fig = plt.figure(figsize = (10,6))\n",
        "\n",
        "ax = fig.add_subplot(1,1,1, projection='3d')\n",
        "#ax = Axes3D(fig)\n",
        "ax.plot(x, y, z, 'o')\n",
        "\n",
        "ax.set_xlabel('X axis')\n",
        "ax.set_ylabel('Y axis')\n",
        "ax.set_zlabel('Z axis')"
      ],
      "metadata": {
        "id": "fmPfSnKcigzF"
      },
      "execution_count": null,
      "outputs": []
    },
    {
      "cell_type": "code",
      "source": [
        "import numpy as np\n",
        "\n",
        "x = np.arange(-10, 10)\n",
        "y = np.arange(-10, 10)\n",
        "X, Y = np.meshgrid(x, y)\n",
        "Z = 1 - X**2 - Y**2"
      ],
      "metadata": {
        "id": "_AYw8yHSivyQ"
      },
      "execution_count": null,
      "outputs": []
    },
    {
      "cell_type": "code",
      "source": [
        "from mpl_toolkits.mplot3d import Axes3D\n",
        "\n",
        "fig = plt.figure(figsize=(10,6))\n",
        "\n",
        "ax = fig.add_subplot(1,1,1, projection='3d')\n",
        "ax.plot_surface(X, Y, Z, cmap='viridis')\n",
        "\n",
        "ax.set_xlabel('X axis')\n",
        "ax.set_ylabel('Y axis')\n",
        "ax.set_zlabel('Z axis')\n"
      ],
      "metadata": {
        "id": "8gIaN61rjezs"
      },
      "execution_count": null,
      "outputs": []
    },
    {
      "cell_type": "markdown",
      "source": [
        "## Tarea\n",
        "\n",
        "A continuación se muestra una serie de ejercicios. Elige al menos 4 para la entrega de tu tarea. En todos los casos debes hacer uso de al menos uno de los paquetes mostrados (numpy o matplotlib). En el caso de gráficas, incluye siempre los elementos indispensables de un buen gráfico: título del gráfico y títulos de los ejes (con unidades cuando sea necesario)."
      ],
      "metadata": {
        "id": "HY-8M4k7lep6"
      }
    },
    {
      "cell_type": "markdown",
      "source": [
        "1. (Vale por 2) Tenemos los siguientes cuatro archivos:\n",
        "\n",
        "* https://raw.githubusercontent.com/weisscharlesj/SciCompforChemists/master/notebooks/chapter_05/data/blue1.csv\n",
        "* https://raw.githubusercontent.com/weisscharlesj/SciCompforChemists/master/notebooks/chapter_05/data/green3.csv\n",
        "* https://raw.githubusercontent.com/weisscharlesj/SciCompforChemists/master/notebooks/chapter_05/data/red40.csv\n",
        "* https://raw.githubusercontent.com/weisscharlesj/SciCompforChemists/master/notebooks/chapter_05/data/yellow6.csv\n",
        "\n",
        "Cada archivo tiene datos de espectro UV-vis para cuatro colorantes de comida, con la primer columna las longitudes de onda (nm) y la segunda las absorbancias.\n",
        "\n",
        "* Coloca en una sola gráfica de matplotlib los espectros de estos tres colorantes. Cambia el color de forma correspondiente.\n",
        "* Investiga cuál es el máximo de absorbancia de al menos dos de estos colorantes. ¿Te parece que coincide con lo observado?\n",
        "* Repite la gráfica pero cambiando las unidades de longitud de onda a número de onda.\n",
        "* Extra: `numpy.argmax(arreglo)` sirve para encontrar en qué índice de un arreglo de una dimensión se encuentra el valor más grande. Usalo para encontrar en qué longitud de onda la absorbancia del colorante Azul 1 es máxima."
      ],
      "metadata": {
        "id": "zhIiLnAnxfNZ"
      }
    },
    {
      "cell_type": "code",
      "source": [
        "import matplotlib.pyplot as plt"
      ],
      "metadata": {
        "id": "DV4qpqamHbz2"
      },
      "execution_count": 9,
      "outputs": []
    },
    {
      "cell_type": "code",
      "source": [
        "# Esta celda muestra un ejemplo de como podemos convertir los datos de un archivo a un arreglo de numpy\n",
        "blue1 = np.genfromtxt('https://raw.githubusercontent.com/weisscharlesj/SciCompforChemists/master/notebooks/chapter_05/data/blue1.csv', delimiter=',', skip_header=1)\n"
      ],
      "metadata": {
        "id": "JvgFeLq3GW3q"
      },
      "execution_count": null,
      "outputs": []
    },
    {
      "cell_type": "markdown",
      "source": [
        "2. Obten la gráfica P(V) para 1.00 mol de He(g) a 298 K en un recipiente expandible que pasa de 1 a 20 L. Considera comportamiento de gas ideal (R = 0.08206 L·atm/mol·K). Procura utilizar algún fragmento de código ya generado para la clase. Repite la gráfica pero con unidades de m$^3$ y Pa, sin recalcular los valores.\n"
      ],
      "metadata": {
        "id": "VAklwXWOLKVm"
      }
    },
    {
      "cell_type": "markdown",
      "source": [
        "3. La siguiente tabla muestra los valores calculados de energía libre en la unión y separación de H$_2$(g) por un catalizador de Ni. Grafica las energías a lo largo de la reacción usando un tipo de gráfico distinto a un gráfico de lineas o de dispersión. Los datos provienen de Inorg. Chem. 2016, 55, 445−460.\n",
        "\n",
        "\n",
        "|Paso|Energía libre(kcal/mol)|\n",
        "|--|--|\n",
        "|1|0.0|\n",
        "|2|11.6|\n",
        "|3|9.8|\n",
        "|4|13.4|\n",
        "|5|5.8|\n",
        "|6|8.3|\n",
        "|7|2.7|\n",
        "\n"
      ],
      "metadata": {
        "id": "0W1n4Z5WMkVz"
      }
    },
    {
      "cell_type": "markdown",
      "source": [
        "4. La relación entre $\\Delta Gº$ y $K$ (constante de equilibrio) se muestra a continuación:\n",
        "$$\\Delta Gº = -RTln(K)$$\n",
        "Grafica $\\Delta Gº(K)$ a temperatura y presión estándar para valores de $K$ entre 0.001 y 1000. Usa 10, 500, 1000 y 5000 puntos. No utilices `for`."
      ],
      "metadata": {
        "id": "-RJ_u_RAhvil"
      }
    },
    {
      "cell_type": "markdown",
      "source": [
        "5. (Vale por 2) Se realiza una titulación de una solución de ácido acético usando hidróxido de sodio. Deseamos conocer $v_{NaOH}$ necesario para neutralizar una concentración dada de ácido acético. La reacción tiene la forma:\n",
        "$$CH_3COOH+NaOH→ CH_3COONa+H_2O$$\n",
        "\n",
        "Considera los siguientes datos:\n",
        "* $v^0_{acetico} = 50mL$\n",
        "* $c^0_{acetico} = 0.1M$\n",
        "* $c^0_{NaOH} = 0.1M$\n",
        "\n",
        " 1. Crea un *arreglo* representando el volumen de $NaOH$ añadido. Comienza en cero y usa incrementos de 1 mL.\n",
        " 2. * Calcula el número de moles de ácido acético iniciales.\n",
        "    * Considerando la estequiometría calcula los moles de NaOH necesarios para neutralizar la reacción en cada paso de la titulación.\n",
        "    * Considera la disociación del ácido acético:\n",
        "    $$CH3COOH⇌CH3COO^-+H^+$$\n",
        "     y calcula las concentraciones de $CH3COO^-$ y  $H+$ después de cada adición.\n",
        "    *  Actualiza los moles de $CH_3COOH$ y $NaOH$ conforme avanza la reacción.\n",
        "\n",
        " 3. Grafica la titulación, usando en el eje x el volúmen añadido de $NaOH$ y en el eje y las concentraciones de $CH_3COOH$, $CH3COO^-$ y $H^+$\n",
        "\n"
      ],
      "metadata": {
        "id": "YzL5qr0Qi1c1"
      }
    },
    {
      "cell_type": "code",
      "source": [],
      "metadata": {
        "id": "crXXpprUJc14"
      },
      "execution_count": null,
      "outputs": []
    }
  ]
}