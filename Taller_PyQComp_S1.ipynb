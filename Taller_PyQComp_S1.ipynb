{
  "nbformat": 4,
  "nbformat_minor": 0,
  "metadata": {
    "colab": {
      "provenance": [],
      "toc_visible": true,
      "authorship_tag": "ABX9TyN6zYycdv4//SOQMGv8KX5V",
      "include_colab_link": true
    },
    "kernelspec": {
      "name": "python3",
      "display_name": "Python 3"
    },
    "language_info": {
      "name": "python"
    }
  },
  "cells": [
    {
      "cell_type": "markdown",
      "metadata": {
        "id": "view-in-github",
        "colab_type": "text"
      },
      "source": [
        "<a href=\"https://colab.research.google.com/github/molecular-mar/molecular-mar.github.io/blob/master/Taller_PyQComp_S1.ipynb\" target=\"_parent\"><img src=\"https://colab.research.google.com/assets/colab-badge.svg\" alt=\"Open In Colab\"/></a>"
      ]
    },
    {
      "cell_type": "markdown",
      "source": [
        "# Python en Química Computacional: análisis de datos y visualización molecular\n",
        "\n",
        "![tdm_2014](https://simulacion-molecular.mx/wp-content/uploads/2023/09/asdf.jpeg)\n",
        "\n",
        "Este Notebook muestra fundamentos de Python necesarios para el análisis de datos generados en flujos de trabajo de Química Computacional. Adicionalmente, veremos como visualizar algunos sistemas usando también Python."
      ],
      "metadata": {
        "id": "qEPz6r4CY5dB"
      }
    },
    {
      "cell_type": "markdown",
      "source": [
        "## Fundamentos de Python"
      ],
      "metadata": {
        "id": "LkaFm06AZbuG"
      }
    },
    {
      "cell_type": "markdown",
      "source": [
        "### Qué es Python\n",
        "\n",
        "Python es un lenguaje de programación, permitiendonos desarrollar aplicaciones computacionales diversas. Algunas de sus características son:\n",
        "\n",
        "* *Es un lenguaje interpretado*: no requiere compilarse para ejecutarse. Por ello resulta inmediato ejecutar sus programas. Una desventaja es que la interpretación implica un costo adicional frente a programas compilados.\n",
        "\n",
        "La ejecución requiere de un *interprete*:\n",
        "```console\n",
        "$ python program.py\n",
        "```\n",
        "\n",
        "\n",
        "* Usando el interprete, es posible ejecutar código de forma interactiva:\n",
        "\n",
        "```console\n",
        "$ python\n",
        "Python 3.9\n",
        "[GCC 11.3.1 20220421 (Red Hat 11.3.1-2)] on linux\n",
        "Type \"help\", \"copyright\", \"credits\" or \"license\" for more information.\n",
        ">>> # Instrucciones de Python interactivas\n",
        "```\n",
        "\n",
        "\n",
        "* *Primordialmente Orientado a Objetos*.\n",
        "\n",
        "* *Comunidad amplia*: Existe una gran cantidad de bibliotecas, lo que permite su uso en ambitos que incluyen desarrollo web, cómputo científico e inteligencia artificial."
      ],
      "metadata": {
        "id": "IaavbnWjosgB"
      }
    },
    {
      "cell_type": "markdown",
      "source": [
        "### Jupyter Notebooks y Google Colab\n",
        "\n",
        "#### Jupyter Notebooks\n",
        "\n",
        "Las Jupyter Notebooks fueron desarrolladas como *bitácoras* para el análisis de datos. Son documentos formados por bloques, cuyo contenido puede ser texto en formato **Markdown** o código ejecutable en **Python**, aunque es posible usar otros lenguajes.\n",
        "\n",
        "#### Google Colab\n",
        "\n",
        "Google Colab es una implementación de los Jupyter Notebooks. Algunos puntos a considerar:\n",
        "\n",
        "* Permite el acceso a máquinas virtuales, en donde se ejecuta el código desarrollado. Estas incluyen (ejemplo):\n",
        "  * 12.7 GB de RAM\n",
        "  * 107.7 GB de Disco duro\n",
        "  * Acceso a GPU (NVIDIA T4 en la versión gratuita) y a TPU (Tensor Processing Units).\n",
        "* Puede integrarse con Google Drive.\n",
        "* Permite en cierto grado el trabajo colaborativo.\n",
        "* Es necesario acceso a internet."
      ],
      "metadata": {
        "id": "YIgUx3HCoubF"
      }
    },
    {
      "cell_type": "markdown",
      "source": [
        "### Bloques de Texto\n",
        "\n",
        "Los bloques de texto, como los que has visto hasta este punto en el documento, hacen uso de Markdown. Si haces doble click sobre el texto, puedes acceder al texto en Markdown que genera el texto visualizado.\n",
        "\n",
        "Para visualizar el contenido generado puedes seleccionar otra celda, o usar la combinación de teclas: ` ⇧ + Enter`. Esta combinación equivale a **Ejecutar** la celda.\n",
        "\n",
        "Puedes hacer uso de las herramientas de formato que se encuentran en la parte superior de la celda. Esto puede ayudarte a familiarizarte con el formato de Markdown.\n",
        "\n",
        "Para una descripción más detalladas, abre este [enlace](https://www.markdownguide.org/cheat-sheet/).\n",
        "\n",
        "*NOTA*: La implementación de Markdown de Google Colab no incluye algunas características (Ej. HTML)."
      ],
      "metadata": {
        "id": "oEyN4eXpraqP"
      }
    },
    {
      "cell_type": "markdown",
      "source": [
        "#### Funciones básicas de Colab\n",
        "\n",
        "* Para abrir o crear un nuevo Notebook, usa el menú *File*.\n",
        "* Para ver el Índice o Tabla de contenidos, selecciona el primer ícono del lado izquierdo.\n",
        "* Para crear un nuevo bloque, usa las opciones con el símbolo +, debajo de los Menús.\n",
        "* Dichas opciones aparecen si colocas tu cursor en la orilla de la celda.\n",
        "* Algunas opciones aparecen en la esquina superior derecha de la celda cuando la estás editando.\n"
      ],
      "metadata": {
        "id": "-w5i3oVlwL81"
      }
    },
    {
      "cell_type": "markdown",
      "source": [
        "### ❓ Ejercicio sugerido:\n",
        "Prueba las opciones de formato e intenta generar en una nueva celda un escrito sobre el [Modelo de esferas duras](https://en.wikipedia.org/wiki/Hard_spheres), incluyendo algunas ecuaciones e imágenes."
      ],
      "metadata": {
        "id": "VDvO2_GpvAaB"
      }
    },
    {
      "cell_type": "markdown",
      "source": [
        "## Python como calculadora\n",
        "\n",
        "Ahora, veamos debajo algunas celdas de código. Para ejecutar su contenido, puedes usar la combiación de teclas de *Ejecutar* (ver arriba) o dar click sobre el simbolo ▶ a la izquierda de la celda."
      ],
      "metadata": {
        "id": "xKEgGsWjv0le"
      }
    },
    {
      "cell_type": "code",
      "execution_count": null,
      "metadata": {
        "id": "HyX9u0uDYD95"
      },
      "outputs": [],
      "source": [
        "5 + 5"
      ]
    },
    {
      "cell_type": "code",
      "source": [
        "# Esto es un comentario. Empiezan por el simbolo # y son ignorados por el interprete."
      ],
      "metadata": {
        "id": "PIhWQUuAHL2M"
      },
      "execution_count": null,
      "outputs": []
    },
    {
      "cell_type": "code",
      "source": [
        "1 - 10"
      ],
      "metadata": {
        "id": "EvEQ_e6dHSl5"
      },
      "execution_count": null,
      "outputs": []
    },
    {
      "cell_type": "code",
      "source": [
        "100*6 # Nota que los espacios son ignorados"
      ],
      "metadata": {
        "id": "f1-hpE1PHXr0"
      },
      "execution_count": null,
      "outputs": []
    },
    {
      "cell_type": "code",
      "source": [
        "1/5"
      ],
      "metadata": {
        "id": "SzazUyPLHaBN"
      },
      "execution_count": null,
      "outputs": []
    },
    {
      "cell_type": "code",
      "source": [
        "20 + 10 * (5-3)"
      ],
      "metadata": {
        "id": "UGKHpc3HHnX3"
      },
      "execution_count": null,
      "outputs": []
    },
    {
      "cell_type": "code",
      "source": [
        "10**2 # Potencia"
      ],
      "metadata": {
        "id": "kBWnY9LOIAtP"
      },
      "execution_count": null,
      "outputs": []
    },
    {
      "cell_type": "code",
      "source": [
        "-1//2 # Division entera"
      ],
      "metadata": {
        "id": "fGf8gfRjIFgU"
      },
      "execution_count": null,
      "outputs": []
    },
    {
      "cell_type": "code",
      "source": [
        "4%2 # Modulo"
      ],
      "metadata": {
        "id": "0v8DOoLiIQaP"
      },
      "execution_count": null,
      "outputs": []
    },
    {
      "cell_type": "markdown",
      "source": [
        "### Variables\n",
        "\n",
        "Las operaciones observadas son evaluadas y se muestra su resultado. La información usada luego desaparece.\n",
        "Para que podamos reutilizar esta información debemos de almacenarla, usando para ello variables.\n",
        "\n",
        "Supongamos que deseamos almacenar la información necesaria para calcular $\\Delta G$, usando $$\\Delta G = \\Delta H - T \\Delta S$$"
      ],
      "metadata": {
        "id": "cOxzcfVsHwsE"
      }
    },
    {
      "cell_type": "code",
      "source": [
        "deltaH = -541.5   #kJ/mol\n",
        "deltaS =  10.4     #kJ/(mol K)\n",
        "temp = 298      #Kelvin\n",
        "deltaG = deltaH - (temp * deltaS) # Puedes usar parentesis para agrupar\n",
        "#deltaG"
      ],
      "metadata": {
        "id": "HifRn41UHt2G"
      },
      "execution_count": null,
      "outputs": []
    },
    {
      "cell_type": "markdown",
      "source": [
        "Algunos puntos a notar:\n",
        "* Cuando hay varias lineas en un bloque, estas son evaluadas de forma ordenada.\n",
        "* Cuando almacenamos una variable, su valor no se muestra/imprime de vuelta.\n",
        "* Podemos imprimir el valor de la variable solo *llamando* a la variable.\n",
        "* Si llamamos variables en lineas distintas a la última del bloque, esta no se imprimirá.\n",
        "\n",
        "Para imprimir variables/cantidades/expresiones en cualquier linea, usamos la función `print(variable)`:"
      ],
      "metadata": {
        "id": "8CKzM-gqJvZC"
      }
    },
    {
      "cell_type": "code",
      "source": [
        "print(deltaH)\n",
        "deltaS * 2 # No se imprime. Tambien nota que no alteramos deltaS\n",
        "print(temp)\n",
        "print(temp*deltaS)"
      ],
      "metadata": {
        "id": "YJhcO3tAN2xk"
      },
      "execution_count": null,
      "outputs": []
    },
    {
      "cell_type": "code",
      "source": [
        "#Podemos asignar variables en una misma linea\n",
        "deltaH, deltaS, temp = -541.5, 10.4, 298\n",
        "deltaG = deltaH - temp * deltaS\n",
        "print(deltaG)\n"
      ],
      "metadata": {
        "id": "DVTwqAl6Os0H"
      },
      "execution_count": null,
      "outputs": []
    },
    {
      "cell_type": "markdown",
      "source": [
        "### Tipos de variables\n",
        "\n",
        "Las variables pueden ser de distintos tipos, dado el tipo de información que almacenan. Algunos tipos son entero (`int`), real o de punto flotante (`float`), y texto o cuerdas (`string`).\n",
        "\n",
        "Es posible cambiar el tipo de una variable `x` usando las funciones `int(x)`, `float(x)` o `str(x)`. La función `type(x)` indica el tipo de una variable."
      ],
      "metadata": {
        "id": "6VDR63vmJKzq"
      }
    },
    {
      "cell_type": "code",
      "source": [
        "type(deltaG)"
      ],
      "metadata": {
        "id": "w4tNhN0bJG-L"
      },
      "execution_count": null,
      "outputs": []
    },
    {
      "cell_type": "code",
      "source": [
        "deltaG_string = str(deltaG)\n",
        "type(deltaG_string)"
      ],
      "metadata": {
        "id": "UOEmRBamPv4h"
      },
      "execution_count": null,
      "outputs": []
    },
    {
      "cell_type": "markdown",
      "source": [
        "### Listas y cuerdas\n",
        "\n",
        "Las listas son un tipo de variable diseñado para almacenar múltiples datos. Las listas se definen entre corchetes `[]`."
      ],
      "metadata": {
        "id": "Ij_WO1HjP180"
      }
    },
    {
      "cell_type": "code",
      "source": [
        "# Esto es una lista\n",
        "energia_kcal = [-13.4, -2.7, 5.4, 42.1]\n",
        "# Podemos observar su tamanio\n",
        "energia_tamanio = len(energia_kcal)\n",
        "energia_tamanio"
      ],
      "metadata": {
        "id": "LZ4-H3RlPykD"
      },
      "execution_count": null,
      "outputs": []
    },
    {
      "cell_type": "markdown",
      "source": [
        "Otro tipo de variable/dato son las cuerdas. Estas se definen entre comillas simples o dobles (`''` o `\"\"`). Una forma de ver a las cuerdas es como una lista de caractéres."
      ],
      "metadata": {
        "id": "4cpgrYu-Qe7i"
      }
    },
    {
      "cell_type": "code",
      "source": [
        "# Imprime el tamanio de la lista\n",
        "print('El tamaño de la lista es', energia_tamanio)"
      ],
      "metadata": {
        "id": "tmei-QSMQ_55"
      },
      "execution_count": null,
      "outputs": []
    },
    {
      "cell_type": "code",
      "source": [
        "# Podemos acceder a los elementos de la lista indicando la posicion\n",
        "# entre corchetes\n",
        "energia_kcal[0]"
      ],
      "metadata": {
        "id": "73hkAtjKRjlM"
      },
      "execution_count": null,
      "outputs": []
    },
    {
      "cell_type": "code",
      "source": [
        "# Convirtamos el segundo valor de la lista en kJ\n",
        "energia_kiloj = energia_kcal[1] * 4.184\n",
        "print(energia_kiloj)\n"
      ],
      "metadata": {
        "id": "os7gNKGebXfc"
      },
      "execution_count": null,
      "outputs": []
    },
    {
      "cell_type": "code",
      "source": [
        "# En Python podemos usar indices negativos, que van en sentido 'contrario'\n",
        "# -1 es el ultimo valor, -2 el penultimo.\n",
        "energia_kcal[-1]"
      ],
      "metadata": {
        "id": "JeED5UPaqRL5"
      },
      "execution_count": null,
      "outputs": []
    },
    {
      "cell_type": "markdown",
      "source": [
        "### Slices\n",
        "\n",
        "Podemos seleccionar secciones de una lista. Para ello usamos `lista[inicio:fin]`."
      ],
      "metadata": {
        "id": "lnWFahDdRiWR"
      }
    },
    {
      "cell_type": "code",
      "source": [
        "energia_kcal[0:2] # Nota que el elemento 'final' no se contempla"
      ],
      "metadata": {
        "id": "2Dln1pldcOlU"
      },
      "execution_count": null,
      "outputs": []
    },
    {
      "cell_type": "code",
      "source": [
        "# Si no incluyes el elemento 'inicial', se parte desde el primer\n",
        "# elemento.\n",
        "energia_kcal[:2]"
      ],
      "metadata": {
        "id": "DajGAXdycSme"
      },
      "execution_count": null,
      "outputs": []
    },
    {
      "cell_type": "code",
      "source": [
        "# Efecto analogo si no incluyes el 'final'\n",
        "energia_kcal[:2]"
      ],
      "metadata": {
        "id": "idunbIEZetmx"
      },
      "execution_count": null,
      "outputs": []
    },
    {
      "cell_type": "markdown",
      "source": [
        "## Ciclos For\n",
        "\n",
        "Es frecuente que necesitemos realizar una tarea de forma reiterada. Para ello, podemos utilizar los ciclos For:\n",
        "\n",
        "```python\n",
        "for item in lista:\n",
        "    # instrucciones\n",
        "```\n",
        "\n",
        "En esta instrucción, `item` es una variable que tomará los valores de cada elemento en `lista`. Durante el `for` se ejecutarán las instrucciones *identadas* (con un número fijo de espacios al inicio), y una vez que se ejecuten todas estas `item` cambiará su valor al siguiente elemento de `lista`, hasta terminar con dichos elementos"
      ],
      "metadata": {
        "id": "zV5vc-R8QaHQ"
      }
    },
    {
      "cell_type": "code",
      "source": [
        "for energia in energia_kcal:\n",
        "  print('Una energía en kcal es', energia)\n",
        "  print('La misma energía en kJ es', energia * 4.184)"
      ],
      "metadata": {
        "id": "YRrfYFSotpCC"
      },
      "execution_count": null,
      "outputs": []
    },
    {
      "cell_type": "code",
      "source": [
        "energia # La variable termina con el último valor de la lista"
      ],
      "metadata": {
        "id": "vAontlpJuMtj"
      },
      "execution_count": null,
      "outputs": []
    },
    {
      "cell_type": "markdown",
      "source": [
        "Es común usar estos ciclos para generar nuevas variables o listas. Pero debemos crear esa variable o lista antes de editarla en el ciclo.\n",
        "\n",
        "*Extra:* Las variables definidas en *bloques*, secciones identadas de código, son globales y pueden ser usadas fuera del bloque. La necesidad de definirlas *a priori* es cuando en lugar de definirlas las editamos (`+=` o `x.append()`)"
      ],
      "metadata": {
        "id": "Z1YmB-cYuF9x"
      }
    },
    {
      "cell_type": "code",
      "source": [
        "energia_total = 0 # Intenta comentar esta definicion de variable\n",
        "for energia in energia_kcal:\n",
        "    energia_total = energia_total + energia # O energia_total += energia\n",
        "energia_total"
      ],
      "metadata": {
        "id": "FnXUkQftuFcK"
      },
      "execution_count": null,
      "outputs": []
    },
    {
      "cell_type": "markdown",
      "source": [
        "En el caso de listas, usamos `lista.append(elemento)` para agregar `elemento` al final de `lista`."
      ],
      "metadata": {
        "id": "4WkVoTViverC"
      }
    },
    {
      "cell_type": "code",
      "source": [
        "factor_kcal_hartree = 9.597e+20 # Python entiende notacion cientifica\n",
        "energias_hartree = [] # Lista vacia\n",
        "for energia in energia_kcal:\n",
        "    energias_hartree.append(energia * factor_kcal_hartree)\n",
        "energias_hartree"
      ],
      "metadata": {
        "id": "BbhPgbWCt7x4"
      },
      "execution_count": null,
      "outputs": []
    },
    {
      "cell_type": "markdown",
      "source": [
        "## Declaraciones Lógicas If\n",
        "\n",
        "Podemos establecer condiciones para controlar que una o más instrucciones se ejecuten. Para ello usamos:\n",
        "\n",
        "```python\n",
        "if condicion:\n",
        "    # instrucciones\n",
        "```\n",
        "La condición es una operación lógica cuyo resultado debe ser cierto(`True`) o falso(`False`). Algunas de estas operaciones son:\n",
        "\n",
        "* igual a `==`\n",
        "* no igual a `!=`. `!` Funciona junto con el resto de operaciones lógicas, y equivale a invertir el resultado (si es falso, convertir en cierto, y viceversa),\n",
        "* mayor que `>`\n",
        "* menor que `<`\n",
        "* mayor igual que `>=`\n",
        "* menor igual que `<=`\n",
        "\n"
      ],
      "metadata": {
        "id": "xVpbdwiAwYpf"
      }
    },
    {
      "cell_type": "code",
      "source": [
        "#Generemos una lista solo con energias negativas\n",
        "energias_negativas = []\n",
        "\n",
        "for energia in energia_kcal:\n",
        "    if energia < 0:\n",
        "        energias_negativas.append(energia) # Debemos identar a un nuevo nivel\n",
        "\n",
        "print(energias_negativas)"
      ],
      "metadata": {
        "id": "CqQZfqxzvYRp"
      },
      "execution_count": null,
      "outputs": []
    },
    {
      "cell_type": "code",
      "source": [
        "# Podemos evaluar mas de una condicion incluyendo\n",
        "# alguno de los siguientes operadores: 'and', 'or' y 'not'\n",
        "energia_negativa2 = []\n",
        "for numero in energia_kcal:\n",
        "    if numero < 0 or numero < -3: # Prueba cambiando por and\n",
        "        energia_negativa2.append(numero)\n",
        "\n",
        "print(energia_negativa2)\n"
      ],
      "metadata": {
        "id": "Jb30TFvSyr1P"
      },
      "execution_count": null,
      "outputs": []
    },
    {
      "cell_type": "markdown",
      "source": [
        "## ❓ Ejercicio sugerido:\n",
        "\n",
        "La siguiente lista tiene valores reales y números almacenados como cuerdas. Copiala en un bloque de código:\n",
        "\n",
        "```python\n",
        "lista_datos = ['-12.5', 14.4, 8.1, '42']\n",
        "```\n",
        "\n",
        "Crea un ciclo `for` que te permita convertir los elementos que son tipo `string` en tipo `float`. Guarda **todos**\n",
        " los elementos en una nueva lista llamada lista_numeros.\n",
        "\n"
      ],
      "metadata": {
        "id": "CWulRiU90Jp-"
      }
    },
    {
      "cell_type": "markdown",
      "source": [
        "## Observaciones sobre Jupyter Notebooks\n",
        "\n",
        "Ten en cuenta que los Jupyter Notebooks te permiten ejecutar de forma 'desordenada' los bloques de código: puedes intentar ejecutar el último y luego ejecutar el primero. Esto puede afectar el valor de tus variables de formas no esperadas: puedes intentar ejecutar una celda con una variable que no ha sido definida, ya que no ejecutaste la celda correspondiente."
      ],
      "metadata": {
        "id": "jRVH1p0D1Wxh"
      }
    },
    {
      "cell_type": "code",
      "source": [],
      "metadata": {
        "id": "TTzsYlvAydVJ"
      },
      "execution_count": null,
      "outputs": []
    }
  ]
}