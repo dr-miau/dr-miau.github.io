{
  "nbformat": 4,
  "nbformat_minor": 0,
  "metadata": {
    "colab": {
      "provenance": [],
      "authorship_tag": "ABX9TyOIze0vgjsBsn6Et09+Syky",
      "include_colab_link": true
    },
    "kernelspec": {
      "name": "python3",
      "display_name": "Python 3"
    },
    "language_info": {
      "name": "python"
    }
  },
  "cells": [
    {
      "cell_type": "markdown",
      "metadata": {
        "id": "view-in-github",
        "colab_type": "text"
      },
      "source": [
        "<a href=\"https://colab.research.google.com/github/molecular-mar/molecular-mar.github.io/blob/master/Sesion7_1_PAQ.ipynb\" target=\"_parent\"><img src=\"https://colab.research.google.com/assets/colab-badge.svg\" alt=\"Open In Colab\"/></a>"
      ]
    },
    {
      "cell_type": "markdown",
      "source": [
        "# Principios de programación 6\n",
        "---"
      ],
      "metadata": {
        "id": "Tu_PRIDRA_rK"
      }
    },
    {
      "cell_type": "markdown",
      "source": [
        "## Creación de Funciones\n",
        "---"
      ],
      "metadata": {
        "id": "XjemkhGDHBPz"
      }
    },
    {
      "cell_type": "markdown",
      "source": [
        "### Funciones básicas\n",
        "\n",
        "Hasta ahora hemos hecho uso de *funciones*, tales como `len()`, `type()`, `abs()` y `round()`. Para entender mejor cómo es que funcionan las funciones, veamos como podemos crear nuestras propias funciones.\n",
        "\n",
        "Una de las utilidades de programar es evitar repetir una tarea una y otra vez. Una *función* es un conjunto de instrucciones fijo al cuál le damos un nombre para utilizarlo posteriormente. Esto nos ayuda a no tener que repetir código, manteniendo nuestro progama corto y por ende más manejable.\n",
        "\n",
        "La sintaxis para definir una función es:\n",
        "\n",
        "```python\n",
        "def funcion(parametro1, parametro2,...):\n",
        "  instruccion1\n",
        "  instruccion2\n",
        "  ...\n",
        "```\n",
        "\n",
        "❓La siguiente celda define una función para la temporada, llamada `arbolito`. NO la ejecutes aún. En una nueva celda, intenta ejecutar `arbolito()`. Registra en una celda de texto el error que te aparece. Luego ejecuta la celda que define a `arbolito`, y vuelve a ejecutar la celda con `arbolito()`.\n",
        "\n"
      ],
      "metadata": {
        "id": "Ux5vsWZFrRbT"
      }
    },
    {
      "cell_type": "code",
      "source": [
        "def axolote():\n",
        "  print('''\n",
        "⠀⠀⠀⢀⠀⠀⠀⠀⠀⠀⠀⣀⣀⡤⠤⠤⠤⣄⣀⡀⠀⠀⠀⠀⠀⠀⠀⠀⠀⠀\n",
        "⠀⠀⢴⠋⠙⠳⣤⡀⣠⠖⠋⠁⠀⠀⠀⠀⠀⠀⠀⠉⠓⠤⡀⣠⡴⠟⠛⣷⠀⠀\n",
        "⠀⠀⠈⠳⢤⣀⢈⠟⠁⠀⠀⠀⠀⠀⠀⠀⠀⠀⠀⠀⠀⠀⠘⢏⣀⣠⡴⠋⠀⠀\n",
        "⢀⣠⣤⣄⣄⣉⡏⠀⠀⠀⠀⠀⠀⠀⠀⠀⠀⠀⠀⠀⠀⠀⠀⠈⣇⣡⣤⡴⣦⣀\n",
        "⢹⣅⡀⠀⠀⠈⡇⠀⠀⠀⠀⠀⠀⠀⠀⠀⠀⠀⠀⠀⠀⠀⠀⠀⡏⠁⠀⢀⣠⠏\n",
        "⠀⠈⠙⠉⢋⣉⣇⠀⠀⣾⣷⠄⠀⠀⠀⠀⠀⠀⠀⢴⣿⡆⠀⢀⣿⡙⠋⠋⠀⠀\n",
        "⠀⠀⢤⠶⠋⠉⢈⣦⡀⠈⠉⠀⠀⠀⠉⠉⠉⠀⠀⠀⠉⠀⣠⣎⠈⠉⠛⢷⡀⠀\n",
        "⠀⠀⠻⣤⣤⠶⠋⠀⠈⠑⠠⠄⣀⣀⣀⣀⣀⣀⡀⠤⠐⠉⠀⠈⠻⠶⠖⠶⠃⠀\n",
        "⠀⠀⠀⠀⠀⠀⠀⠀⠀⠀⠀⢠⠃⠤⡀⠀⡠⠤⢱⠀⠀⠀⠀⠀⠀⠀⠀⠀⠀⠀\n",
        "⠀⠀⠀⠀⠀⠀⠀⠀⠀⠀⠀⡎⠀⠉⠁⠀⠉⠉⠀⡇⠀⠀⠀⠀⠀⠀⠀⠀⠀⠀\n",
        "⠀⠀⠀⠀⠀⠀⠀⠀⠀⠀⠀⡇⢀⠤⡀⠀⡠⢄⢀⠇⠀⠀⠀⠀⠀⠀⠀⠀⠀⠀\n",
        "⠀⠀⠀⠀⠀⠀⠀⠀⠀⠀⠀⠘⠢⣀⣀⣀⣈⡠⠊⠀⠀⠀⠀⠀⠀⠀⠀⠀⠀⠀\n",
        "⠀⠀⠀⠀⠀⠀⠀⠀⠀⠀⠀⠀⠀⡌⡇⠀⣎⠇⠀⠀⠀⠀⠀⠀⠀⠀⠀⠀⠀⠀\n",
        "⠀⠀⠀⠀⠀⠀⠀⠀⠀⠀⠀⠀⠀⢡⡇⣸⠜⠀⠀⠀⠀⠀⠀⠀⠀⠀⠀⠀⠀⠀\n",
        "⠀⠀⠀⠀⠀⠀⠀⠀⠀⠀⠀⠀⠀⠀⠓⠉⠀⠀⠀⠀⠀⠀''')"
      ],
      "metadata": {
        "id": "j_UbEeEf-XwZ"
      },
      "execution_count": 2,
      "outputs": []
    },
    {
      "cell_type": "code",
      "source": [
        "arbolito()"
      ],
      "metadata": {
        "id": "253Y50lnxXWp",
        "outputId": "595fe574-b83b-4444-ec99-25e50d558b08",
        "colab": {
          "base_uri": "https://localhost:8080/"
        }
      },
      "execution_count": 4,
      "outputs": [
        {
          "output_type": "stream",
          "name": "stdout",
          "text": [
            "\n",
            "⠀⠀⠀⢀⠀⠀⠀⠀⠀⠀⠀⣀⣀⡤⠤⠤⠤⣄⣀⡀⠀⠀⠀⠀⠀⠀⠀⠀⠀⠀\n",
            "⠀⠀⢴⠋⠙⠳⣤⡀⣠⠖⠋⠁⠀⠀⠀⠀⠀⠀⠀⠉⠓⠤⡀⣠⡴⠟⠛⣷⠀⠀\n",
            "⠀⠀⠈⠳⢤⣀⢈⠟⠁⠀⠀⠀⠀⠀⠀⠀⠀⠀⠀⠀⠀⠀⠘⢏⣀⣠⡴⠋⠀⠀\n",
            "⢀⣠⣤⣄⣄⣉⡏⠀⠀⠀⠀⠀⠀⠀⠀⠀⠀⠀⠀⠀⠀⠀⠀⠈⣇⣡⣤⡴⣦⣀\n",
            "⢹⣅⡀⠀⠀⠈⡇⠀⠀⠀⠀⠀⠀⠀⠀⠀⠀⠀⠀⠀⠀⠀⠀⠀⡏⠁⠀⢀⣠⠏\n",
            "⠀⠈⠙⠉⢋⣉⣇⠀⠀⣾⣷⠄⠀⠀⠀⠀⠀⠀⠀⢴⣿⡆⠀⢀⣿⡙⠋⠋⠀⠀\n",
            "⠀⠀⢤⠶⠋⠉⢈⣦⡀⠈⠉⠀⠀⠀⠉⠉⠉⠀⠀⠀⠉⠀⣠⣎⠈⠉⠛⢷⡀⠀\n",
            "⠀⠀⠻⣤⣤⠶⠋⠀⠈⠑⠠⠄⣀⣀⣀⣀⣀⣀⡀⠤⠐⠉⠀⠈⠻⠶⠖⠶⠃⠀\n",
            "⠀⠀⠀⠀⠀⠀⠀⠀⠀⠀⠀⢠⠃⠤⡀⠀⡠⠤⢱⠀⠀⠀⠀⠀⠀⠀⠀⠀⠀⠀\n",
            "⠀⠀⠀⠀⠀⠀⠀⠀⠀⠀⠀⡎⠀⠉⠁⠀⠉⠉⠀⡇⠀⠀⠀⠀⠀⠀⠀⠀⠀⠀\n",
            "⠀⠀⠀⠀⠀⠀⠀⠀⠀⠀⠀⡇⢀⠤⡀⠀⡠⢄⢀⠇⠀⠀⠀⠀⠀⠀⠀⠀⠀⠀\n",
            "⠀⠀⠀⠀⠀⠀⠀⠀⠀⠀⠀⠘⠢⣀⣀⣀⣈⡠⠊⠀⠀⠀⠀⠀⠀⠀⠀⠀⠀⠀\n",
            "⠀⠀⠀⠀⠀⠀⠀⠀⠀⠀⠀⠀⠀⡌⡇⠀⣎⠇⠀⠀⠀⠀⠀⠀⠀⠀⠀⠀⠀⠀\n",
            "⠀⠀⠀⠀⠀⠀⠀⠀⠀⠀⠀⠀⠀⢡⡇⣸⠜⠀⠀⠀⠀⠀⠀⠀⠀⠀⠀⠀⠀⠀\n",
            "⠀⠀⠀⠀⠀⠀⠀⠀⠀⠀⠀⠀⠀⠀⠓⠉⠀⠀⠀⠀⠀⠀\n"
          ]
        }
      ]
    },
    {
      "cell_type": "code",
      "source": [
        "()"
      ],
      "metadata": {
        "id": "xiQXqRyTsGBD"
      },
      "execution_count": null,
      "outputs": []
    },
    {
      "cell_type": "markdown",
      "source": [
        "Como habrás notado, colocar parámetros en la función es opcional. Los parámetros son variables que **solamente** van a ser utilizados dentro de la función. Esto nos permite ajustar el resultado de nuestra función.\n",
        "\n",
        "Vamos a definir una función para calcular distancia euclidiana a partir de dos coordenadas:\n",
        "$$d=\\sqrt{(\\Delta x^2+ \\Delta y^2+ \\Delta z^2}$$\n",
        "$$d=\\sqrt{((x_2-x_1)^2+ (y_2-y_1)^2+ (z_2-z_1)^2}$$\n",
        "\n",
        "❓ Crea una función `distancia1` que tome como parámetros cada una de las componentes de las coordenadas. Puedes llamar a estos parámetros como x1, x2, y1, y2, z1 y z2. Dentro de la función, guarda en una variable `dist` el cálculo de la distancia e imprime un mensaje con dicho valor. Prueba la función usando las coordenadas (0,0,0) y (10,10,10).\n",
        "\n",
        "❓¿Qué pasa si intentas imprimir el valor de `dist` fuera de la función?"
      ],
      "metadata": {
        "id": "HsWxh-v5rWbL"
      }
    },
    {
      "cell_type": "code",
      "source": [],
      "metadata": {
        "id": "pL3iWns4wCjJ"
      },
      "execution_count": null,
      "outputs": []
    },
    {
      "cell_type": "markdown",
      "source": [
        "Los parámetros son utilizados como nombres dentro de la función de los datos que damos al *llamar a la función*. Los tipos de datos que podemos pasar no están restringidos, pero debemos tener cuidado sobre que hacemos con ellos dentro de la función.\n",
        "\n",
        "❓En una nueva celda de código, crea una copia de la definición de `distancia1` para crear una función `distancia2`. En lugar de tomar como parámetros cada componente de las coordenadas, considera solo dos parámetros `coordenada1` y `coordenada2`. Dentro de la función, utiliza ambos parámetros como si fueran listas con forma `[x1,y1,z1]` y `[x2,y2,z2]`. Prueba la función (define dos listas con coordenadas (0,0,0) y (10,10,10)) y verifica el resultado."
      ],
      "metadata": {
        "id": "_3WIq3tOwetj"
      }
    },
    {
      "cell_type": "markdown",
      "source": [
        "### `return`\n",
        "\n",
        "Hasta ahora, las funciones declaradas solamente imprimen mensajes. No podríamos utilizarlas como a las funciones `round()` o `abs()`, las cuales dan como resultado un dato que podemos manipular (por ejemplo, podemos ejecutar `3+abs(-2)` y obtener un resultado.\n",
        "\n",
        "Para que una función *regrese* un dato, debemos de utilizar la instrucción `return`, la cuál indica que dato o datos vamos a regresar. La sintaxis es `return dato1, dato2, ...`\n",
        "\n",
        "❓Escribe una nueva función `distancia3`, que regrese la distancia calculada. Guarda el resultado en una variable.\n",
        "\n"
      ],
      "metadata": {
        "id": "yX-VG4CUrsH9"
      }
    },
    {
      "cell_type": "markdown",
      "source": [
        "### Alcance de variables\n",
        "\n",
        "Como se vio previamente, las variables definidas dentro de una función, así como sus variables no son accesibles fuera de la función. En general esto será así, pero hay dos casos que debemos tener presentes.\n",
        "\n",
        "❓En una nueva función (`distancia4`), usando variables como argumentos, después de calcular la distancia modifica alguno de los argumentos (argumento = 2 * 4, por ejemplo). Luego llama a la función (fuera de la función) y verifica si fue modificada la variable utilizada como argumento.\n",
        "\n",
        "\n"
      ],
      "metadata": {
        "id": "F_WCEwfyt6IL"
      }
    },
    {
      "cell_type": "markdown",
      "source": [
        "El primero es que podemos crear variables de alcance *global*, a las cuales podemos acceder dentro y fuera de una función. En programación está desaconsejado usar este tipo de variable. No las trataremos en el curso pero puedes investigar sobre como utilizarlas.\n",
        "\n",
        "El segundo caso son las listas y otros iterables. Cuando pasamos una lista, al igual que con otros tipos de argumentos, estamos creando una copia local solo utilizable dentro de la función. Pero en el caso de algunos objetos formados por múltiples datos, esa copia tiene conocimiento de la dirección de memoria de la variable original. Por ello algunos tipos de modificaciones, como cuando usamos `append`, pueden alterar a nuestra variable original. En general, es preferente crear una nueva lista y regresar esta en lugar de modificar la lista original, pues realizar esto sin cuidado puede traer errores o resultar confuso.\n",
        "\n",
        "❓Crea una función `agregar_ligando`, con argumentos `complejo` y `ligando`. En la función, utiliza `append` para agregar ligando al final de complejo. Fuera de la función, crea una lista `catalizador = ['Ru', 'Cl', 'PPh3']`. Usando la función `agregar_ligando` tres veces, añade otro ligando *Cl* y dos ligandos *PPh3* mas. Imprime la lista para verificar el cambio."
      ],
      "metadata": {
        "id": "CnPDDuB-v19s"
      }
    },
    {
      "cell_type": "markdown",
      "source": [
        "### Argumentos posicionales\n",
        "\n",
        "Las funciones que hemos utilizado asignan los datos utilizados cuando son empleadas en orden. En el caso de `distancia2`, siempre el primer dato va a utilizarse como `coordenada1` y el segundo como `coordenada2`. Este tipo de argumentos se les conoce como posicionales, dada esta característica.\n",
        "\n",
        "También podemos utilizar *argumentos por palabra clave*. Usemos el siguiente ejemplo para entender como funcionan.\n",
        "\n",
        "❓En la siguiente celda de código se define una función para imprimir el simbolo de un isotopo a partir de el número de protones y el número de neutrones. Utiliza esta función sin argumentos y comenta el resultado. Luego, utilizala para imprimir el isotopo que corresponde con 6 protones y 8 neutrones. Vuelve a usar la función, pero usando `isotopo(neutrones=8, protones=6)` y comenta el resultado."
      ],
      "metadata": {
        "id": "jvoqPUGXzmxq"
      }
    },
    {
      "cell_type": "code",
      "source": [
        "# Podemos definir parametros por palabras clave o keyword\n",
        "def isotopo(protones=1, neutrones=0):\n",
        "    elementos = ('H', 'He', 'Li', 'Be', 'B', 'C', 'N', 'O', 'F', 'Ne')\n",
        "    simbolo = elementos[protones - 1]\n",
        "    masa = protones + neutrones\n",
        "    print(str(masa) + simbolo)"
      ],
      "metadata": {
        "id": "hW3jswLu0sVK"
      },
      "execution_count": null,
      "outputs": []
    },
    {
      "cell_type": "markdown",
      "source": [
        "### Docstrings\n",
        "\n",
        "Cuando usamos funciones puede resultar muy útil comentar como funciona, principalmente mencionando que tipos de datos deberiamos de utilizar como argumentos y que tipo de datos va a regresar. Podemos comentar usando `#`, pero es más recomentable usar lo que se conoce como `docstring`. Ejecuta la siguiente celda, que tiene una versión comentada de la función distancia:"
      ],
      "metadata": {
        "id": "YVlkO6zH1wDT"
      }
    },
    {
      "cell_type": "code",
      "source": [
        "# Podemos documentar nuestras funciones usando docstrings\n",
        "def distanciaN(coord1, coord2):\n",
        "    '''(lista/tupla, lista/tupla) -> float\n",
        "    Toma las coordenadas cartesianas, en listas o tuplas,\n",
        "    de dos atomos y regresa la distancia entre ambos.\n",
        "\n",
        "    distancia((1,2,3), (4,5,6)) -> 5.196152422706632\n",
        "    '''\n",
        "\n",
        "    # Diferencias entre las coordenadas x, y, z\n",
        "    dx = coord1[0] - coord2[0]\n",
        "    dy = coord1[1] - coord2[1]\n",
        "    dz = coord1[2] - coord2[2]\n",
        "    d = (dx**2 + dy**2 + dz**2)**(0.5)\n",
        "\n",
        "    return d"
      ],
      "metadata": {
        "id": "aoxndk_-2YXH"
      },
      "execution_count": null,
      "outputs": []
    },
    {
      "cell_type": "markdown",
      "source": [
        "Luego, en la siguiente celda escribe el nombre de la función, coloca tu cursos sobre el nombre y observa qué efecto tiene."
      ],
      "metadata": {
        "id": "bxx4NECc2cOH"
      }
    },
    {
      "cell_type": "code",
      "source": [],
      "metadata": {
        "id": "VwmQ0fK9y7Hi"
      },
      "execution_count": null,
      "outputs": []
    },
    {
      "cell_type": "markdown",
      "source": [
        "## Tarea\n",
        "\n",
        "1. Crea y prueba, haciendo uso de, funciones que resuelvan los siguientes problemas:\n",
        "\n",
        " 1. Calculadora del gas ideal (calcular una variable dadas las demás).\n",
        " 2. Calculadora de decaimiento radioactivo (indica la concentración dadas $n$ vidas medias).\n",
        " 3. Calculadora de número de moléculas (da el número de moléculas dada la formula mínima, para compuestos con elementos de las primeras dos filas).\n",
        " 4. Ecuación de Henderson-Hasselbalch."
      ],
      "metadata": {
        "id": "ylYI8qTW-Gxd"
      }
    },
    {
      "cell_type": "code",
      "source": [],
      "metadata": {
        "id": "8graavtuGZTM"
      },
      "execution_count": null,
      "outputs": []
    }
  ]
}