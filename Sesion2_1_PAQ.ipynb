{
  "nbformat": 4,
  "nbformat_minor": 0,
  "metadata": {
    "colab": {
      "provenance": [],
      "authorship_tag": "ABX9TyN/3A26XlAvORqR9wOnDimd",
      "include_colab_link": true
    },
    "kernelspec": {
      "name": "python3",
      "display_name": "Python 3"
    },
    "language_info": {
      "name": "python"
    }
  },
  "cells": [
    {
      "cell_type": "markdown",
      "metadata": {
        "id": "view-in-github",
        "colab_type": "text"
      },
      "source": [
        "<a href=\"https://colab.research.google.com/github/molecular-mar/molecular-mar.github.io/blob/master/Sesion2_1_PAQ.ipynb\" target=\"_parent\"><img src=\"https://colab.research.google.com/assets/colab-badge.svg\" alt=\"Open In Colab\"/></a>"
      ]
    },
    {
      "cell_type": "markdown",
      "source": [
        "# Principios de programación 1\n",
        "---"
      ],
      "metadata": {
        "id": "Tu_PRIDRA_rK"
      }
    },
    {
      "cell_type": "markdown",
      "source": [
        "## Aritmética\n",
        "\n",
        "En Python podemos realizar operaciones aritméticas, tal y como si trabajaramos con una calculadora. Para ello, comencemos a hacer uso de bloques de código. Sigue las instrucciones del instructor para crear un bloque de este tipo."
      ],
      "metadata": {
        "id": "_ONM6juNBVXG"
      }
    },
    {
      "cell_type": "markdown",
      "source": [
        "Ahora, veamos como Python funciona como una calculadora:\n",
        "\n",
        "❓Completa la siguiente tabla:\n",
        "\n",
        "|Operación|Operador|\n",
        "|:---:|:---:|\n",
        "|Suma||\n",
        "|Resta||\n",
        "|Multiplicación||\n",
        "|División||\n",
        "||//|\n",
        "||**|\n",
        "||%|\n",
        "\n",
        "Para completar la tabla, realiza pruebas en celdas/bloques de código separadas. Registra en un bloque de texto al menos una forma de *evaluar/ejecutar* la celda de código."
      ],
      "metadata": {
        "id": "BEz7cSh6Es0f"
      }
    },
    {
      "cell_type": "code",
      "execution_count": null,
      "metadata": {
        "colab": {
          "base_uri": "https://localhost:8080/"
        },
        "id": "9a4RsfXOA4uQ",
        "outputId": "67d68156-e5c5-4fbe-b073-45644b6c8b9c"
      },
      "outputs": [
        {
          "output_type": "execute_result",
          "data": {
            "text/plain": [
              "50"
            ]
          },
          "metadata": {},
          "execution_count": 1
        }
      ],
      "source": [
        "49+1"
      ]
    },
    {
      "cell_type": "markdown",
      "source": [
        "### Para ejecutar una celda de código:"
      ],
      "metadata": {
        "id": "nHZp8vcP1x9g"
      }
    },
    {
      "cell_type": "markdown",
      "source": [
        "### ¿Cómo funciona Colab?\n",
        "\n",
        "Cuando"
      ],
      "metadata": {
        "id": "ORwHKFzq0RdQ"
      }
    },
    {
      "cell_type": "markdown",
      "source": [
        "Hay un orden de evaluación de las operaciones. Y al igual que en las operaciones matemáticas, podemos agrupar usando paréntesis.\n",
        "\n",
        "Ejemplo: $$3+((5-2)/2))$$\n",
        "\n",
        "❓Escribe cuál es el ordén típico de las operaciones. Luego, en celdas separadas verifica si este orden es respetado en Python. Anota tus observaciones en comentarios:\n",
        "\n",
        "```python\n",
        "# Los comentarios comienzan por un gato en los bloques de código.\n",
        "```\n",
        "\n"
      ],
      "metadata": {
        "id": "bKy-aeHdWt9n"
      }
    },
    {
      "cell_type": "markdown",
      "source": [
        "### *Extra*:\n",
        "En Python, existen algunas *convenciones* de formato estándar, que buscan mejorar la lectura del código. Una de ellas es separar por un espacio al operador de sus operandos:\n",
        "\n",
        "\n",
        "\n",
        "```python\n",
        "3 + 3 - (5 * 10) #Nota los espacios. También, nota la ubicación de este comentario\n",
        "```\n",
        "\n"
      ],
      "metadata": {
        "id": "xyVImjdkX2nG"
      }
    },
    {
      "cell_type": "markdown",
      "source": [
        "## Tipos numéricos: int y float\n",
        "\n",
        "❓ Intenta las siguientes operaciones en bloques de código separados. Documenta tus observaciones.\n",
        "\n",
        "* 3*6\n",
        "* 3.0*6\n",
        "* 2/3\n",
        "* (7+8)/12"
      ],
      "metadata": {
        "id": "JDioPuPCZ3KW"
      }
    },
    {
      "cell_type": "code",
      "source": [
        "3.0*6"
      ],
      "metadata": {
        "colab": {
          "base_uri": "https://localhost:8080/"
        },
        "id": "sPKbIpDnX10c",
        "outputId": "921c57a2-b444-4aab-868c-705c8ac6fcba"
      },
      "execution_count": null,
      "outputs": [
        {
          "output_type": "execute_result",
          "data": {
            "text/plain": [
              "18.0"
            ]
          },
          "metadata": {},
          "execution_count": 4
        }
      ]
    },
    {
      "cell_type": "markdown",
      "source": [
        "En una computadora, los números *enteros* y los *reales* se representan de formas diferentes.\n",
        "\n",
        "A un dato numérico entero se les conoce como ``` int ```, y a un número real como ``` float ``` (en español, se les dice *de punto flotante*).\n",
        "\n",
        "En general, los ```int``` requieren menos memoria que los ```float```.\n",
        "\n",
        "---"
      ],
      "metadata": {
        "id": "uJjaYIN8cDzC"
      }
    },
    {
      "cell_type": "markdown",
      "source": [
        "## Algunas funciones aritméticas básicas\n",
        "\n",
        "Otras operaciones matemáticas aparecen como *funciones*. Recordemos las funciones matemáticas:\n",
        "$f(x)=y,$\n",
        "donde *f* es la función, *x* el argumento y, en este contexto, llamaremos a *y* como resultado. De forma análoga, una función en Python acepta uno o varios argumentos, y regresa uno o varios resultados. Lo veremos a detalle más adelante.\n",
        "\n",
        "❓ Prueba las siguientes funciones, usando celdas de código individuales y probando con números enteros y reales.\n",
        "\n",
        "```python\n",
        "abs()\n",
        "round()\n",
        "```"
      ],
      "metadata": {
        "id": "o4TAASxReKIY"
      }
    },
    {
      "cell_type": "code",
      "source": [],
      "metadata": {
        "id": "TvRP8vYZ7mQB"
      },
      "execution_count": null,
      "outputs": []
    },
    {
      "cell_type": "markdown",
      "source": [
        "Existen funciones que cambian el tipo numérico de un dato.```int()``` convierte a tipo entero. ```float()``` a tipo flotante.\n",
        "\n",
        "❓ Prueba ambas funciones en celdas de código."
      ],
      "metadata": {
        "id": "jgmqUa7VZ8O7"
      }
    },
    {
      "cell_type": "code",
      "source": [],
      "metadata": {
        "id": "gXRFIF_Gcu44"
      },
      "execution_count": null,
      "outputs": []
    },
    {
      "cell_type": "markdown",
      "source": [
        "## Tarea\n",
        "\n",
        "En un nuevo notebook, escribe un documento que contenga lo siguiente:\n",
        "\n",
        "* Tres ejemplos de cantidades en Química que puedan escribirse usando enteros.\n",
        "\n",
        "* Tres ejemplos de cantidades en Química que se escriban como tipo flotante.\n",
        "\n",
        "Cada ejemplo debe estar justificado (¿Por qué no escribirlo con el otro tipo, o por qué es más conveniente el que elegiste?). Incluye al menos una operación algebraica por cada ejemplo en un bloque de código y ejecutala, haciendo uso al menos una vez de cada una de las operaciones revisadas.\n",
        "\n",
        "Finalmente, escribe un bloque de texto describiendo las funciones revisadas, y bloques de código donde hagas uso de las mismas."
      ],
      "metadata": {
        "id": "7FMLTKxmcwFo"
      }
    },
    {
      "cell_type": "code",
      "source": [],
      "metadata": {
        "id": "txnXrgYG0FY8"
      },
      "execution_count": null,
      "outputs": []
    }
  ]
}