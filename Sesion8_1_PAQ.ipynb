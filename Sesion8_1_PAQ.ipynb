{
  "nbformat": 4,
  "nbformat_minor": 0,
  "metadata": {
    "colab": {
      "provenance": [],
      "authorship_tag": "ABX9TyMVmknXF0ld67bTrj5upHau",
      "include_colab_link": true
    },
    "kernelspec": {
      "name": "python3",
      "display_name": "Python 3"
    },
    "language_info": {
      "name": "python"
    }
  },
  "cells": [
    {
      "cell_type": "markdown",
      "metadata": {
        "id": "view-in-github",
        "colab_type": "text"
      },
      "source": [
        "<a href=\"https://colab.research.google.com/github/molecular-mar/molecular-mar.github.io/blob/master/Sesion8_1_PAQ.ipynb\" target=\"_parent\"><img src=\"https://colab.research.google.com/assets/colab-badge.svg\" alt=\"Open In Colab\"/></a>"
      ]
    },
    {
      "cell_type": "markdown",
      "source": [
        "# Métodos numéricos\n",
        "---"
      ],
      "metadata": {
        "id": "Tu_PRIDRA_rK"
      }
    },
    {
      "cell_type": "markdown",
      "source": [
        "Existen dos métodos para la resolución de un problema matemático. El método analítico proviene del análisis de las expresiones matemáticas para establecer una solución precisa del problema en cuestión. Por ejemplo, cuando despejamos una variable o calculamos una integral indefinida encontramos una expresión *analítica*, en la cuál solo necesitamos introducir valores para un caso específico.\n",
        "\n",
        "Por otro lado, un método numérico no hace uso de una expresión final, sino que involucra el uso de un procedimiento con el cuál podemos acercarnos a un resultado en concreto. Se les conoce como numéricos ya que encontraremos solamente un resultado dado por un número.\n",
        "\n",
        "Las soluciones analíticas suelen ser preferidas, ya que nos brinda de una expresión que describe el problema matemático que estamos tratando y no solamente un valor, además de que dichas soluciones pueden considerarse exactas. Sin embargo, existen distintas razones para el uso de un método numérico:\n",
        "\n",
        "* El problema matemático no tiene una solución analítica (por ejemplo, algunas integrales indefinidas cuya solución se desconoce, o si contamos con los pares de datos de una función pero desconocemos su forma analítica).\n",
        "* Se prefiere en algún caso optar por un método numérico general que la busqueda de soluciones analíticas.\n",
        "* La solución analítica es intrincada y requiere de una cantidad considerable de cálculos comparado con una solución numérica.\n",
        "\n",
        "Los métodos numéricos no suelen ser empleados de forma manual en una libreta, dado que sería necesario el registro detallado y manual de los pasos intermedios y repetitivos que suelen involucrar. Con la llegada del cómputo estos métodos han tomado una mayor relevancia, ya que estos pueden ser programados y aprovechar los recursos de la computadora. Actualmente estos métodos permiten obtener resultados cuya precisión compite con la solución exacta."
      ],
      "metadata": {
        "id": "RuaoWiwsm6cW"
      }
    },
    {
      "cell_type": "markdown",
      "source": [
        "## Tarea\n",
        "\n",
        "Crea un notebook donde describas alguno de los siguientes métodos numéricos:\n",
        "\n",
        "* Integración numérica (suma de rectángulos, de trapecios, regla de Simpson)\n",
        "* Resolución de ecuaciones no lineales (bisección, secante, método de Newton)\n",
        "* Sistemas de ecuaciones lineales (eliminación gaussiana)\n",
        "* Ecuaciones diferenciales de primer orden (Euler, Euler mejorado, Runge-Kutta de cuarto orden)\n",
        "\n",
        "Puedes apoyarte del siguiente material:\n",
        "\n",
        "* Cedillo, A., Manual de prácticas para el curso Química Computacional, (http://www.fqt.izt.uam.mx/Profes/ACO/qcomp_n.pdf), 2004.\n",
        "\n",
        "La asignación del método que deberás abordar se indicará en clase.\n",
        "\n",
        "En cada caso, deberás documentar cómo funciona el método numérico y crear una función en Python para dicho método.\n",
        "\n",
        "La siguiente semana deberás compartir dicho Notebook con el grupo, para que puedan incluirlo en sus portafolios. En la entrega del portafolio deberán estar incluídos al menos dos métodos de los enlistados."
      ],
      "metadata": {
        "id": "J9VIQaPeJ0Zd"
      }
    },
    {
      "cell_type": "code",
      "source": [],
      "metadata": {
        "id": "8graavtuGZTM"
      },
      "execution_count": null,
      "outputs": []
    }
  ]
}